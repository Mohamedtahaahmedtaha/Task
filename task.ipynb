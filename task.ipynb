{
  "nbformat": 4,
  "nbformat_minor": 0,
  "metadata": {
    "colab": {
      "provenance": [],
      "mount_file_id": "1KNQc3ApiiBXEY7mhKj0Kv1n0jsvrhnVQ",
      "authorship_tag": "ABX9TyMRF6Cofj5b0QcWtyKnnALN",
      "include_colab_link": true
    },
    "kernelspec": {
      "name": "python3",
      "display_name": "Python 3"
    },
    "language_info": {
      "name": "python"
    },
    "widgets": {
      "application/vnd.jupyter.widget-state+json": {
        "500f7b4715cd41cc898e533820e0f66b": {
          "model_module": "@jupyter-widgets/controls",
          "model_name": "HBoxModel",
          "model_module_version": "1.5.0",
          "state": {
            "_dom_classes": [],
            "_model_module": "@jupyter-widgets/controls",
            "_model_module_version": "1.5.0",
            "_model_name": "HBoxModel",
            "_view_count": null,
            "_view_module": "@jupyter-widgets/controls",
            "_view_module_version": "1.5.0",
            "_view_name": "HBoxView",
            "box_style": "",
            "children": [
              "IPY_MODEL_2aac0fbd0b8f449f800dfe6759a48e94",
              "IPY_MODEL_1de0dce0609d4518a6f7df83f2565b52",
              "IPY_MODEL_7def21b83650437cb6e5491d034abf7e"
            ],
            "layout": "IPY_MODEL_38d68fd96b9746b4af09560599c7a1d4"
          }
        },
        "2aac0fbd0b8f449f800dfe6759a48e94": {
          "model_module": "@jupyter-widgets/controls",
          "model_name": "HTMLModel",
          "model_module_version": "1.5.0",
          "state": {
            "_dom_classes": [],
            "_model_module": "@jupyter-widgets/controls",
            "_model_module_version": "1.5.0",
            "_model_name": "HTMLModel",
            "_view_count": null,
            "_view_module": "@jupyter-widgets/controls",
            "_view_module_version": "1.5.0",
            "_view_name": "HTMLView",
            "description": "",
            "description_tooltip": null,
            "layout": "IPY_MODEL_ecd89d2d4fa04bcf82fdaa5d5f189f75",
            "placeholder": "​",
            "style": "IPY_MODEL_cd631657ff1f4a0290d2f30d68b93b3e",
            "value": "Summarize dataset:  69%"
          }
        },
        "1de0dce0609d4518a6f7df83f2565b52": {
          "model_module": "@jupyter-widgets/controls",
          "model_name": "FloatProgressModel",
          "model_module_version": "1.5.0",
          "state": {
            "_dom_classes": [],
            "_model_module": "@jupyter-widgets/controls",
            "_model_module_version": "1.5.0",
            "_model_name": "FloatProgressModel",
            "_view_count": null,
            "_view_module": "@jupyter-widgets/controls",
            "_view_module_version": "1.5.0",
            "_view_name": "ProgressView",
            "bar_style": "",
            "description": "",
            "description_tooltip": null,
            "layout": "IPY_MODEL_9f4512c2c8ce4ee3b93ab2d73bc2a57d",
            "max": 5,
            "min": 0,
            "orientation": "horizontal",
            "style": "IPY_MODEL_b99a5fb54bf941ee810254a42fffd058",
            "value": 5
          }
        },
        "7def21b83650437cb6e5491d034abf7e": {
          "model_module": "@jupyter-widgets/controls",
          "model_name": "HTMLModel",
          "model_module_version": "1.5.0",
          "state": {
            "_dom_classes": [],
            "_model_module": "@jupyter-widgets/controls",
            "_model_module_version": "1.5.0",
            "_model_name": "HTMLModel",
            "_view_count": null,
            "_view_module": "@jupyter-widgets/controls",
            "_view_module_version": "1.5.0",
            "_view_name": "HTMLView",
            "description": "",
            "description_tooltip": null,
            "layout": "IPY_MODEL_0a91c2f239eb481fa53c910a5472ebb2",
            "placeholder": "​",
            "style": "IPY_MODEL_abbe2d2ed8204e05b11c60ec1a8d37bd",
            "value": " 70/101 [00:22&lt;00:19,  1.57it/s, scatter length, avg_token_length]"
          }
        },
        "38d68fd96b9746b4af09560599c7a1d4": {
          "model_module": "@jupyter-widgets/base",
          "model_name": "LayoutModel",
          "model_module_version": "1.2.0",
          "state": {
            "_model_module": "@jupyter-widgets/base",
            "_model_module_version": "1.2.0",
            "_model_name": "LayoutModel",
            "_view_count": null,
            "_view_module": "@jupyter-widgets/base",
            "_view_module_version": "1.2.0",
            "_view_name": "LayoutView",
            "align_content": null,
            "align_items": null,
            "align_self": null,
            "border": null,
            "bottom": null,
            "display": null,
            "flex": null,
            "flex_flow": null,
            "grid_area": null,
            "grid_auto_columns": null,
            "grid_auto_flow": null,
            "grid_auto_rows": null,
            "grid_column": null,
            "grid_gap": null,
            "grid_row": null,
            "grid_template_areas": null,
            "grid_template_columns": null,
            "grid_template_rows": null,
            "height": null,
            "justify_content": null,
            "justify_items": null,
            "left": null,
            "margin": null,
            "max_height": null,
            "max_width": null,
            "min_height": null,
            "min_width": null,
            "object_fit": null,
            "object_position": null,
            "order": null,
            "overflow": null,
            "overflow_x": null,
            "overflow_y": null,
            "padding": null,
            "right": null,
            "top": null,
            "visibility": null,
            "width": null
          }
        },
        "ecd89d2d4fa04bcf82fdaa5d5f189f75": {
          "model_module": "@jupyter-widgets/base",
          "model_name": "LayoutModel",
          "model_module_version": "1.2.0",
          "state": {
            "_model_module": "@jupyter-widgets/base",
            "_model_module_version": "1.2.0",
            "_model_name": "LayoutModel",
            "_view_count": null,
            "_view_module": "@jupyter-widgets/base",
            "_view_module_version": "1.2.0",
            "_view_name": "LayoutView",
            "align_content": null,
            "align_items": null,
            "align_self": null,
            "border": null,
            "bottom": null,
            "display": null,
            "flex": null,
            "flex_flow": null,
            "grid_area": null,
            "grid_auto_columns": null,
            "grid_auto_flow": null,
            "grid_auto_rows": null,
            "grid_column": null,
            "grid_gap": null,
            "grid_row": null,
            "grid_template_areas": null,
            "grid_template_columns": null,
            "grid_template_rows": null,
            "height": null,
            "justify_content": null,
            "justify_items": null,
            "left": null,
            "margin": null,
            "max_height": null,
            "max_width": null,
            "min_height": null,
            "min_width": null,
            "object_fit": null,
            "object_position": null,
            "order": null,
            "overflow": null,
            "overflow_x": null,
            "overflow_y": null,
            "padding": null,
            "right": null,
            "top": null,
            "visibility": null,
            "width": null
          }
        },
        "cd631657ff1f4a0290d2f30d68b93b3e": {
          "model_module": "@jupyter-widgets/controls",
          "model_name": "DescriptionStyleModel",
          "model_module_version": "1.5.0",
          "state": {
            "_model_module": "@jupyter-widgets/controls",
            "_model_module_version": "1.5.0",
            "_model_name": "DescriptionStyleModel",
            "_view_count": null,
            "_view_module": "@jupyter-widgets/base",
            "_view_module_version": "1.2.0",
            "_view_name": "StyleView",
            "description_width": ""
          }
        },
        "9f4512c2c8ce4ee3b93ab2d73bc2a57d": {
          "model_module": "@jupyter-widgets/base",
          "model_name": "LayoutModel",
          "model_module_version": "1.2.0",
          "state": {
            "_model_module": "@jupyter-widgets/base",
            "_model_module_version": "1.2.0",
            "_model_name": "LayoutModel",
            "_view_count": null,
            "_view_module": "@jupyter-widgets/base",
            "_view_module_version": "1.2.0",
            "_view_name": "LayoutView",
            "align_content": null,
            "align_items": null,
            "align_self": null,
            "border": null,
            "bottom": null,
            "display": null,
            "flex": null,
            "flex_flow": null,
            "grid_area": null,
            "grid_auto_columns": null,
            "grid_auto_flow": null,
            "grid_auto_rows": null,
            "grid_column": null,
            "grid_gap": null,
            "grid_row": null,
            "grid_template_areas": null,
            "grid_template_columns": null,
            "grid_template_rows": null,
            "height": null,
            "justify_content": null,
            "justify_items": null,
            "left": null,
            "margin": null,
            "max_height": null,
            "max_width": null,
            "min_height": null,
            "min_width": null,
            "object_fit": null,
            "object_position": null,
            "order": null,
            "overflow": null,
            "overflow_x": null,
            "overflow_y": null,
            "padding": null,
            "right": null,
            "top": null,
            "visibility": null,
            "width": null
          }
        },
        "b99a5fb54bf941ee810254a42fffd058": {
          "model_module": "@jupyter-widgets/controls",
          "model_name": "ProgressStyleModel",
          "model_module_version": "1.5.0",
          "state": {
            "_model_module": "@jupyter-widgets/controls",
            "_model_module_version": "1.5.0",
            "_model_name": "ProgressStyleModel",
            "_view_count": null,
            "_view_module": "@jupyter-widgets/base",
            "_view_module_version": "1.2.0",
            "_view_name": "StyleView",
            "bar_color": null,
            "description_width": ""
          }
        },
        "0a91c2f239eb481fa53c910a5472ebb2": {
          "model_module": "@jupyter-widgets/base",
          "model_name": "LayoutModel",
          "model_module_version": "1.2.0",
          "state": {
            "_model_module": "@jupyter-widgets/base",
            "_model_module_version": "1.2.0",
            "_model_name": "LayoutModel",
            "_view_count": null,
            "_view_module": "@jupyter-widgets/base",
            "_view_module_version": "1.2.0",
            "_view_name": "LayoutView",
            "align_content": null,
            "align_items": null,
            "align_self": null,
            "border": null,
            "bottom": null,
            "display": null,
            "flex": null,
            "flex_flow": null,
            "grid_area": null,
            "grid_auto_columns": null,
            "grid_auto_flow": null,
            "grid_auto_rows": null,
            "grid_column": null,
            "grid_gap": null,
            "grid_row": null,
            "grid_template_areas": null,
            "grid_template_columns": null,
            "grid_template_rows": null,
            "height": null,
            "justify_content": null,
            "justify_items": null,
            "left": null,
            "margin": null,
            "max_height": null,
            "max_width": null,
            "min_height": null,
            "min_width": null,
            "object_fit": null,
            "object_position": null,
            "order": null,
            "overflow": null,
            "overflow_x": null,
            "overflow_y": null,
            "padding": null,
            "right": null,
            "top": null,
            "visibility": null,
            "width": null
          }
        },
        "abbe2d2ed8204e05b11c60ec1a8d37bd": {
          "model_module": "@jupyter-widgets/controls",
          "model_name": "DescriptionStyleModel",
          "model_module_version": "1.5.0",
          "state": {
            "_model_module": "@jupyter-widgets/controls",
            "_model_module_version": "1.5.0",
            "_model_name": "DescriptionStyleModel",
            "_view_count": null,
            "_view_module": "@jupyter-widgets/base",
            "_view_module_version": "1.2.0",
            "_view_name": "StyleView",
            "description_width": ""
          }
        }
      }
    }
  },
  "cells": [
    {
      "cell_type": "markdown",
      "metadata": {
        "id": "view-in-github",
        "colab_type": "text"
      },
      "source": [
        "<a href=\"https://colab.research.google.com/github/Mohamedtahaahmedtaha/Task/blob/main/task.ipynb\" target=\"_parent\"><img src=\"https://colab.research.google.com/assets/colab-badge.svg\" alt=\"Open In Colab\"/></a>"
      ]
    },
    {
      "cell_type": "code",
      "execution_count": 1,
      "metadata": {
        "colab": {
          "base_uri": "https://localhost:8080/"
        },
        "id": "FOBqTPWpaYMR",
        "outputId": "8fad486e-e32f-40dd-f99f-c8d14e1b12b8"
      },
      "outputs": [
        {
          "output_type": "stream",
          "name": "stdout",
          "text": [
            "Drive already mounted at /content/drive; to attempt to forcibly remount, call drive.mount(\"/content/drive\", force_remount=True).\n"
          ]
        }
      ],
      "source": [
        "from google.colab import drive\n",
        "drive.mount('/content/drive')"
      ]
    },
    {
      "cell_type": "markdown",
      "source": [
        "Importing required librares"
      ],
      "metadata": {
        "id": "TaVbGYZXZzZN"
      }
    },
    {
      "cell_type": "code",
      "source": [
        "import numpy as np\n",
        "import pandas as pd\n",
        "import matplotlib.pyplot as plt\n",
        "import seaborn as sns\n",
        "import plotly.express as px\n",
        "import os\n",
        "import glob"
      ],
      "metadata": {
        "collapsed": true,
        "id": "9ZQDeNfwbFAZ"
      },
      "execution_count": 2,
      "outputs": []
    },
    {
      "cell_type": "code",
      "metadata": {
        "id": "ad1338f8"
      },
      "source": [
        "base_path ='/content/drive/MyDrive/ task data'\n"
      ],
      "execution_count": 3,
      "outputs": []
    },
    {
      "cell_type": "code",
      "source": [
        "obf_path = os.path.join(base_path, 'obfuscated')\n",
        "non_obf_path = os.path.join(base_path, 'non-obfuscated')"
      ],
      "metadata": {
        "id": "D1vHjUUygmyV"
      },
      "execution_count": 4,
      "outputs": []
    },
    {
      "cell_type": "markdown",
      "source": [
        "Reading Data"
      ],
      "metadata": {
        "id": "UgKvFpzDZ7tu"
      }
    },
    {
      "cell_type": "code",
      "source": [
        "def read_scripts_from_folder(folder_path, label):\n",
        "    data = []\n",
        "    for filename in os.listdir(folder_path):\n",
        "        file_path = os.path.join(folder_path, filename)\n",
        "        try:\n",
        "            with open(file_path, 'r', encoding='utf-8', errors='ignore') as f:\n",
        "                content = f.read()\n",
        "                data.append((content, label))\n",
        "        except Exception as e:\n",
        "            print(f\"Error reading {file_path}: {e}\")\n",
        "    return data\n",
        "\n",
        "obf_data = read_scripts_from_folder(obf_path, 1)\n",
        "non_obf_data = read_scripts_from_folder(non_obf_path, 0)\n",
        "\n",
        "all_data = obf_data + non_obf_data\n",
        "data = pd.DataFrame(all_data, columns=['script', 'label'])\n",
        "\n",
        "data.head()"
      ],
      "metadata": {
        "colab": {
          "base_uri": "https://localhost:8080/",
          "height": 206
        },
        "id": "MHQnWkIggqvD",
        "outputId": "76b2272f-2f65-4381-f4e4-8bc4160b0ba6"
      },
      "execution_count": 5,
      "outputs": [
        {
          "output_type": "execute_result",
          "data": {
            "text/plain": [
              "                                              script  label\n",
              "0   \u0000(\u0000n\u0000e\u0000w\u0000-\u0000O\u0000b\u0000J\u0000E\u0000C\u0000T\u0000 \u0000 \u0000i\u0000o\u0000.\u0000c\u0000o\u0000M\u0000P\u0000r\u0000E\u0000...      1\n",
              "1  &\u0000(\u0000 \u0000$\u0000e\u0000n\u0000V\u0000:\u0000c\u0000O\u0000m\u0000S\u0000p\u0000e\u0000c\u0000[\u00004\u0000,\u00001\u00005\u0000,\u00002\u00005\u0000...      1\n",
              "2  F\u0000u\u0000n\u0000c\u0000t\u0000i\u0000o\u0000n\u0000 \u0000l\u0000i\u0000s\u0000T\u0000`\u0000-\u0000`\u0000N\u0000a\u0000v\u0000r\u0000E\u0000M\u0000O\u0000...      1\n",
              "3   \u0000(\u0000(\u0000'\u0000F\u0000u\u0000'\u0000+\u0000'\u0000n\u0000c\u0000t\u0000i\u0000o\u0000n\u0000 \u0000L\u0000i\u0000s\u0000t\u0000-\u0000N\u0000A\u0000...      1\n",
              "4  (\u0000 \u0000n\u0000E\u0000w\u0000-\u0000O\u0000B\u0000j\u0000e\u0000c\u0000t\u0000 \u0000 \u0000S\u0000Y\u0000s\u0000t\u0000E\u0000M\u0000.\u0000i\u0000O\u0000...      1"
            ],
            "text/html": [
              "\n",
              "  <div id=\"df-32a41695-cd1c-4b27-8264-827e80f53961\" class=\"colab-df-container\">\n",
              "    <div>\n",
              "<style scoped>\n",
              "    .dataframe tbody tr th:only-of-type {\n",
              "        vertical-align: middle;\n",
              "    }\n",
              "\n",
              "    .dataframe tbody tr th {\n",
              "        vertical-align: top;\n",
              "    }\n",
              "\n",
              "    .dataframe thead th {\n",
              "        text-align: right;\n",
              "    }\n",
              "</style>\n",
              "<table border=\"1\" class=\"dataframe\">\n",
              "  <thead>\n",
              "    <tr style=\"text-align: right;\">\n",
              "      <th></th>\n",
              "      <th>script</th>\n",
              "      <th>label</th>\n",
              "    </tr>\n",
              "  </thead>\n",
              "  <tbody>\n",
              "    <tr>\n",
              "      <th>0</th>\n",
              "      <td>\u0000(\u0000n\u0000e\u0000w\u0000-\u0000O\u0000b\u0000J\u0000E\u0000C\u0000T\u0000 \u0000 \u0000i\u0000o\u0000.\u0000c\u0000o\u0000M\u0000P\u0000r\u0000E\u0000...</td>\n",
              "      <td>1</td>\n",
              "    </tr>\n",
              "    <tr>\n",
              "      <th>1</th>\n",
              "      <td>&amp;\u0000(\u0000 \u0000$\u0000e\u0000n\u0000V\u0000:\u0000c\u0000O\u0000m\u0000S\u0000p\u0000e\u0000c\u0000[\u00004\u0000,\u00001\u00005\u0000,\u00002\u00005\u0000...</td>\n",
              "      <td>1</td>\n",
              "    </tr>\n",
              "    <tr>\n",
              "      <th>2</th>\n",
              "      <td>F\u0000u\u0000n\u0000c\u0000t\u0000i\u0000o\u0000n\u0000 \u0000l\u0000i\u0000s\u0000T\u0000`\u0000-\u0000`\u0000N\u0000a\u0000v\u0000r\u0000E\u0000M\u0000O\u0000...</td>\n",
              "      <td>1</td>\n",
              "    </tr>\n",
              "    <tr>\n",
              "      <th>3</th>\n",
              "      <td>\u0000(\u0000(\u0000'\u0000F\u0000u\u0000'\u0000+\u0000'\u0000n\u0000c\u0000t\u0000i\u0000o\u0000n\u0000 \u0000L\u0000i\u0000s\u0000t\u0000-\u0000N\u0000A\u0000...</td>\n",
              "      <td>1</td>\n",
              "    </tr>\n",
              "    <tr>\n",
              "      <th>4</th>\n",
              "      <td>(\u0000 \u0000n\u0000E\u0000w\u0000-\u0000O\u0000B\u0000j\u0000e\u0000c\u0000t\u0000 \u0000 \u0000S\u0000Y\u0000s\u0000t\u0000E\u0000M\u0000.\u0000i\u0000O\u0000...</td>\n",
              "      <td>1</td>\n",
              "    </tr>\n",
              "  </tbody>\n",
              "</table>\n",
              "</div>\n",
              "    <div class=\"colab-df-buttons\">\n",
              "\n",
              "  <div class=\"colab-df-container\">\n",
              "    <button class=\"colab-df-convert\" onclick=\"convertToInteractive('df-32a41695-cd1c-4b27-8264-827e80f53961')\"\n",
              "            title=\"Convert this dataframe to an interactive table.\"\n",
              "            style=\"display:none;\">\n",
              "\n",
              "  <svg xmlns=\"http://www.w3.org/2000/svg\" height=\"24px\" viewBox=\"0 -960 960 960\">\n",
              "    <path d=\"M120-120v-720h720v720H120Zm60-500h600v-160H180v160Zm220 220h160v-160H400v160Zm0 220h160v-160H400v160ZM180-400h160v-160H180v160Zm440 0h160v-160H620v160ZM180-180h160v-160H180v160Zm440 0h160v-160H620v160Z\"/>\n",
              "  </svg>\n",
              "    </button>\n",
              "\n",
              "  <style>\n",
              "    .colab-df-container {\n",
              "      display:flex;\n",
              "      gap: 12px;\n",
              "    }\n",
              "\n",
              "    .colab-df-convert {\n",
              "      background-color: #E8F0FE;\n",
              "      border: none;\n",
              "      border-radius: 50%;\n",
              "      cursor: pointer;\n",
              "      display: none;\n",
              "      fill: #1967D2;\n",
              "      height: 32px;\n",
              "      padding: 0 0 0 0;\n",
              "      width: 32px;\n",
              "    }\n",
              "\n",
              "    .colab-df-convert:hover {\n",
              "      background-color: #E2EBFA;\n",
              "      box-shadow: 0px 1px 2px rgba(60, 64, 67, 0.3), 0px 1px 3px 1px rgba(60, 64, 67, 0.15);\n",
              "      fill: #174EA6;\n",
              "    }\n",
              "\n",
              "    .colab-df-buttons div {\n",
              "      margin-bottom: 4px;\n",
              "    }\n",
              "\n",
              "    [theme=dark] .colab-df-convert {\n",
              "      background-color: #3B4455;\n",
              "      fill: #D2E3FC;\n",
              "    }\n",
              "\n",
              "    [theme=dark] .colab-df-convert:hover {\n",
              "      background-color: #434B5C;\n",
              "      box-shadow: 0px 1px 3px 1px rgba(0, 0, 0, 0.15);\n",
              "      filter: drop-shadow(0px 1px 2px rgba(0, 0, 0, 0.3));\n",
              "      fill: #FFFFFF;\n",
              "    }\n",
              "  </style>\n",
              "\n",
              "    <script>\n",
              "      const buttonEl =\n",
              "        document.querySelector('#df-32a41695-cd1c-4b27-8264-827e80f53961 button.colab-df-convert');\n",
              "      buttonEl.style.display =\n",
              "        google.colab.kernel.accessAllowed ? 'block' : 'none';\n",
              "\n",
              "      async function convertToInteractive(key) {\n",
              "        const element = document.querySelector('#df-32a41695-cd1c-4b27-8264-827e80f53961');\n",
              "        const dataTable =\n",
              "          await google.colab.kernel.invokeFunction('convertToInteractive',\n",
              "                                                    [key], {});\n",
              "        if (!dataTable) return;\n",
              "\n",
              "        const docLinkHtml = 'Like what you see? Visit the ' +\n",
              "          '<a target=\"_blank\" href=https://colab.research.google.com/notebooks/data_table.ipynb>data table notebook</a>'\n",
              "          + ' to learn more about interactive tables.';\n",
              "        element.innerHTML = '';\n",
              "        dataTable['output_type'] = 'display_data';\n",
              "        await google.colab.output.renderOutput(dataTable, element);\n",
              "        const docLink = document.createElement('div');\n",
              "        docLink.innerHTML = docLinkHtml;\n",
              "        element.appendChild(docLink);\n",
              "      }\n",
              "    </script>\n",
              "  </div>\n",
              "\n",
              "\n",
              "    <div id=\"df-1fdd2c0c-6784-4839-bb6b-fd7d7ba9dcda\">\n",
              "      <button class=\"colab-df-quickchart\" onclick=\"quickchart('df-1fdd2c0c-6784-4839-bb6b-fd7d7ba9dcda')\"\n",
              "                title=\"Suggest charts\"\n",
              "                style=\"display:none;\">\n",
              "\n",
              "<svg xmlns=\"http://www.w3.org/2000/svg\" height=\"24px\"viewBox=\"0 0 24 24\"\n",
              "     width=\"24px\">\n",
              "    <g>\n",
              "        <path d=\"M19 3H5c-1.1 0-2 .9-2 2v14c0 1.1.9 2 2 2h14c1.1 0 2-.9 2-2V5c0-1.1-.9-2-2-2zM9 17H7v-7h2v7zm4 0h-2V7h2v10zm4 0h-2v-4h2v4z\"/>\n",
              "    </g>\n",
              "</svg>\n",
              "      </button>\n",
              "\n",
              "<style>\n",
              "  .colab-df-quickchart {\n",
              "      --bg-color: #E8F0FE;\n",
              "      --fill-color: #1967D2;\n",
              "      --hover-bg-color: #E2EBFA;\n",
              "      --hover-fill-color: #174EA6;\n",
              "      --disabled-fill-color: #AAA;\n",
              "      --disabled-bg-color: #DDD;\n",
              "  }\n",
              "\n",
              "  [theme=dark] .colab-df-quickchart {\n",
              "      --bg-color: #3B4455;\n",
              "      --fill-color: #D2E3FC;\n",
              "      --hover-bg-color: #434B5C;\n",
              "      --hover-fill-color: #FFFFFF;\n",
              "      --disabled-bg-color: #3B4455;\n",
              "      --disabled-fill-color: #666;\n",
              "  }\n",
              "\n",
              "  .colab-df-quickchart {\n",
              "    background-color: var(--bg-color);\n",
              "    border: none;\n",
              "    border-radius: 50%;\n",
              "    cursor: pointer;\n",
              "    display: none;\n",
              "    fill: var(--fill-color);\n",
              "    height: 32px;\n",
              "    padding: 0;\n",
              "    width: 32px;\n",
              "  }\n",
              "\n",
              "  .colab-df-quickchart:hover {\n",
              "    background-color: var(--hover-bg-color);\n",
              "    box-shadow: 0 1px 2px rgba(60, 64, 67, 0.3), 0 1px 3px 1px rgba(60, 64, 67, 0.15);\n",
              "    fill: var(--button-hover-fill-color);\n",
              "  }\n",
              "\n",
              "  .colab-df-quickchart-complete:disabled,\n",
              "  .colab-df-quickchart-complete:disabled:hover {\n",
              "    background-color: var(--disabled-bg-color);\n",
              "    fill: var(--disabled-fill-color);\n",
              "    box-shadow: none;\n",
              "  }\n",
              "\n",
              "  .colab-df-spinner {\n",
              "    border: 2px solid var(--fill-color);\n",
              "    border-color: transparent;\n",
              "    border-bottom-color: var(--fill-color);\n",
              "    animation:\n",
              "      spin 1s steps(1) infinite;\n",
              "  }\n",
              "\n",
              "  @keyframes spin {\n",
              "    0% {\n",
              "      border-color: transparent;\n",
              "      border-bottom-color: var(--fill-color);\n",
              "      border-left-color: var(--fill-color);\n",
              "    }\n",
              "    20% {\n",
              "      border-color: transparent;\n",
              "      border-left-color: var(--fill-color);\n",
              "      border-top-color: var(--fill-color);\n",
              "    }\n",
              "    30% {\n",
              "      border-color: transparent;\n",
              "      border-left-color: var(--fill-color);\n",
              "      border-top-color: var(--fill-color);\n",
              "      border-right-color: var(--fill-color);\n",
              "    }\n",
              "    40% {\n",
              "      border-color: transparent;\n",
              "      border-right-color: var(--fill-color);\n",
              "      border-top-color: var(--fill-color);\n",
              "    }\n",
              "    60% {\n",
              "      border-color: transparent;\n",
              "      border-right-color: var(--fill-color);\n",
              "    }\n",
              "    80% {\n",
              "      border-color: transparent;\n",
              "      border-right-color: var(--fill-color);\n",
              "      border-bottom-color: var(--fill-color);\n",
              "    }\n",
              "    90% {\n",
              "      border-color: transparent;\n",
              "      border-bottom-color: var(--fill-color);\n",
              "    }\n",
              "  }\n",
              "</style>\n",
              "\n",
              "      <script>\n",
              "        async function quickchart(key) {\n",
              "          const quickchartButtonEl =\n",
              "            document.querySelector('#' + key + ' button');\n",
              "          quickchartButtonEl.disabled = true;  // To prevent multiple clicks.\n",
              "          quickchartButtonEl.classList.add('colab-df-spinner');\n",
              "          try {\n",
              "            const charts = await google.colab.kernel.invokeFunction(\n",
              "                'suggestCharts', [key], {});\n",
              "          } catch (error) {\n",
              "            console.error('Error during call to suggestCharts:', error);\n",
              "          }\n",
              "          quickchartButtonEl.classList.remove('colab-df-spinner');\n",
              "          quickchartButtonEl.classList.add('colab-df-quickchart-complete');\n",
              "        }\n",
              "        (() => {\n",
              "          let quickchartButtonEl =\n",
              "            document.querySelector('#df-1fdd2c0c-6784-4839-bb6b-fd7d7ba9dcda button');\n",
              "          quickchartButtonEl.style.display =\n",
              "            google.colab.kernel.accessAllowed ? 'block' : 'none';\n",
              "        })();\n",
              "      </script>\n",
              "    </div>\n",
              "\n",
              "    </div>\n",
              "  </div>\n"
            ],
            "application/vnd.google.colaboratory.intrinsic+json": {
              "type": "dataframe",
              "variable_name": "data",
              "summary": "{\n  \"name\": \"data\",\n  \"rows\": 990,\n  \"fields\": [\n    {\n      \"column\": \"script\",\n      \"properties\": {\n        \"dtype\": \"category\",\n        \"num_unique_values\": 480,\n        \"samples\": [\n          \"\\ufeff$date = Get-Date\\ngit add *\\ngit commit -m \\\"Configs for $date\\\"\\ngit push origin master 2> $null\\n\",\n          \"\\ufeffclear\\n\\n$starttime = [datetime]::Now\\n\\n. C:\\\\Github\\\\PoSh\\\\spsomlib.ps1\\n. C:\\\\Scripts\\\\SPSAuthData.ps1 # redefine $sitename, $username, $password \\n\\n$sitename = \\\"https://inblago.sharepoint.com\\\"\\n$cont = ConnectSPS -siteurl $sitename -user $username -password $password\\n\\n#clear current destinations\\nfunction ClearList($listname) {\\n\\t$items = RetrieveListItems -web $cont.Web -list $listname\\n\\tforeach ($item in $items) { \\n\\t\\t$item.DeleteObject()\\n\\t}\\n\\t$cont.ExecuteQuery()\\n}\\n\\n# Get collection of subsites\\n$cont.Web.Webs.RetrieveItems().Retrieve()\\n$cont.ExecuteQuery()\\n\\n\\n$baseweb = $cont.Web.Webs | where { $_.ServerRelativeURL -eq \\\"/funds\\\" } | Select -First 1\\n\\n$dest = @{}\\n\\nfunction ScanWebs($webs, $prefix, $list) {\\n\\t$webs | \\n\\t\\twhere {$_.Title -ne \\\"\\u0424\\u043e\\u043d\\u0434 \\u0428\\u0410\\u0411\\u041b\\u041e\\u041d\\\"} | \\n\\t\\tforeach { \\n\\t\\t\\t$web = $_\\n\\t\\t\\t$dest[$web.Title] = @{\\\"AbsoluteURL\\\"=$web.Url; \\\"Libraries\\\"=@{}}\\n\\t\\t\\tLoadObjectItems -cont $web.Context -object ([ref]$web.Lists) |\\n\\t\\t\\t\\twhere {-not  $_.Hidden } | \\n\\t\\t\\t\\tforeach {\\n\\t\\t\\t\\t\\t$destlist = LoadObject -cont $_.Context -object ([ref]$_)\\n\\t\\t\\t\\t\\t$dest[$web.Title][\\\"Libraries\\\"][$destlist.Title] = (LoadObject -cont $_.Context -object ([ref]$destlist.RootFolder)).ServerRelativeUrl\\n\\n#\\t\\t\\t\\t\\t$itemci = new-object Microsoft.SharePoint.Client.ListItemCreationInformation\\n#\\t\\t\\t\\t\\t$newitem = $list.AddItem($itemci)\\n#\\t\\t\\t\\t\\t$newitem[\\\"Title\\\"] = (\\\"{0}>{1}: {2}\\\" -f $prefix,$web.Title,$destlist.Title)\\n#\\t\\t\\t\\t\\t$newitem[\\\"FolderRelativeUrl\\\"] = $destlist.RootFolder.ServerRelativeUrl\\n#\\t\\t\\t\\t\\t$newitem[\\\"AbsoluteSiteUrl\\\"] = $web.Url\\n#\\t\\t\\t\\t\\t$newitem[\\\"IncludeMetadata\\\"] = $false\\n#\\t\\t\\t\\t\\t$newitem.Update()\\n\\t\\t\\t\\t}\\n\\t\\t}\\n\\t$cont.ExecuteQuery() \\n}\\n\\n#ClearList -listname \\\"\\u041d\\u0430\\u0441\\u0442\\u0440\\u043e\\u0439\\u043a\\u0438\\\"\\n$li = GetListInformation -web $cont.Web -list \\\"\\u041d\\u0430\\u0441\\u0442\\u0440\\u043e\\u0439\\u043a\\u0438\\\"\\n\\nScanWebs -webs (LoadObjectItems -cont $cont -object ([ref]$baseweb.Webs)) -list $li[\\\"List\\\"]\\n\",\n          \"##########\\n# Make Windows 10 Great Again\\n# Current Author: TokinRing <support@gnetsolutions.net>\\n# Current Version: 1.5 8-8-2016\\n#\\n# Forked from original script created by Disassembler <disassembler@dasm.cz>\\n# Original Version: 1.4, 2016-01-16\\n#\\n# NOTE: MAKE SURE YOU READ THIS SCRIPT CAREFULLY BEFORE RUNNING IT\\n##########\\n \\n# Ask for elevated permissions if required\\nIf (!([Security.Principal.WindowsPrincipal][Security.Principal.WindowsIdentity]::GetCurrent()).IsInRole([Security.Principal.WindowsBuiltInRole]\\\"Administrator\\\")) {\\n    Start-Process powershell.exe \\\"-NoProfile -ExecutionPolicy Bypass -File `\\\"$PSCommandPath`\\\"\\\" -Verb RunAs\\n    Exit\\n}\\n \\n##########\\n# Privacy Settings\\n##########\\n \\n# Disable Telemetry\\nWrite-Host \\\"Disabling Telemetry...\\\"\\nSet-ItemProperty -Path \\\"HKLM:\\\\Software\\\\Policies\\\\Microsoft\\\\Windows\\\\DataCollection\\\" -Name \\\"AllowTelemetry\\\" -Type DWord -Value 0\\n \\n# Enable Telemetry\\n# Remove-ItemProperty -Path \\\"HKLM:\\\\Software\\\\Policies\\\\Microsoft\\\\Windows\\\\DataCollection\\\" -Name \\\"AllowTelemetry\\\"\\n \\n# Disable Wi-Fi Sense\\nWrite-Host \\\"Disabling Wi-Fi Sense...\\\"\\nIf (!(Test-Path \\\"HKLM:\\\\Software\\\\Microsoft\\\\PolicyManager\\\\default\\\\WiFi\\\\AllowWiFiHotSpotReporting\\\")) {\\n    New-Item -Path \\\"HKLM:\\\\Software\\\\Microsoft\\\\PolicyManager\\\\default\\\\WiFi\\\\AllowWiFiHotSpotReporting\\\" -Force | Out-Null\\n}\\nSet-ItemProperty -Path \\\"HKLM:\\\\Software\\\\Microsoft\\\\PolicyManager\\\\default\\\\WiFi\\\\AllowWiFiHotSpotReporting\\\" -Name \\\"Value\\\" -Type DWord -Value 0\\nSet-ItemProperty -Path \\\"HKLM:\\\\Software\\\\Microsoft\\\\PolicyManager\\\\default\\\\WiFi\\\\AllowAutoConnectToWiFiSenseHotspots\\\" -Name \\\"Value\\\" -Type DWord -Value 0\\n \\n# Enable Wi-Fi Sense\\n# Set-ItemProperty -Path \\\"HKLM:\\\\Software\\\\Microsoft\\\\PolicyManager\\\\default\\\\WiFi\\\\AllowWiFiHotSpotReporting\\\" -Name \\\"Value\\\" -Type DWord -Value 1\\n# Set-ItemProperty -Path \\\"HKLM:\\\\Software\\\\Microsoft\\\\PolicyManager\\\\default\\\\WiFi\\\\AllowAutoConnectToWiFiSenseHotspots\\\" -Name \\\"Value\\\" -Type DWord -Value 1\\n \\n# Disable SmartScreen Filter\\n# Write-Host \\\"Disabling SmartScreen Filter...\\\"\\n# Set-ItemProperty -Path \\\"HKLM:\\\\Software\\\\Microsoft\\\\Windows\\\\CurrentVersion\\\\Explorer\\\" -Name \\\"SmartScreenEnabled\\\" -Type String -Value \\\"Off\\\"\\n# Set-ItemProperty -Path \\\"HKCU:\\\\Software\\\\Microsoft\\\\Windows\\\\CurrentVersion\\\\AppHost\\\" -Name \\\"EnableWebContentEvaluation\\\" -Type DWord -Value 0\\n \\n# Enable SmartScreen Filter\\n# Set-ItemProperty -Path \\\"HKLM:\\\\Software\\\\Microsoft\\\\Windows\\\\CurrentVersion\\\\Explorer\\\" -Name \\\"SmartScreenEnabled\\\" -Type String -Value \\\"RequireAdmin\\\"\\n# Remove-ItemProperty -Path \\\"HKCU:\\\\Software\\\\Microsoft\\\\Windows\\\\CurrentVersion\\\\AppHost\\\" -Name \\\"EnableWebContentEvaluation\\\"\\n \\n# Disable Bing Search in Start Menu\\nWrite-Host \\\"Disabling Bing Search in Start Menu...\\\"\\nSet-ItemProperty -Path \\\"HKCU:\\\\Software\\\\Microsoft\\\\Windows\\\\CurrentVersion\\\\Search\\\" -Name \\\"BingSearchEnabled\\\" -Type DWord -Value 0\\n \\n# Enable Bing Search in Start Menu\\n# Remove-ItemProperty -Path \\\"HKCU:\\\\Software\\\\Microsoft\\\\Windows\\\\CurrentVersion\\\\Search\\\" -Name \\\"BingSearchEnabled\\\"\\n \\n# Disable Location Tracking\\nWrite-Host \\\"Disabling Location Tracking...\\\"\\nSet-ItemProperty -Path \\\"HKLM:\\\\SOFTWARE\\\\Microsoft\\\\Windows NT\\\\CurrentVersion\\\\Sensor\\\\Overrides\\\\{BFA794E4-F964-4FDB-90F6-51056BFE4B44}\\\" -Name \\\"SensorPermissionState\\\" -Type DWord -Value 0\\nSet-ItemProperty -Path \\\"HKLM:\\\\System\\\\CurrentControlSet\\\\Services\\\\lfsvc\\\\Service\\\\Configuration\\\" -Name \\\"Status\\\" -Type DWord -Value 0\\n \\n# Enable Location Tracking\\n# Set-ItemProperty -Path \\\"HKLM:\\\\SOFTWARE\\\\Microsoft\\\\Windows NT\\\\CurrentVersion\\\\Sensor\\\\Overrides\\\\{BFA794E4-F964-4FDB-90F6-51056BFE4B44}\\\" -Name \\\"SensorPermissionState\\\" -Type DWord -Value 1\\n# Set-ItemProperty -Path \\\"HKLM:\\\\System\\\\CurrentControlSet\\\\Services\\\\lfsvc\\\\Service\\\\Configuration\\\" -Name \\\"Status\\\" -Type DWord -Value 1\\n \\n# Disable Feedback\\nWrite-Host \\\"Disabling Feedback...\\\"\\nIf (!(Test-Path \\\"HKCU:\\\\Software\\\\Microsoft\\\\Siuf\\\\Rules\\\")) {\\n    New-Item -Path \\\"HKCU:\\\\Software\\\\Microsoft\\\\Siuf\\\\Rules\\\" -Force | Out-Null\\n}\\nSet-ItemProperty -Path \\\"HKCU:\\\\Software\\\\Microsoft\\\\Siuf\\\\Rules\\\" -Name \\\"NumberOfSIUFInPeriod\\\" -Type DWord -Value 0\\n \\n# Enable Feedback\\n# Remove-ItemProperty -Path \\\"HKCU:\\\\Software\\\\Microsoft\\\\Siuf\\\\Rules\\\" -Name \\\"NumberOfSIUFInPeriod\\\"\\n \\n# Disable Advertising ID\\nWrite-Host \\\"Disabling Advertising ID...\\\"\\nIf (!(Test-Path \\\"HKCU:\\\\Software\\\\Microsoft\\\\Windows\\\\CurrentVersion\\\\AdvertisingInfo\\\")) {\\n    New-Item -Path \\\"HKCU:\\\\Software\\\\Microsoft\\\\Windows\\\\CurrentVersion\\\\AdvertisingInfo\\\" | Out-Null\\n}\\nSet-ItemProperty -Path \\\"HKCU:\\\\Software\\\\Microsoft\\\\Windows\\\\CurrentVersion\\\\AdvertisingInfo\\\" -Name \\\"Enabled\\\" -Type DWord -Value 0\\n \\n# Enable Advertising ID\\n# Remove-ItemProperty -Path \\\"HKCU:\\\\Software\\\\Microsoft\\\\Windows\\\\CurrentVersion\\\\AdvertisingInfo\\\" -Name \\\"Enabled\\\"\\n \\n# Disable Cortana\\nWrite-Host \\\"Disabling Cortana...\\\"\\nIf (!(Test-Path \\\"HKCU:\\\\Software\\\\Microsoft\\\\Personalization\\\\Settings\\\")) {\\n    New-Item -Path \\\"HKCU:\\\\Software\\\\Microsoft\\\\Personalization\\\\Settings\\\" -Force | Out-Null\\n}\\nSet-ItemProperty -Path \\\"HKCU:\\\\Software\\\\Microsoft\\\\Personalization\\\\Settings\\\" -Name \\\"AcceptedPrivacyPolicy\\\" -Type DWord -Value 0\\nIf (!(Test-Path \\\"HKCU:\\\\Software\\\\Microsoft\\\\InputPersonalization\\\")) {\\n    New-Item -Path \\\"HKCU:\\\\Software\\\\Microsoft\\\\InputPersonalization\\\" -Force | Out-Null\\n}\\nSet-ItemProperty -Path \\\"HKCU:\\\\Software\\\\Microsoft\\\\InputPersonalization\\\" -Name \\\"RestrictImplicitTextCollection\\\" -Type DWord -Value 1\\nSet-ItemProperty -Path \\\"HKCU:\\\\Software\\\\Microsoft\\\\InputPersonalization\\\" -Name \\\"RestrictImplicitInkCollection\\\" -Type DWord -Value 1\\nIf (!(Test-Path \\\"HKCU:\\\\Software\\\\Microsoft\\\\InputPersonalization\\\\TrainedDataStore\\\")) {\\n    New-Item -Path \\\"HKCU:\\\\Software\\\\Microsoft\\\\InputPersonalization\\\\TrainedDataStore\\\" -Force | Out-Null\\n}\\nSet-ItemProperty -Path \\\"HKCU:\\\\Software\\\\Microsoft\\\\InputPersonalization\\\\TrainedDataStore\\\" -Name \\\"HarvestContacts\\\" -Type DWord -Value 0\\n \\n# Enable Cortana\\n# Remove-ItemProperty -Path \\\"HKCU:\\\\Software\\\\Microsoft\\\\Personalization\\\\Settings\\\" -Name \\\"AcceptedPrivacyPolicy\\\"\\n# Set-ItemProperty -Path \\\"HKCU:\\\\Software\\\\Microsoft\\\\InputPersonalization\\\" -Name \\\"RestrictImplicitTextCollection\\\" -Type DWord -Value 0\\n# Set-ItemProperty -Path \\\"HKCU:\\\\Software\\\\Microsoft\\\\InputPersonalization\\\" -Name \\\"RestrictImplicitInkCollection\\\" -Type DWord -Value 0\\n# Remove-ItemProperty -Path \\\"HKCU:\\\\Software\\\\Microsoft\\\\InputPersonalization\\\\TrainedDataStore\\\" -Name \\\"HarvestContacts\\\"\\n \\n# Restrict Windows Update P2P only to local network\\nWrite-Host \\\"Restricting Windows Update P2P only to local network...\\\"\\nSet-ItemProperty -Path \\\"HKLM:\\\\Software\\\\Microsoft\\\\Windows\\\\CurrentVersion\\\\DeliveryOptimization\\\\Config\\\" -Name \\\"DODownloadMode\\\" -Type DWord -Value 1\\nIf (!(Test-Path \\\"HKCU:\\\\Software\\\\Microsoft\\\\Windows\\\\CurrentVersion\\\\DeliveryOptimization\\\")) {\\n    New-Item -Path \\\"HKCU:\\\\Software\\\\Microsoft\\\\Windows\\\\CurrentVersion\\\\DeliveryOptimization\\\" | Out-Null\\n}\\nSet-ItemProperty -Path \\\"HKCU:\\\\Software\\\\Microsoft\\\\Windows\\\\CurrentVersion\\\\DeliveryOptimization\\\" -Name \\\"SystemSettingsDownloadMode\\\" -Type DWord -Value 3\\n \\n# Unrestrict Windows Update P2P\\n# Remove-ItemProperty -Path \\\"HKLM:\\\\Software\\\\Microsoft\\\\Windows\\\\CurrentVersion\\\\DeliveryOptimization\\\\Config\\\" -Name \\\"DODownloadMode\\\"\\n# Remove-ItemProperty -Path \\\"HKCU:\\\\Software\\\\Microsoft\\\\Windows\\\\CurrentVersion\\\\DeliveryOptimization\\\" -Name \\\"SystemSettingsDownloadMode\\\"\\n \\n# Remove AutoLogger file and restrict directory\\nWrite-Host \\\"Removing AutoLogger file and restricting directory...\\\"\\n$autoLoggerDir = \\\"$env:PROGRAMDATA\\\\Microsoft\\\\Diagnosis\\\\ETLLogs\\\\AutoLogger\\\"\\nIf (Test-Path \\\"$autoLoggerDir\\\\AutoLogger-Diagtrack-Listener.etl\\\") {\\n    Remove-Item \\\"$autoLoggerDir\\\\AutoLogger-Diagtrack-Listener.etl\\\"\\n}\\nicacls $autoLoggerDir /deny SYSTEM:`(OI`)`(CI`)F | Out-Null\\n \\n# Unrestrict AutoLogger directory\\n# $autoLoggerDir = \\\"$env:PROGRAMDATA\\\\Microsoft\\\\Diagnosis\\\\ETLLogs\\\\AutoLogger\\\"\\n# icacls $autoLoggerDir /grant:r SYSTEM:`(OI`)`(CI`)F | Out-Null\\n \\n# Stop and disable Diagnostics Tracking Service\\nWrite-Host \\\"Stopping and disabling Diagnostics Tracking Service...\\\"\\nStop-Service \\\"DiagTrack\\\"\\nSet-Service \\\"DiagTrack\\\" -StartupType Disabled\\n \\n# Enable and start Diagnostics Tracking Service\\n# Set-Service \\\"DiagTrack\\\" -StartupType Automatic\\n# Start-Service \\\"DiagTrack\\\"\\n \\n# Stop and disable WAP Push Service\\nWrite-Host \\\"Stopping and disabling WAP Push Service...\\\"\\nStop-Service \\\"dmwappushservice\\\"\\nSet-Service \\\"dmwappushservice\\\" -StartupType Disabled\\n \\n# Enable and start WAP Push Service\\n# Set-Service \\\"dmwappushservice\\\" -StartupType Automatic\\n# Start-Service \\\"dmwappushservice\\\"\\n# Set-ItemProperty -Path \\\"HKLM:\\\\SYSTEM\\\\CurrentControlSet\\\\Services\\\\dmwappushservice\\\" -Name \\\"DelayedAutoStart\\\" -Type DWord -Value 1\\n \\n \\n##########\\n# Service Tweaks\\n##########\\n \\n# Lower UAC level\\n# Write-Host \\\"Lowering UAC level...\\\"\\n# Set-ItemProperty -Path \\\"HKLM:\\\\Software\\\\Microsoft\\\\Windows\\\\CurrentVersion\\\\Policies\\\\System\\\" -Name \\\"ConsentPromptBehaviorAdmin\\\" -Type DWord -Value 0\\n# Set-ItemProperty -Path \\\"HKLM:\\\\Software\\\\Microsoft\\\\Windows\\\\CurrentVersion\\\\Policies\\\\System\\\" -Name \\\"PromptOnSecureDesktop\\\" -Type DWord -Value 0\\n \\n# Raise UAC level\\n# Set-ItemProperty -Path \\\"HKLM:\\\\Software\\\\Microsoft\\\\Windows\\\\CurrentVersion\\\\Policies\\\\System\\\" -Name \\\"ConsentPromptBehaviorAdmin\\\" -Type DWord -Value 5\\n# Set-ItemProperty -Path \\\"HKLM:\\\\Software\\\\Microsoft\\\\Windows\\\\CurrentVersion\\\\Policies\\\\System\\\" -Name \\\"PromptOnSecureDesktop\\\" -Type DWord -Value 1\\n \\n# Enable sharing mapped drives between users\\n# Write-Host \\\"Enabling sharing mapped drives between users...\\\"\\n# Set-ItemProperty -Path \\\"HKLM:\\\\Software\\\\Microsoft\\\\Windows\\\\CurrentVersion\\\\Policies\\\\System\\\" -Name \\\"EnableLinkedConnections\\\" -Type DWord -Value 1\\n \\n# Disable sharing mapped drives between users\\n# Remove-ItemProperty -Path \\\"HKLM:\\\\Software\\\\Microsoft\\\\Windows\\\\CurrentVersion\\\\Policies\\\\System\\\" -Name \\\"EnableLinkedConnections\\\"\\n \\n# Disable Firewall\\n# Write-Host \\\"Disabling Firewall...\\\"\\n# Set-NetFirewallProfile -Profile * -Enabled False\\n \\n# Enable Firewall\\n# Set-NetFirewallProfile -Profile * -Enabled True\\n \\n# Disable Windows Defender\\n# Write-Host \\\"Disabling Windows Defender...\\\"\\n# Set-ItemProperty -Path \\\"HKLM:\\\\Software\\\\Policies\\\\Microsoft\\\\Windows Defender\\\" -Name \\\"DisableAntiSpyware\\\" -Type DWord -Value 1\\n \\n# Enable Windows Defender\\n# Remove-ItemProperty -Path \\\"HKLM:\\\\Software\\\\Policies\\\\Microsoft\\\\Windows Defender\\\" -Name \\\"DisableAntiSpyware\\\"\\n \\n# Disable Windows Update automatic restart\\nWrite-Host \\\"Disabling Windows Update automatic restart...\\\"\\nSet-ItemProperty -Path \\\"HKLM:\\\\Software\\\\Microsoft\\\\WindowsUpdate\\\\UX\\\\Settings\\\" -Name \\\"UxOption\\\" -Type DWord -Value 1\\n \\n# Enable Windows Update automatic restart\\n# Set-ItemProperty -Path \\\"HKLM:\\\\Software\\\\Microsoft\\\\WindowsUpdate\\\\UX\\\\Settings\\\" -Name \\\"UxOption\\\" -Type DWord -Value 0\\n \\n# Stop and disable Home Groups services\\nWrite-Host \\\"Stopping and disabling Home Groups services...\\\"\\nStop-Service \\\"HomeGroupListener\\\"\\nSet-Service \\\"HomeGroupListener\\\" -StartupType Disabled\\nStop-Service \\\"HomeGroupProvider\\\"\\nSet-Service \\\"HomeGroupProvider\\\" -StartupType Disabled\\n \\n# Enable and start Home Groups services\\n# Set-Service \\\"HomeGroupListener\\\" -StartupType Manual\\n# Set-Service \\\"HomeGroupProvider\\\" -StartupType Manual\\n# Start-Service \\\"HomeGroupProvider\\\"\\n \\n# Disable Remote Assistance\\n# Write-Host \\\"Disabling Remote Assistance...\\\"\\n# Set-ItemProperty -Path \\\"HKLM:\\\\System\\\\CurrentControlSet\\\\Control\\\\Remote Assistance\\\" -Name \\\"fAllowToGetHelp\\\" -Type DWord -Value 0\\n \\n# Enable Remote Assistance\\n# Set-ItemProperty -Path \\\"HKLM:\\\\System\\\\CurrentControlSet\\\\Control\\\\Remote Assistance\\\" -Name \\\"fAllowToGetHelp\\\" -Type DWord -Value 1\\n \\n# Enable Remote Desktop w/o Network Level Authentication\\n# Write-Host \\\"Enabling Remote Desktop w/o Network Level Authentication...\\\"\\n# Set-ItemProperty -Path \\\"HKLM:\\\\System\\\\CurrentControlSet\\\\Control\\\\Terminal Server\\\" -Name \\\"fDenyTSConnections\\\" -Type DWord -Value 0\\n# Set-ItemProperty -Path \\\"HKLM:\\\\System\\\\CurrentControlSet\\\\Control\\\\Terminal Server\\\\WinStations\\\\RDP-Tcp\\\" -Name \\\"UserAuthentication\\\" -Type DWord -Value 0\\n \\n# Disable Remote Desktop\\n# Set-ItemProperty -Path \\\"HKLM:\\\\System\\\\CurrentControlSet\\\\Control\\\\Terminal Server\\\" -Name \\\"fDenyTSConnections\\\" -Type DWord -Value 1\\n# Set-ItemProperty -Path \\\"HKLM:\\\\System\\\\CurrentControlSet\\\\Control\\\\Terminal Server\\\\WinStations\\\\RDP-Tcp\\\" -Name \\\"UserAuthentication\\\" -Type DWord -Value 1\\n \\n \\n##########\\n# UI Tweaks\\n##########\\n \\n# Disable Action Center\\n# Write-Host \\\"Disabling Action Center...\\\"\\n# If (!(Test-Path \\\"HKCU:\\\\Software\\\\Policies\\\\Microsoft\\\\Windows\\\\Explorer\\\")) {\\n#   New-Item -Path \\\"HKCU:\\\\Software\\\\Policies\\\\Microsoft\\\\Windows\\\\Explorer\\\" | Out-Null\\n# }\\n# Set-ItemProperty -Path \\\"HKCU:\\\\Software\\\\Policies\\\\Microsoft\\\\Windows\\\\Explorer\\\" -Name \\\"DisableNotificationCenter\\\" -Type DWord -Value 1\\n# Set-ItemProperty -Path \\\"HKCU:\\\\Software\\\\Microsoft\\\\Windows\\\\CurrentVersion\\\\PushNotifications\\\" -Name \\\"ToastEnabled\\\" -Type DWord -Value 0\\n \\n# Enable Action Center\\n# Remove-ItemProperty -Path \\\"HKCU:\\\\Software\\\\Policies\\\\Microsoft\\\\Windows\\\\Explorer\\\" -Name \\\"DisableNotificationCenter\\\"\\n# Remove-ItemProperty -Path \\\"HKCU:\\\\Software\\\\Microsoft\\\\Windows\\\\CurrentVersion\\\\PushNotifications\\\" -Name \\\"ToastEnabled\\\"\\n \\n# Disable Lock screen\\nWrite-Host \\\"Disabling Lock screen...\\\"\\nIf (!(Test-Path \\\"HKLM:\\\\Software\\\\Policies\\\\Microsoft\\\\Windows\\\\Personalization\\\")) {\\n  New-Item -Path \\\"HKLM:\\\\Software\\\\Policies\\\\Microsoft\\\\Windows\\\\Personalization\\\" | Out-Null\\n}\\nSet-ItemProperty -Path \\\"HKLM:\\\\Software\\\\Policies\\\\Microsoft\\\\Windows\\\\Personalization\\\" -Name \\\"NoLockScreen\\\" -Type DWord -Value 1\\n \\n# Enable Lock screen\\n# Remove-ItemProperty -Path \\\"HKLM:\\\\Software\\\\Policies\\\\Microsoft\\\\Windows\\\\Personalization\\\" -Name \\\"NoLockScreen\\\"\\n \\n# Disable Autoplay\\n# Write-Host \\\"Disabling Autoplay...\\\"\\n# Set-ItemProperty -Path \\\"HKCU:\\\\Software\\\\Microsoft\\\\Windows\\\\CurrentVersion\\\\Explorer\\\\AutoplayHandlers\\\" -Name \\\"DisableAutoplay\\\" -Type DWord -Value 1\\n \\n# Enable Autoplay\\n# Set-ItemProperty -Path \\\"HKCU:\\\\Software\\\\Microsoft\\\\Windows\\\\CurrentVersion\\\\Explorer\\\\AutoplayHandlers\\\" -Name \\\"DisableAutoplay\\\" -Type DWord -Value 0\\n \\n# Disable Autorun for all drives\\n# Write-Host \\\"Disabling Autorun for all drives...\\\"\\n# If (!(Test-Path \\\"HKCU:\\\\Software\\\\Microsoft\\\\Windows\\\\CurrentVersion\\\\Policies\\\\Explorer\\\")) {\\n#   New-Item -Path \\\"HKCU:\\\\Software\\\\Microsoft\\\\Windows\\\\CurrentVersion\\\\Policies\\\\Explorer\\\" | Out-Null\\n#}\\n# Set-ItemProperty -Path \\\"HKCU:\\\\Software\\\\Microsoft\\\\Windows\\\\CurrentVersion\\\\Policies\\\\Explorer\\\" -Name \\\"NoDriveTypeAutoRun\\\" -Type DWord -Value 255\\n \\n# Enable Autorun\\n# Remove-ItemProperty -Path \\\"HKCU:\\\\Software\\\\Microsoft\\\\Windows\\\\CurrentVersion\\\\Policies\\\\Explorer\\\" -Name \\\"NoDriveTypeAutoRun\\\"\\n \\n#Disable Sticky keys prompt\\nWrite-Host \\\"Disabling Sticky keys prompt...\\\" \\nSet-ItemProperty -Path \\\"HKCU:\\\\Control Panel\\\\Accessibility\\\\StickyKeys\\\" -Name \\\"Flags\\\" -Type String -Value \\\"506\\\"\\n \\n# Enable Sticky keys prompt\\n# Set-ItemProperty -Path \\\"HKCU:\\\\Control Panel\\\\Accessibility\\\\StickyKeys\\\" -Name \\\"Flags\\\" -Type String -Value \\\"510\\\"\\n \\n# Hide Search button / box\\nWrite-Host \\\"Hiding Search Box / Button...\\\"\\nSet-ItemProperty -Path \\\"HKCU:\\\\Software\\\\Microsoft\\\\Windows\\\\CurrentVersion\\\\Search\\\" -Name \\\"SearchboxTaskbarMode\\\" -Type DWord -Value 0\\n \\n# Show Search button / box\\n# Remove-ItemProperty -Path \\\"HKCU:\\\\Software\\\\Microsoft\\\\Windows\\\\CurrentVersion\\\\Search\\\" -Name \\\"SearchboxTaskbarMode\\\"\\n \\n# Hide Task View button\\n# Write-Host \\\"Hiding Task View button...\\\"\\n# Set-ItemProperty -Path \\\"HKCU:\\\\Software\\\\Microsoft\\\\Windows\\\\CurrentVersion\\\\Explorer\\\\Advanced\\\" -Name \\\"ShowTaskViewButton\\\" -Type DWord -Value 0\\n \\n# Show Task View button\\n# Remove-ItemProperty -Path \\\"HKCU:\\\\Software\\\\Microsoft\\\\Windows\\\\CurrentVersion\\\\Explorer\\\\Advanced\\\" -Name \\\"ShowTaskViewButton\\\"\\n \\n# Show small icons in taskbar\\n# Write-Host \\\"Showing small icons in taskbar...\\\"\\n# Set-ItemProperty -Path \\\"HKCU:\\\\Software\\\\Microsoft\\\\Windows\\\\CurrentVersion\\\\Explorer\\\\Advanced\\\" -Name \\\"TaskbarSmallIcons\\\" -Type DWord -Value 1\\n \\n# Show large icons in taskbar\\n# Remove-ItemProperty -Path \\\"HKCU:\\\\Software\\\\Microsoft\\\\Windows\\\\CurrentVersion\\\\Explorer\\\\Advanced\\\" -Name \\\"TaskbarSmallIcons\\\"\\n \\n# Show titles in taskbar\\n# Write-Host \\\"Showing titles in taskbar...\\\"\\n# Set-ItemProperty -Path \\\"HKCU:\\\\Software\\\\Microsoft\\\\Windows\\\\CurrentVersion\\\\Explorer\\\\Advanced\\\" -Name \\\"TaskbarGlomLevel\\\" -Type DWord -Value 1\\n \\n# Hide titles in taskbar\\n# Remove-ItemProperty -Path \\\"HKCU:\\\\Software\\\\Microsoft\\\\Windows\\\\CurrentVersion\\\\Explorer\\\\Advanced\\\" -Name \\\"TaskbarGlomLevel\\\"\\n \\n# Show all tray icons\\n# Write-Host \\\"Showing all tray icons...\\\"\\n# Set-ItemProperty -Path \\\"HKCU:\\\\Software\\\\Microsoft\\\\Windows\\\\CurrentVersion\\\\Explorer\\\" -Name \\\"EnableAutoTray\\\" -Type DWord -Value 0\\n \\n# Hide tray icons as needed\\n# Remove-ItemProperty -Path \\\"HKCU:\\\\Software\\\\Microsoft\\\\Windows\\\\CurrentVersion\\\\Explorer\\\" -Name \\\"EnableAutoTray\\\"\\n \\n# Show known file extensions\\nWrite-Host \\\"Showing known file extensions...\\\"\\nSet-ItemProperty -Path \\\"HKCU:\\\\Software\\\\Microsoft\\\\Windows\\\\CurrentVersion\\\\Explorer\\\\Advanced\\\" -Name \\\"HideFileExt\\\" -Type DWord -Value 0\\n \\n# Hide known file extensions\\n# Set-ItemProperty -Path \\\"HKCU:\\\\Software\\\\Microsoft\\\\Windows\\\\CurrentVersion\\\\Explorer\\\\Advanced\\\" -Name \\\"HideFileExt\\\" -Type DWord -Value 1\\n \\n# Show hidden files\\nWrite-Host \\\"Showing hidden files...\\\"\\nSet-ItemProperty -Path \\\"HKCU:\\\\Software\\\\Microsoft\\\\Windows\\\\CurrentVersion\\\\Explorer\\\\Advanced\\\" -Name \\\"Hidden\\\" -Type DWord -Value 1\\n \\n# Hide hidden files\\n# Set-ItemProperty -Path \\\"HKCU:\\\\Software\\\\Microsoft\\\\Windows\\\\CurrentVersion\\\\Explorer\\\\Advanced\\\" -Name \\\"Hidden\\\" -Type DWord -Value 2\\n \\n# Change default Explorer view to \\\"Computer\\\"\\nWrite-Host \\\"Changing default Explorer view to `\\\"Computer`\\\"...\\\"\\nSet-ItemProperty -Path \\\"HKCU:\\\\Software\\\\Microsoft\\\\Windows\\\\CurrentVersion\\\\Explorer\\\\Advanced\\\" -Name \\\"LaunchTo\\\" -Type DWord -Value 1\\n \\n# Change default Explorer view to \\\"Quick Access\\\"\\n# Remove-ItemProperty -Path \\\"HKCU:\\\\Software\\\\Microsoft\\\\Windows\\\\CurrentVersion\\\\Explorer\\\\Advanced\\\" -Name \\\"LaunchTo\\\"\\n \\n# Show Computer shortcut on desktop\\n# Write-Host \\\"Showing Computer shortcut on desktop...\\\"\\n# If (!(Test-Path \\\"HKCU:\\\\Software\\\\Microsoft\\\\Windows\\\\CurrentVersion\\\\Explorer\\\\HideDesktopIcons\\\\ClassicStartMenu\\\")) {\\n#   New-Item -Path \\\"HKCU:\\\\Software\\\\Microsoft\\\\Windows\\\\CurrentVersion\\\\Explorer\\\\HideDesktopIcons\\\\ClassicStartMenu\\\" | Out-Null\\n# }\\n# Set-ItemProperty -Path \\\"HKCU:\\\\Software\\\\Microsoft\\\\Windows\\\\CurrentVersion\\\\Explorer\\\\HideDesktopIcons\\\\ClassicStartMenu\\\" -Name \\\"{20D04FE0-3AEA-1069-A2D8-08002B30309D}\\\" -Type DWord -Value 0\\n# Set-ItemProperty -Path \\\"HKCU:\\\\Software\\\\Microsoft\\\\Windows\\\\CurrentVersion\\\\Explorer\\\\HideDesktopIcons\\\\NewStartPanel\\\" -Name \\\"{20D04FE0-3AEA-1069-A2D8-08002B30309D}\\\" -Type DWord -Value 0\\n \\n# Hide Computer shortcut from desktop\\n# Remove-ItemProperty -Path \\\"HKCU:\\\\Software\\\\Microsoft\\\\Windows\\\\CurrentVersion\\\\Explorer\\\\HideDesktopIcons\\\\ClassicStartMenu\\\" -Name \\\"{20D04FE0-3AEA-1069-A2D8-08002B30309D}\\\"\\n# Remove-ItemProperty -Path \\\"HKCU:\\\\Software\\\\Microsoft\\\\Windows\\\\CurrentVersion\\\\Explorer\\\\HideDesktopIcons\\\\NewStartPanel\\\" -Name \\\"{20D04FE0-3AEA-1069-A2D8-08002B30309D}\\\"\\n \\n# Remove Desktop icon from computer namespace\\n# Write-Host \\\"Removing Desktop icon from computer namespace...\\\"\\n# Remove-Item -Path \\\"HKLM:\\\\Software\\\\Microsoft\\\\Windows\\\\CurrentVersion\\\\Explorer\\\\MyComputer\\\\NameSpace\\\\{B4BFCC3A-DB2C-424C-B029-7FE99A87C641}\\\" -Recurse -ErrorAction SilentlyContinue\\n \\n# Add Desktop icon to computer namespace\\n# New-Item -Path \\\"HKLM:\\\\Software\\\\Microsoft\\\\Windows\\\\CurrentVersion\\\\Explorer\\\\MyComputer\\\\NameSpace\\\\{B4BFCC3A-DB2C-424C-B029-7FE99A87C641}\\\"\\n \\n# Remove Documents icon from computer namespace\\n# Write-Host \\\"Removing Documents icon from computer namespace...\\\"\\n# Remove-Item -Path \\\"HKLM:\\\\Software\\\\Microsoft\\\\Windows\\\\CurrentVersion\\\\Explorer\\\\MyComputer\\\\NameSpace\\\\{d3162b92-9365-467a-956b-92703aca08af}\\\" -Recurse -ErrorAction SilentlyContinue\\n# Remove-Item -Path \\\"HKLM:\\\\Software\\\\Microsoft\\\\Windows\\\\CurrentVersion\\\\Explorer\\\\MyComputer\\\\NameSpace\\\\{A8CDFF1C-4878-43be-B5FD-F8091C1C60D0}\\\" -Recurse -ErrorAction SilentlyContinue\\n \\n# Add Documents icon to computer namespace\\n# New-Item -Path \\\"HKLM:\\\\Software\\\\Microsoft\\\\Windows\\\\CurrentVersion\\\\Explorer\\\\MyComputer\\\\NameSpace\\\\{d3162b92-9365-467a-956b-92703aca08af}\\\"\\n# New-Item -Path \\\"HKLM:\\\\Software\\\\Microsoft\\\\Windows\\\\CurrentVersion\\\\Explorer\\\\MyComputer\\\\NameSpace\\\\{A8CDFF1C-4878-43be-B5FD-F8091C1C60D0}\\\"\\n \\n# Remove Downloads icon from computer namespace\\n# Write-Host \\\"Removing Downloads icon from computer namespace...\\\"\\n# Remove-Item -Path \\\"HKLM:\\\\Software\\\\Microsoft\\\\Windows\\\\CurrentVersion\\\\Explorer\\\\MyComputer\\\\NameSpace\\\\{088e3905-0323-4b02-9826-5d99428e115f}\\\" -Recurse -ErrorAction SilentlyContinue\\n# Remove-Item -Path \\\"HKLM:\\\\Software\\\\Microsoft\\\\Windows\\\\CurrentVersion\\\\Explorer\\\\MyComputer\\\\NameSpace\\\\{374DE290-123F-4565-9164-39C4925E467B}\\\" -Recurse -ErrorAction SilentlyContinue\\n \\n# Add Downloads icon to computer namespace\\n# New-Item -Path \\\"HKLM:\\\\Software\\\\Microsoft\\\\Windows\\\\CurrentVersion\\\\Explorer\\\\MyComputer\\\\NameSpace\\\\{088e3905-0323-4b02-9826-5d99428e115f}\\\"\\n# New-Item -Path \\\"HKLM:\\\\Software\\\\Microsoft\\\\Windows\\\\CurrentVersion\\\\Explorer\\\\MyComputer\\\\NameSpace\\\\{374DE290-123F-4565-9164-39C4925E467B}\\\"\\n \\n# Remove Music icon from computer namespace\\n# Write-Host \\\"Removing Music icon from computer namespace...\\\"\\n# Remove-Item -Path \\\"HKLM:\\\\Software\\\\Microsoft\\\\Windows\\\\CurrentVersion\\\\Explorer\\\\MyComputer\\\\NameSpace\\\\{3dfdf296-dbec-4fb4-81d1-6a3438bcf4de}\\\" -Recurse -ErrorAction SilentlyContinue\\n# Remove-Item -Path \\\"HKLM:\\\\Software\\\\Microsoft\\\\Windows\\\\CurrentVersion\\\\Explorer\\\\MyComputer\\\\NameSpace\\\\{1CF1260C-4DD0-4ebb-811F-33C572699FDE}\\\" -Recurse -ErrorAction SilentlyContinue\\n \\n# Add Music icon to computer namespace\\n# New-Item -Path \\\"HKLM:\\\\Software\\\\Microsoft\\\\Windows\\\\CurrentVersion\\\\Explorer\\\\MyComputer\\\\NameSpace\\\\{3dfdf296-dbec-4fb4-81d1-6a3438bcf4de}\\\"\\n# New-Item -Path \\\"HKLM:\\\\Software\\\\Microsoft\\\\Windows\\\\CurrentVersion\\\\Explorer\\\\MyComputer\\\\NameSpace\\\\{1CF1260C-4DD0-4ebb-811F-33C572699FDE}\\\"\\n \\n# Remove Pictures icon from computer namespace\\nWrite-Host \\\"Removing Pictures icon from computer namespace...\\\"\\nRemove-Item -Path \\\"HKLM:\\\\Software\\\\Microsoft\\\\Windows\\\\CurrentVersion\\\\Explorer\\\\MyComputer\\\\NameSpace\\\\{24ad3ad4-a569-4530-98e1-ab02f9417aa8}\\\" -Recurse -ErrorAction SilentlyContinue\\nRemove-Item -Path \\\"HKLM:\\\\Software\\\\Microsoft\\\\Windows\\\\CurrentVersion\\\\Explorer\\\\MyComputer\\\\NameSpace\\\\{3ADD1653-EB32-4cb0-BBD7-DFA0ABB5ACCA}\\\" -Recurse -ErrorAction SilentlyContinue\\n \\n# Add Pictures icon to computer namespace\\n# New-Item -Path \\\"HKLM:\\\\Software\\\\Microsoft\\\\Windows\\\\CurrentVersion\\\\Explorer\\\\MyComputer\\\\NameSpace\\\\{24ad3ad4-a569-4530-98e1-ab02f9417aa8}\\\"\\n# New-Item -Path \\\"HKLM:\\\\Software\\\\Microsoft\\\\Windows\\\\CurrentVersion\\\\Explorer\\\\MyComputer\\\\NameSpace\\\\{3ADD1653-EB32-4cb0-BBD7-DFA0ABB5ACCA}\\\"\\n \\n# Remove Videos icon from computer namespace\\nWrite-Host \\\"Removing Videos icon from computer namespace...\\\"\\nRemove-Item -Path \\\"HKLM:\\\\Software\\\\Microsoft\\\\Windows\\\\CurrentVersion\\\\Explorer\\\\MyComputer\\\\NameSpace\\\\{f86fa3ab-70d2-4fc7-9c99-fcbf05467f3a}\\\" -Recurse -ErrorAction SilentlyContinue\\nRemove-Item -Path \\\"HKLM:\\\\Software\\\\Microsoft\\\\Windows\\\\CurrentVersion\\\\Explorer\\\\MyComputer\\\\NameSpace\\\\{A0953C92-50DC-43bf-BE83-3742FED03C9C}\\\" -Recurse -ErrorAction SilentlyContinue\\n \\n# Add Videos icon to computer namespace\\n# New-Item -Path \\\"HKLM:\\\\Software\\\\Microsoft\\\\Windows\\\\CurrentVersion\\\\Explorer\\\\MyComputer\\\\NameSpace\\\\{f86fa3ab-70d2-4fc7-9c99-fcbf05467f3a}\\\"\\n# New-Item -Path \\\"HKLM:\\\\Software\\\\Microsoft\\\\Windows\\\\CurrentVersion\\\\Explorer\\\\MyComputer\\\\NameSpace\\\\{A0953C92-50DC-43bf-BE83-3742FED03C9C}\\\"\\n \\n## Add secondary en-US keyboard\\n#Write-Host \\\"Adding secondary en-US keyboard...\\\"\\n#$langs = Get-WinUserLanguageList\\n#$langs.Add(\\\"en-US\\\")\\n#Set-WinUserLanguageList $langs -Force\\n \\n# Remove secondary en-US keyboard\\n# $langs = Get-WinUserLanguageList\\n# Set-WinUserLanguageList ($langs | ? {$_.LanguageTag -ne \\\"en-US\\\"}) -Force\\n \\n \\n##########\\n# Remove unwanted applications\\n##########\\n \\n# Disable OneDrive\\n# Write-Host \\\"Disabling OneDrive...\\\"\\n# If (!(Test-Path \\\"HKLM:\\\\SOFTWARE\\\\Policies\\\\Microsoft\\\\Windows\\\\OneDrive\\\")) {\\n#     New-Item -Path \\\"HKLM:\\\\SOFTWARE\\\\Policies\\\\Microsoft\\\\Windows\\\\OneDrive\\\" | Out-Null\\n# }\\n# Set-ItemProperty -Path \\\"HKLM:\\\\SOFTWARE\\\\Policies\\\\Microsoft\\\\Windows\\\\OneDrive\\\" -Name \\\"DisableFileSyncNGSC\\\" -Type DWord -Value 1\\n \\n# Enable OneDrive\\n# Remove-ItemProperty -Path \\\"HKLM:\\\\SOFTWARE\\\\Policies\\\\Microsoft\\\\Windows\\\\OneDrive\\\" -Name \\\"DisableFileSyncNGSC\\\"\\n \\n# Uninstall OneDrive\\nWrite-Host \\\"Uninstalling OneDrive...\\\"\\nStop-Process -Name OneDrive -ErrorAction SilentlyContinue\\nStart-Sleep -s 3\\n$onedrive = \\\"$env:SYSTEMROOT\\\\SysWOW64\\\\OneDriveSetup.exe\\\"\\nIf (!(Test-Path $onedrive)) {\\n    $onedrive = \\\"$env:SYSTEMROOT\\\\System32\\\\OneDriveSetup.exe\\\"\\n}\\nStart-Process $onedrive \\\"/uninstall\\\" -NoNewWindow -Wait\\nStart-Sleep -s 3\\nStop-Process -Name explorer -ErrorAction SilentlyContinue\\nStart-Sleep -s 3\\nRemove-Item \\\"$env:USERPROFILE\\\\OneDrive\\\" -Force -Recurse -ErrorAction SilentlyContinue\\nRemove-Item \\\"$env:LOCALAPPDATA\\\\Microsoft\\\\OneDrive\\\" -Force -Recurse -ErrorAction SilentlyContinue\\nRemove-Item \\\"$env:PROGRAMDATA\\\\Microsoft OneDrive\\\" -Force -Recurse -ErrorAction SilentlyContinue\\nIf (Test-Path \\\"$env:SYSTEMDRIVE\\\\OneDriveTemp\\\") {\\n    Remove-Item \\\"$env:SYSTEMDRIVE\\\\OneDriveTemp\\\" -Force -Recurse -ErrorAction SilentlyContinue\\n}\\nIf (!(Test-Path \\\"HKCR:\\\")) {\\n    New-PSDrive -Name HKCR -PSProvider Registry -Root HKEY_CLASSES_ROOT | Out-Null\\n}\\nRemove-Item -Path \\\"HKCR:\\\\CLSID\\\\{018D5C66-4533-4307-9B53-224DE2ED1FE6}\\\" -Recurse -ErrorAction SilentlyContinue\\nRemove-Item -Path \\\"HKCR:\\\\Wow6432Node\\\\CLSID\\\\{018D5C66-4533-4307-9B53-224DE2ED1FE6}\\\" -Recurse -ErrorAction SilentlyContinue\\n \\n# Install OneDrive\\n# $onedrive = \\\"$env:SYSTEMROOT\\\\SysWOW64\\\\OneDriveSetup.exe\\\"\\n# If (!(Test-Path $onedrive)) {\\n#   $onedrive = \\\"$env:SYSTEMROOT\\\\System32\\\\OneDriveSetup.exe\\\"\\n# }\\n# Start-Process $onedrive -NoNewWindow\\n \\n# Uninstall default Microsoft applications\\nWrite-Host \\\"Uninstalling default Microsoft applications...\\\"\\nGet-AppxPackage \\\"Microsoft.3DBuilder\\\" | Remove-AppxPackage\\nGet-AppxPackage \\\"Microsoft.BingFinance\\\" | Remove-AppxPackage\\nGet-AppxPackage \\\"Microsoft.BingNews\\\" | Remove-AppxPackage\\nGet-AppxPackage \\\"Microsoft.BingSports\\\" | Remove-AppxPackage\\nGet-AppxPackage \\\"Microsoft.BingWeather\\\" | Remove-AppxPackage\\nGet-AppxPackage \\\"Microsoft.Getstarted\\\" | Remove-AppxPackage\\nGet-AppxPackage \\\"Microsoft.MicrosoftOfficeHub\\\" | Remove-AppxPackage\\nGet-AppxPackage \\\"Microsoft.MicrosoftSolitaireCollection\\\" | Remove-AppxPackage\\nGet-AppxPackage \\\"Microsoft.Office.OneNote\\\" | Remove-AppxPackage\\nGet-AppxPackage \\\"Microsoft.People\\\" | Remove-AppxPackage\\nGet-AppxPackage \\\"Microsoft.SkypeApp\\\" | Remove-AppxPackage\\nGet-AppxPackage \\\"Microsoft.Windows.Photos\\\" | Remove-AppxPackage\\nGet-AppxPackage \\\"Microsoft.WindowsAlarms\\\" | Remove-AppxPackage\\nGet-AppxPackage \\\"Microsoft.WindowsCamera\\\" | Remove-AppxPackage\\nGet-AppxPackage \\\"microsoft.windowscommunicationsapps\\\" | Remove-AppxPackage\\nGet-AppxPackage \\\"Microsoft.WindowsMaps\\\" | Remove-AppxPackage\\nGet-AppxPackage \\\"Microsoft.WindowsPhone\\\" | Remove-AppxPackage\\nGet-AppxPackage \\\"Microsoft.WindowsSoundRecorder\\\" | Remove-AppxPackage\\nGet-AppxPackage \\\"Microsoft.XboxApp\\\" | Remove-AppxPackage\\nGet-AppxPackage \\\"Microsoft.ZuneMusic\\\" | Remove-AppxPackage\\nGet-AppxPackage \\\"Microsoft.ZuneVideo\\\" | Remove-AppxPackage\\nGet-AppxPackage \\\"Microsoft.AppConnector\\\" | Remove-AppxPackage\\nGet-AppxPackage \\\"Microsoft.ConnectivityStore\\\" | Remove-AppxPackage\\nGet-AppxPackage \\\"Microsoft.Office.Sway\\\" | Remove-AppxPackage\\nGet-AppxPackage \\\"Microsoft.Messaging\\\" | Remove-AppxPackage\\nGet-AppxPackage \\\"Microsoft.CommsPhone\\\" | Remove-AppxPackage\\nGet-AppxPackage \\\"9E2F88E3.Twitter\\\" | Remove-AppxPackage\\nGet-AppxPackage \\\"king.com.CandyCrushSodaSaga\\\" | Remove-AppxPackage\\n \\n# Install default Microsoft applications\\n# Add-AppxPackage -DisableDevelopmentMode -Register \\\"$($(Get-AppXPackage -AllUsers \\\"Microsoft.3DBuilder\\\").InstallLocation)\\\\AppXManifest.xml\\\"\\n# Add-AppxPackage -DisableDevelopmentMode -Register \\\"$($(Get-AppXPackage -AllUsers \\\"Microsoft.BingFinance\\\").InstallLocation)\\\\AppXManifest.xml\\\"\\n# Add-AppxPackage -DisableDevelopmentMode -Register \\\"$($(Get-AppXPackage -AllUsers \\\"Microsoft.BingNews\\\").InstallLocation)\\\\AppXManifest.xml\\\"\\n# Add-AppxPackage -DisableDevelopmentMode -Register \\\"$($(Get-AppXPackage -AllUsers \\\"Microsoft.BingSports\\\").InstallLocation)\\\\AppXManifest.xml\\\"\\n# Add-AppxPackage -DisableDevelopmentMode -Register \\\"$($(Get-AppXPackage -AllUsers \\\"Microsoft.BingWeather\\\").InstallLocation)\\\\AppXManifest.xml\\\"\\n# Add-AppxPackage -DisableDevelopmentMode -Register \\\"$($(Get-AppXPackage -AllUsers \\\"Microsoft.Getstarted\\\").InstallLocation)\\\\AppXManifest.xml\\\"\\n# Add-AppxPackage -DisableDevelopmentMode -Register \\\"$($(Get-AppXPackage -AllUsers \\\"Microsoft.MicrosoftOfficeHub\\\").InstallLocation)\\\\AppXManifest.xml\\\"\\n# Add-AppxPackage -DisableDevelopmentMode -Register \\\"$($(Get-AppXPackage -AllUsers \\\"Microsoft.MicrosoftSolitaireCollection\\\").InstallLocation)\\\\AppXManifest.xml\\\"\\n# Add-AppxPackage -DisableDevelopmentMode -Register \\\"$($(Get-AppXPackage -AllUsers \\\"Microsoft.Office.OneNote\\\").InstallLocation)\\\\AppXManifest.xml\\\"\\n# Add-AppxPackage -DisableDevelopmentMode -Register \\\"$($(Get-AppXPackage -AllUsers \\\"Microsoft.People\\\").InstallLocation)\\\\AppXManifest.xml\\\"\\n# Add-AppxPackage -DisableDevelopmentMode -Register \\\"$($(Get-AppXPackage -AllUsers \\\"Microsoft.SkypeApp\\\").InstallLocation)\\\\AppXManifest.xml\\\"\\n# Add-AppxPackage -DisableDevelopmentMode -Register \\\"$($(Get-AppXPackage -AllUsers \\\"Microsoft.Windows.Photos\\\").InstallLocation)\\\\AppXManifest.xml\\\"\\n# Add-AppxPackage -DisableDevelopmentMode -Register \\\"$($(Get-AppXPackage -AllUsers \\\"Microsoft.WindowsAlarms\\\").InstallLocation)\\\\AppXManifest.xml\\\"\\n# Add-AppxPackage -DisableDevelopmentMode -Register \\\"$($(Get-AppXPackage -AllUsers \\\"Microsoft.WindowsCamera\\\").InstallLocation)\\\\AppXManifest.xml\\\"\\n# Add-AppxPackage -DisableDevelopmentMode -Register \\\"$($(Get-AppXPackage -AllUsers \\\"Microsoft.windowscommunicationsapps\\\").InstallLocation)\\\\AppXManifest.xml\\\"\\n# Add-AppxPackage -DisableDevelopmentMode -Register \\\"$($(Get-AppXPackage -AllUsers \\\"Microsoft.WindowsMaps\\\").InstallLocation)\\\\AppXManifest.xml\\\"\\n# Add-AppxPackage -DisableDevelopmentMode -Register \\\"$($(Get-AppXPackage -AllUsers \\\"Microsoft.WindowsPhone\\\").InstallLocation)\\\\AppXManifest.xml\\\"\\n# Add-AppxPackage -DisableDevelopmentMode -Register \\\"$($(Get-AppXPackage -AllUsers \\\"Microsoft.WindowsSoundRecorder\\\").InstallLocation)\\\\AppXManifest.xml\\\"\\n# Add-AppxPackage -DisableDevelopmentMode -Register \\\"$($(Get-AppXPackage -AllUsers \\\"Microsoft.XboxApp\\\").InstallLocation)\\\\AppXManifest.xml\\\"\\n# Add-AppxPackage -DisableDevelopmentMode -Register \\\"$($(Get-AppXPackage -AllUsers \\\"Microsoft.ZuneMusic\\\").InstallLocation)\\\\AppXManifest.xml\\\"\\n# Add-AppxPackage -DisableDevelopmentMode -Register \\\"$($(Get-AppXPackage -AllUsers \\\"Microsoft.ZuneVideo\\\").InstallLocation)\\\\AppXManifest.xml\\\"\\n# Add-AppxPackage -DisableDevelopmentMode -Register \\\"$($(Get-AppXPackage -AllUsers \\\"Microsoft.AppConnector\\\").InstallLocation)\\\\AppXManifest.xml\\\"\\n# Add-AppxPackage -DisableDevelopmentMode -Register \\\"$($(Get-AppXPackage -AllUsers \\\"Microsoft.ConnectivityStore\\\").InstallLocation)\\\\AppXManifest.xml\\\"\\n# Add-AppxPackage -DisableDevelopmentMode -Register \\\"$($(Get-AppXPackage -AllUsers \\\"Microsoft.Office.Sway\\\").InstallLocation)\\\\AppXManifest.xml\\\"\\n# Add-AppxPackage -DisableDevelopmentMode -Register \\\"$($(Get-AppXPackage -AllUsers \\\"Microsoft.Messaging\\\").InstallLocation)\\\\AppXManifest.xml\\\"\\n# Add-AppxPackage -DisableDevelopmentMode -Register \\\"$($(Get-AppXPackage -AllUsers \\\"Microsoft.CommsPhone\\\").InstallLocation)\\\\AppXManifest.xml\\\"\\n# In case you have removed them for good, you can try to restore the files using installation medium as follows\\n# New-Item C:\\\\Mnt -Type Directory | Out-Null\\n# dism /Mount-Image /ImageFile:D:\\\\sources\\\\install.wim /index:1 /ReadOnly /MountDir:C:\\\\Mnt\\n# robocopy /S /SEC /R:0 \\\"C:\\\\Mnt\\\\Program Files\\\\WindowsApps\\\" \\\"C:\\\\Program Files\\\\WindowsApps\\\"\\n# dism /Unmount-Image /Discard /MountDir:C:\\\\Mnt\\n# Remove-Item -Path C:\\\\Mnt -Recurse\\n \\n# Uninstall Windows Media Player\\nWrite-Host \\\"Uninstalling Windows Media Player...\\\"\\ndism /online /Disable-Feature /FeatureName:MediaPlayback /Quiet /NoRestart\\n \\n# Install Windows Media Player\\n# dism /online /Enable-Feature /FeatureName:MediaPlayback /Quiet /NoRestart\\n \\n# Uninstall Work Folders Client\\nWrite-Host \\\"Uninstalling Work Folders Client...\\\"\\ndism /online /Disable-Feature /FeatureName:WorkFolders-Client /Quiet /NoRestart\\n \\n# Install Work Folders Client\\n# dism /online /Enable-Feature /FeatureName:WorkFolders-Client /Quiet /NoRestart\\n\\n$scriptDir = Split-Path -Path $myInvocation.MyCommand.Definition -Parent\\n\\n# Uninstall Cortana\\necho Uninstalling Cortana...\\n& $scriptDir\\\\install_wim_tweak.exe /o /l\\n& $scriptDir\\\\install_wim_tweak.exe /o /c Microsoft-Windows-Cortana /r\\n& $scriptDir\\\\install_wim_tweak.exe /h /o /l\\n\\n# Uninstall Edge\\necho Uninstalling Microsoft Edge...\\n& $scriptDir\\\\install_wim_tweak.exe /o /l\\n& $scriptDir\\\\install_wim_tweak.exe /o /c Microsoft-Windows-Internet-Browser-Package /r\\n& $scriptDir\\\\install_wim_tweak.exe /h /o /l\\n\\n# Set Photo Viewer as default for bmp, gif, jpg and png\\nWrite-Host \\\"Setting Photo Viewer as default for bmp, gif, jpg, png and tif...\\\"\\nIf (!(Test-Path \\\"HKCR:\\\")) {\\n    New-PSDrive -Name HKCR -PSProvider Registry -Root HKEY_CLASSES_ROOT | Out-Null\\n}\\nForEach ($type in @(\\\"Paint.Picture\\\", \\\"giffile\\\", \\\"jpegfile\\\", \\\"pngfile\\\")) {\\n    New-Item -Path $(\\\"HKCR:\\\\$type\\\\shell\\\\open\\\") -Force | Out-Null\\n    New-Item -Path $(\\\"HKCR:\\\\$type\\\\shell\\\\open\\\\command\\\") | Out-Null\\n    Set-ItemProperty -Path $(\\\"HKCR:\\\\$type\\\\shell\\\\open\\\") -Name \\\"MuiVerb\\\" -Type ExpandString -Value \\\"@%ProgramFiles%\\\\Windows Photo Viewer\\\\photoviewer.dll,-3043\\\"\\n    Set-ItemProperty -Path $(\\\"HKCR:\\\\$type\\\\shell\\\\open\\\\command\\\") -Name \\\"(Default)\\\" -Type ExpandString -Value \\\"%SystemRoot%\\\\System32\\\\rundll32.exe `\\\"%ProgramFiles%\\\\Windows Photo Viewer\\\\PhotoViewer.dll`\\\", ImageView_Fullscreen %1\\\"\\n}\\n \\n# Remove or reset default open action for bmp, gif, jpg and png\\n# If (!(Test-Path \\\"HKCR:\\\")) {\\n#   New-PSDrive -Name HKCR -PSProvider Registry -Root HKEY_CLASSES_ROOT | Out-Null\\n# }\\n# Remove-Item -Path \\\"HKCR:\\\\Paint.Picture\\\\shell\\\\open\\\" -Recurse\\n# Remove-ItemProperty -Path \\\"HKCR:\\\\giffile\\\\shell\\\\open\\\" -Name \\\"MuiVerb\\\"\\n# Set-ItemProperty -Path \\\"HKCR:\\\\giffile\\\\shell\\\\open\\\" -Name \\\"CommandId\\\" -Type String -Value \\\"IE.File\\\"\\n# Set-ItemProperty -Path \\\"HKCR:\\\\giffile\\\\shell\\\\open\\\\command\\\" -Name \\\"(Default)\\\" -Type String -Value \\\"`\\\"$env:SystemDrive\\\\Program Files\\\\Internet Explorer\\\\iexplore.exe`\\\" %1\\\"\\n# Set-ItemProperty -Path \\\"HKCR:\\\\giffile\\\\shell\\\\open\\\\command\\\" -Name \\\"DelegateExecute\\\" -Type String -Value \\\"{17FE9752-0B5A-4665-84CD-569794602F5C}\\\"\\n# Remove-Item -Path \\\"HKCR:\\\\jpegfile\\\\shell\\\\open\\\" -Recurse\\n# Remove-Item -Path \\\"HKCR:\\\\pngfile\\\\shell\\\\open\\\" -Recurse\\n \\n# Show Photo Viewer in \\\"Open with...\\\"\\nWrite-Host \\\"Showing Photo Viewer in `\\\"Open with...`\\\"\\\"\\nIf (!(Test-Path \\\"HKCR:\\\")) {\\n    New-PSDrive -Name HKCR -PSProvider Registry -Root HKEY_CLASSES_ROOT | Out-Null\\n}\\nNew-Item -Path \\\"HKCR:\\\\Applications\\\\photoviewer.dll\\\\shell\\\\open\\\\command\\\" -Force | Out-Null\\nNew-Item -Path \\\"HKCR:\\\\Applications\\\\photoviewer.dll\\\\shell\\\\open\\\\DropTarget\\\" -Force | Out-Null\\nSet-ItemProperty -Path \\\"HKCR:\\\\Applications\\\\photoviewer.dll\\\\shell\\\\open\\\" -Name \\\"MuiVerb\\\" -Type String -Value \\\"@photoviewer.dll,-3043\\\"\\nSet-ItemProperty -Path \\\"HKCR:\\\\Applications\\\\photoviewer.dll\\\\shell\\\\open\\\\command\\\" -Name \\\"(Default)\\\" -Type ExpandString -Value \\\"%SystemRoot%\\\\System32\\\\rundll32.exe `\\\"%ProgramFiles%\\\\Windows Photo Viewer\\\\PhotoViewer.dll`\\\", ImageView_Fullscreen %1\\\"\\nSet-ItemProperty -Path \\\"HKCR:\\\\Applications\\\\photoviewer.dll\\\\shell\\\\open\\\\DropTarget\\\" -Name \\\"Clsid\\\" -Type String -Value \\\"{FFE2A43C-56B9-4bf5-9A79-CC6D4285608A}\\\"\\n \\n# Remove Photo Viewer from \\\"Open with...\\\"\\n# If (!(Test-Path \\\"HKCR:\\\")) {\\n#   New-PSDrive -Name HKCR -PSProvider Registry -Root HKEY_CLASSES_ROOT | Out-Null\\n# }\\n# Remove-Item -Path \\\"HKCR:\\\\Applications\\\\photoviewer.dll\\\\shell\\\\open\\\" -Recurse\\n \\n##########\\n# Restart\\n##########\\nWrite-Host\\nWrite-Host \\\"Press any key to restart your system...\\\" -ForegroundColor Black -BackgroundColor White\\n$key = $host.UI.RawUI.ReadKey(\\\"NoEcho,IncludeKeyDown\\\")\\nWrite-Host \\\"Restarting...\\\"\\nRestart-Computer\"\n        ],\n        \"semantic_type\": \"\",\n        \"description\": \"\"\n      }\n    },\n    {\n      \"column\": \"label\",\n      \"properties\": {\n        \"dtype\": \"number\",\n        \"std\": 0,\n        \"min\": 0,\n        \"max\": 1,\n        \"num_unique_values\": 2,\n        \"samples\": [\n          0,\n          1\n        ],\n        \"semantic_type\": \"\",\n        \"description\": \"\"\n      }\n    }\n  ]\n}"
            }
          },
          "metadata": {},
          "execution_count": 5
        }
      ]
    },
    {
      "cell_type": "markdown",
      "source": [
        "**Data preprocceing**"
      ],
      "metadata": {
        "id": "5BsSeGtsaElf"
      }
    },
    {
      "cell_type": "code",
      "source": [
        "data.shape"
      ],
      "metadata": {
        "colab": {
          "base_uri": "https://localhost:8080/"
        },
        "id": "fssZuhfDd_d9",
        "outputId": "4e642874-ba08-4859-f792-ba10036526aa"
      },
      "execution_count": 6,
      "outputs": [
        {
          "output_type": "execute_result",
          "data": {
            "text/plain": [
              "(990, 2)"
            ]
          },
          "metadata": {},
          "execution_count": 6
        }
      ]
    },
    {
      "cell_type": "code",
      "source": [
        "data.info()"
      ],
      "metadata": {
        "id": "6Uvh8bephqZ-",
        "colab": {
          "base_uri": "https://localhost:8080/"
        },
        "outputId": "a2c5b23b-efb3-4717-97cc-abbb77d125c2"
      },
      "execution_count": 7,
      "outputs": [
        {
          "output_type": "stream",
          "name": "stdout",
          "text": [
            "<class 'pandas.core.frame.DataFrame'>\n",
            "RangeIndex: 990 entries, 0 to 989\n",
            "Data columns (total 2 columns):\n",
            " #   Column  Non-Null Count  Dtype \n",
            "---  ------  --------------  ----- \n",
            " 0   script  990 non-null    object\n",
            " 1   label   990 non-null    int64 \n",
            "dtypes: int64(1), object(1)\n",
            "memory usage: 15.6+ KB\n"
          ]
        }
      ]
    },
    {
      "cell_type": "markdown",
      "source": [
        "No missing values"
      ],
      "metadata": {
        "id": "UhWiQEmuaK2X"
      }
    },
    {
      "cell_type": "code",
      "source": [
        "data.isna().sum()"
      ],
      "metadata": {
        "colab": {
          "base_uri": "https://localhost:8080/",
          "height": 147
        },
        "id": "-2kw0fa-QFRs",
        "outputId": "f535c130-40c7-4122-d774-4ead0f3dc83d"
      },
      "execution_count": 8,
      "outputs": [
        {
          "output_type": "execute_result",
          "data": {
            "text/plain": [
              "script    0\n",
              "label     0\n",
              "dtype: int64"
            ],
            "text/html": [
              "<div>\n",
              "<style scoped>\n",
              "    .dataframe tbody tr th:only-of-type {\n",
              "        vertical-align: middle;\n",
              "    }\n",
              "\n",
              "    .dataframe tbody tr th {\n",
              "        vertical-align: top;\n",
              "    }\n",
              "\n",
              "    .dataframe thead th {\n",
              "        text-align: right;\n",
              "    }\n",
              "</style>\n",
              "<table border=\"1\" class=\"dataframe\">\n",
              "  <thead>\n",
              "    <tr style=\"text-align: right;\">\n",
              "      <th></th>\n",
              "      <th>0</th>\n",
              "    </tr>\n",
              "  </thead>\n",
              "  <tbody>\n",
              "    <tr>\n",
              "      <th>script</th>\n",
              "      <td>0</td>\n",
              "    </tr>\n",
              "    <tr>\n",
              "      <th>label</th>\n",
              "      <td>0</td>\n",
              "    </tr>\n",
              "  </tbody>\n",
              "</table>\n",
              "</div><br><label><b>dtype:</b> int64</label>"
            ]
          },
          "metadata": {},
          "execution_count": 8
        }
      ]
    },
    {
      "cell_type": "markdown",
      "source": [
        "**Feature Engineering**"
      ],
      "metadata": {
        "id": "42aMBgSzaT7X"
      }
    },
    {
      "cell_type": "markdown",
      "source": [
        "To help the model distinguish between obfuscated and non-obfuscated PowerShell scripts, I extracted a set of handcrafted features based on code structure, randomness, and known malicious patterns.\n",
        "\n",
        "Length: Obfuscated scripts are usually longer due to encoding and added noise.\n",
        "\n",
        "Special Characters Count: Obfuscated code tends to use more symbols like @, %, !, etc.\n",
        "\n",
        "Uppercase Letters: Irregular use of uppercase is often a sign of obfuscation.\n",
        "\n",
        "Entropy: Measures randomness — higher entropy usually means encoding.\n",
        "\n",
        "Base64 Strings: Many obfuscated scripts include base64-encoded payloads.\n",
        "\n",
        "Dynamic Execution (iex): Presence of iex or similar commands is a strong red flag.\n",
        "\n",
        "Token Count & Average Token Length: Gives an idea of structure; obfuscated code often has long or meaningless tokens.\n",
        "\n",
        "Concatenation Ops: + or . are used to build payloads dynamically and avoid detection.\n",
        "\n",
        "Encoding-related Commands: Detects usage of functions like FromBase64String, Decode, etc.\n",
        "\n",
        "Suspicious Keywords: Words like download, bypass, hidden are common in malicious scripts.\n",
        "\n",
        "These features are lightweight, explainable, and designed to highlight patterns commonly used in real-world obfuscation techniques."
      ],
      "metadata": {
        "id": "wK1rHt-bcKuR"
      }
    },
    {
      "cell_type": "code",
      "source": [
        "import re\n",
        "def calculate_entropy(s):\n",
        "    prob = [float(s.count(c)) / len(s) for c in dict.fromkeys(list(s))]\n",
        "    entropy = - sum([p * np.log2(p) for p in prob])\n",
        "    return entropy\n"
      ],
      "metadata": {
        "id": "6HeZjh1yNjtC"
      },
      "execution_count": 9,
      "outputs": []
    },
    {
      "cell_type": "code",
      "source": [
        "def is_base64(s):\n",
        "    return bool(re.fullmatch(r'[A-Za-z0-9+/=]{20,}', s))\n"
      ],
      "metadata": {
        "id": "gLml_Pa1Skuk"
      },
      "execution_count": 10,
      "outputs": []
    },
    {
      "cell_type": "code",
      "source": [
        "suspicious_keywords = [\n",
        "    'bypass', 'hidden', 'invoke', 'iex', 'download', 'http', 'base64',\n",
        "    'FromBase64String', 'Add-Type', 'Compression', 'shellcode', 'payload'\n",
        "]"
      ],
      "metadata": {
        "id": "MOWPyAWpTwZx"
      },
      "execution_count": 11,
      "outputs": []
    },
    {
      "cell_type": "code",
      "source": [
        "def extract_features(data):\n",
        "    data['length'] = data['script'].apply(len)\n",
        "    data['num_special_chars'] = data['script'].apply(lambda x: len(re.findall(r'[^a-zA-Z0-9\\s]', x)))\n",
        "    data['num_uppercase'] = data['script'].apply(lambda x: sum(1 for c in x if c.isupper()))\n",
        "    data['entropy'] = data['script'].apply(calculate_entropy)\n",
        "    data['num_base64_strings'] = data['script'].apply(lambda x: sum(1 for token in x.split() if is_base64(token)))\n",
        "    data['has_ie'] = data['script'].apply(lambda x: int(bool(re.search(r'\\b(iex|invoke-expression)\\b', x, re.IGNORECASE))))\n",
        "    data['num_tokens'] = data['script'].apply(lambda x: len(x.split()))\n",
        "    data['avg_token_length'] = data['script'].apply(lambda x: np.mean([len(t) for t in x.split()]) if x.split() else 0)\n",
        "    data['num_concat_ops'] = data['script'].apply(lambda x: x.count('+') + x.count('.'))\n",
        "    data['num_encoded_cmds'] = data['script'].apply(lambda x: sum(x.lower().count(cmd.lower()) for cmd in ['FromBase64String', 'Decode', 'Uncompress']))\n",
        "    data['num_suspicious_words'] = data['script'].apply(\n",
        "        lambda x: sum(1 for word in suspicious_keywords if word.lower() in x.lower())\n",
        "    )\n",
        "\n",
        "    return data"
      ],
      "metadata": {
        "id": "E8o_020uSoGd"
      },
      "execution_count": 12,
      "outputs": []
    },
    {
      "cell_type": "markdown",
      "source": [
        "our final dataset"
      ],
      "metadata": {
        "id": "1JlSKCd5cTQ8"
      }
    },
    {
      "cell_type": "code",
      "source": [
        "data = extract_features(data)\n",
        "data.head()"
      ],
      "metadata": {
        "colab": {
          "base_uri": "https://localhost:8080/",
          "height": 206
        },
        "id": "lhrcqWdaSqvp",
        "outputId": "a2182ab9-f1c6-4d68-9cdd-763b7f78bf36"
      },
      "execution_count": 13,
      "outputs": [
        {
          "output_type": "execute_result",
          "data": {
            "text/plain": [
              "                                              script  label  length  \\\n",
              "0   \u0000(\u0000n\u0000e\u0000w\u0000-\u0000O\u0000b\u0000J\u0000E\u0000C\u0000T\u0000 \u0000 \u0000i\u0000o\u0000.\u0000c\u0000o\u0000M\u0000P\u0000r\u0000E\u0000...      1    2964   \n",
              "1  &\u0000(\u0000 \u0000$\u0000e\u0000n\u0000V\u0000:\u0000c\u0000O\u0000m\u0000S\u0000p\u0000e\u0000c\u0000[\u00004\u0000,\u00001\u00005\u0000,\u00002\u00005\u0000...      1   10832   \n",
              "2  F\u0000u\u0000n\u0000c\u0000t\u0000i\u0000o\u0000n\u0000 \u0000l\u0000i\u0000s\u0000T\u0000`\u0000-\u0000`\u0000N\u0000a\u0000v\u0000r\u0000E\u0000M\u0000O\u0000...      1   13942   \n",
              "3   \u0000(\u0000(\u0000'\u0000F\u0000u\u0000'\u0000+\u0000'\u0000n\u0000c\u0000t\u0000i\u0000o\u0000n\u0000 \u0000L\u0000i\u0000s\u0000t\u0000-\u0000N\u0000A\u0000...      1    7356   \n",
              "4  (\u0000 \u0000n\u0000E\u0000w\u0000-\u0000O\u0000B\u0000j\u0000e\u0000c\u0000t\u0000 \u0000 \u0000S\u0000Y\u0000s\u0000t\u0000E\u0000M\u0000.\u0000i\u0000O\u0000...      1    2484   \n",
              "\n",
              "   num_special_chars  num_uppercase   entropy  num_base64_strings  has_ie  \\\n",
              "0               1577            608  4.063013                   0       0   \n",
              "1               6043            555  3.121414                   0       0   \n",
              "2               9288            586  3.299632                   0       0   \n",
              "3               4194            404  3.195261                   0       0   \n",
              "4               1320            472  4.058682                   0       0   \n",
              "\n",
              "   num_tokens  avg_token_length  num_concat_ops  num_encoded_cmds  \\\n",
              "0          23        127.869565              29                 0   \n",
              "1        2152          4.033922             133                 0   \n",
              "2        2193          5.357957             126                 0   \n",
              "3        1339          4.493652             119                 0   \n",
              "4          21        117.333333              27                 0   \n",
              "\n",
              "   num_suspicious_words  \n",
              "0                     0  \n",
              "1                     0  \n",
              "2                     0  \n",
              "3                     0  \n",
              "4                     0  "
            ],
            "text/html": [
              "\n",
              "  <div id=\"df-44d28dc8-ddad-4cad-963b-6b88371de229\" class=\"colab-df-container\">\n",
              "    <div>\n",
              "<style scoped>\n",
              "    .dataframe tbody tr th:only-of-type {\n",
              "        vertical-align: middle;\n",
              "    }\n",
              "\n",
              "    .dataframe tbody tr th {\n",
              "        vertical-align: top;\n",
              "    }\n",
              "\n",
              "    .dataframe thead th {\n",
              "        text-align: right;\n",
              "    }\n",
              "</style>\n",
              "<table border=\"1\" class=\"dataframe\">\n",
              "  <thead>\n",
              "    <tr style=\"text-align: right;\">\n",
              "      <th></th>\n",
              "      <th>script</th>\n",
              "      <th>label</th>\n",
              "      <th>length</th>\n",
              "      <th>num_special_chars</th>\n",
              "      <th>num_uppercase</th>\n",
              "      <th>entropy</th>\n",
              "      <th>num_base64_strings</th>\n",
              "      <th>has_ie</th>\n",
              "      <th>num_tokens</th>\n",
              "      <th>avg_token_length</th>\n",
              "      <th>num_concat_ops</th>\n",
              "      <th>num_encoded_cmds</th>\n",
              "      <th>num_suspicious_words</th>\n",
              "    </tr>\n",
              "  </thead>\n",
              "  <tbody>\n",
              "    <tr>\n",
              "      <th>0</th>\n",
              "      <td>\u0000(\u0000n\u0000e\u0000w\u0000-\u0000O\u0000b\u0000J\u0000E\u0000C\u0000T\u0000 \u0000 \u0000i\u0000o\u0000.\u0000c\u0000o\u0000M\u0000P\u0000r\u0000E\u0000...</td>\n",
              "      <td>1</td>\n",
              "      <td>2964</td>\n",
              "      <td>1577</td>\n",
              "      <td>608</td>\n",
              "      <td>4.063013</td>\n",
              "      <td>0</td>\n",
              "      <td>0</td>\n",
              "      <td>23</td>\n",
              "      <td>127.869565</td>\n",
              "      <td>29</td>\n",
              "      <td>0</td>\n",
              "      <td>0</td>\n",
              "    </tr>\n",
              "    <tr>\n",
              "      <th>1</th>\n",
              "      <td>&amp;\u0000(\u0000 \u0000$\u0000e\u0000n\u0000V\u0000:\u0000c\u0000O\u0000m\u0000S\u0000p\u0000e\u0000c\u0000[\u00004\u0000,\u00001\u00005\u0000,\u00002\u00005\u0000...</td>\n",
              "      <td>1</td>\n",
              "      <td>10832</td>\n",
              "      <td>6043</td>\n",
              "      <td>555</td>\n",
              "      <td>3.121414</td>\n",
              "      <td>0</td>\n",
              "      <td>0</td>\n",
              "      <td>2152</td>\n",
              "      <td>4.033922</td>\n",
              "      <td>133</td>\n",
              "      <td>0</td>\n",
              "      <td>0</td>\n",
              "    </tr>\n",
              "    <tr>\n",
              "      <th>2</th>\n",
              "      <td>F\u0000u\u0000n\u0000c\u0000t\u0000i\u0000o\u0000n\u0000 \u0000l\u0000i\u0000s\u0000T\u0000`\u0000-\u0000`\u0000N\u0000a\u0000v\u0000r\u0000E\u0000M\u0000O\u0000...</td>\n",
              "      <td>1</td>\n",
              "      <td>13942</td>\n",
              "      <td>9288</td>\n",
              "      <td>586</td>\n",
              "      <td>3.299632</td>\n",
              "      <td>0</td>\n",
              "      <td>0</td>\n",
              "      <td>2193</td>\n",
              "      <td>5.357957</td>\n",
              "      <td>126</td>\n",
              "      <td>0</td>\n",
              "      <td>0</td>\n",
              "    </tr>\n",
              "    <tr>\n",
              "      <th>3</th>\n",
              "      <td>\u0000(\u0000(\u0000'\u0000F\u0000u\u0000'\u0000+\u0000'\u0000n\u0000c\u0000t\u0000i\u0000o\u0000n\u0000 \u0000L\u0000i\u0000s\u0000t\u0000-\u0000N\u0000A\u0000...</td>\n",
              "      <td>1</td>\n",
              "      <td>7356</td>\n",
              "      <td>4194</td>\n",
              "      <td>404</td>\n",
              "      <td>3.195261</td>\n",
              "      <td>0</td>\n",
              "      <td>0</td>\n",
              "      <td>1339</td>\n",
              "      <td>4.493652</td>\n",
              "      <td>119</td>\n",
              "      <td>0</td>\n",
              "      <td>0</td>\n",
              "    </tr>\n",
              "    <tr>\n",
              "      <th>4</th>\n",
              "      <td>(\u0000 \u0000n\u0000E\u0000w\u0000-\u0000O\u0000B\u0000j\u0000e\u0000c\u0000t\u0000 \u0000 \u0000S\u0000Y\u0000s\u0000t\u0000E\u0000M\u0000.\u0000i\u0000O\u0000...</td>\n",
              "      <td>1</td>\n",
              "      <td>2484</td>\n",
              "      <td>1320</td>\n",
              "      <td>472</td>\n",
              "      <td>4.058682</td>\n",
              "      <td>0</td>\n",
              "      <td>0</td>\n",
              "      <td>21</td>\n",
              "      <td>117.333333</td>\n",
              "      <td>27</td>\n",
              "      <td>0</td>\n",
              "      <td>0</td>\n",
              "    </tr>\n",
              "  </tbody>\n",
              "</table>\n",
              "</div>\n",
              "    <div class=\"colab-df-buttons\">\n",
              "\n",
              "  <div class=\"colab-df-container\">\n",
              "    <button class=\"colab-df-convert\" onclick=\"convertToInteractive('df-44d28dc8-ddad-4cad-963b-6b88371de229')\"\n",
              "            title=\"Convert this dataframe to an interactive table.\"\n",
              "            style=\"display:none;\">\n",
              "\n",
              "  <svg xmlns=\"http://www.w3.org/2000/svg\" height=\"24px\" viewBox=\"0 -960 960 960\">\n",
              "    <path d=\"M120-120v-720h720v720H120Zm60-500h600v-160H180v160Zm220 220h160v-160H400v160Zm0 220h160v-160H400v160ZM180-400h160v-160H180v160Zm440 0h160v-160H620v160ZM180-180h160v-160H180v160Zm440 0h160v-160H620v160Z\"/>\n",
              "  </svg>\n",
              "    </button>\n",
              "\n",
              "  <style>\n",
              "    .colab-df-container {\n",
              "      display:flex;\n",
              "      gap: 12px;\n",
              "    }\n",
              "\n",
              "    .colab-df-convert {\n",
              "      background-color: #E8F0FE;\n",
              "      border: none;\n",
              "      border-radius: 50%;\n",
              "      cursor: pointer;\n",
              "      display: none;\n",
              "      fill: #1967D2;\n",
              "      height: 32px;\n",
              "      padding: 0 0 0 0;\n",
              "      width: 32px;\n",
              "    }\n",
              "\n",
              "    .colab-df-convert:hover {\n",
              "      background-color: #E2EBFA;\n",
              "      box-shadow: 0px 1px 2px rgba(60, 64, 67, 0.3), 0px 1px 3px 1px rgba(60, 64, 67, 0.15);\n",
              "      fill: #174EA6;\n",
              "    }\n",
              "\n",
              "    .colab-df-buttons div {\n",
              "      margin-bottom: 4px;\n",
              "    }\n",
              "\n",
              "    [theme=dark] .colab-df-convert {\n",
              "      background-color: #3B4455;\n",
              "      fill: #D2E3FC;\n",
              "    }\n",
              "\n",
              "    [theme=dark] .colab-df-convert:hover {\n",
              "      background-color: #434B5C;\n",
              "      box-shadow: 0px 1px 3px 1px rgba(0, 0, 0, 0.15);\n",
              "      filter: drop-shadow(0px 1px 2px rgba(0, 0, 0, 0.3));\n",
              "      fill: #FFFFFF;\n",
              "    }\n",
              "  </style>\n",
              "\n",
              "    <script>\n",
              "      const buttonEl =\n",
              "        document.querySelector('#df-44d28dc8-ddad-4cad-963b-6b88371de229 button.colab-df-convert');\n",
              "      buttonEl.style.display =\n",
              "        google.colab.kernel.accessAllowed ? 'block' : 'none';\n",
              "\n",
              "      async function convertToInteractive(key) {\n",
              "        const element = document.querySelector('#df-44d28dc8-ddad-4cad-963b-6b88371de229');\n",
              "        const dataTable =\n",
              "          await google.colab.kernel.invokeFunction('convertToInteractive',\n",
              "                                                    [key], {});\n",
              "        if (!dataTable) return;\n",
              "\n",
              "        const docLinkHtml = 'Like what you see? Visit the ' +\n",
              "          '<a target=\"_blank\" href=https://colab.research.google.com/notebooks/data_table.ipynb>data table notebook</a>'\n",
              "          + ' to learn more about interactive tables.';\n",
              "        element.innerHTML = '';\n",
              "        dataTable['output_type'] = 'display_data';\n",
              "        await google.colab.output.renderOutput(dataTable, element);\n",
              "        const docLink = document.createElement('div');\n",
              "        docLink.innerHTML = docLinkHtml;\n",
              "        element.appendChild(docLink);\n",
              "      }\n",
              "    </script>\n",
              "  </div>\n",
              "\n",
              "\n",
              "    <div id=\"df-7b159a28-23cd-4113-972f-f4f2f24c0295\">\n",
              "      <button class=\"colab-df-quickchart\" onclick=\"quickchart('df-7b159a28-23cd-4113-972f-f4f2f24c0295')\"\n",
              "                title=\"Suggest charts\"\n",
              "                style=\"display:none;\">\n",
              "\n",
              "<svg xmlns=\"http://www.w3.org/2000/svg\" height=\"24px\"viewBox=\"0 0 24 24\"\n",
              "     width=\"24px\">\n",
              "    <g>\n",
              "        <path d=\"M19 3H5c-1.1 0-2 .9-2 2v14c0 1.1.9 2 2 2h14c1.1 0 2-.9 2-2V5c0-1.1-.9-2-2-2zM9 17H7v-7h2v7zm4 0h-2V7h2v10zm4 0h-2v-4h2v4z\"/>\n",
              "    </g>\n",
              "</svg>\n",
              "      </button>\n",
              "\n",
              "<style>\n",
              "  .colab-df-quickchart {\n",
              "      --bg-color: #E8F0FE;\n",
              "      --fill-color: #1967D2;\n",
              "      --hover-bg-color: #E2EBFA;\n",
              "      --hover-fill-color: #174EA6;\n",
              "      --disabled-fill-color: #AAA;\n",
              "      --disabled-bg-color: #DDD;\n",
              "  }\n",
              "\n",
              "  [theme=dark] .colab-df-quickchart {\n",
              "      --bg-color: #3B4455;\n",
              "      --fill-color: #D2E3FC;\n",
              "      --hover-bg-color: #434B5C;\n",
              "      --hover-fill-color: #FFFFFF;\n",
              "      --disabled-bg-color: #3B4455;\n",
              "      --disabled-fill-color: #666;\n",
              "  }\n",
              "\n",
              "  .colab-df-quickchart {\n",
              "    background-color: var(--bg-color);\n",
              "    border: none;\n",
              "    border-radius: 50%;\n",
              "    cursor: pointer;\n",
              "    display: none;\n",
              "    fill: var(--fill-color);\n",
              "    height: 32px;\n",
              "    padding: 0;\n",
              "    width: 32px;\n",
              "  }\n",
              "\n",
              "  .colab-df-quickchart:hover {\n",
              "    background-color: var(--hover-bg-color);\n",
              "    box-shadow: 0 1px 2px rgba(60, 64, 67, 0.3), 0 1px 3px 1px rgba(60, 64, 67, 0.15);\n",
              "    fill: var(--button-hover-fill-color);\n",
              "  }\n",
              "\n",
              "  .colab-df-quickchart-complete:disabled,\n",
              "  .colab-df-quickchart-complete:disabled:hover {\n",
              "    background-color: var(--disabled-bg-color);\n",
              "    fill: var(--disabled-fill-color);\n",
              "    box-shadow: none;\n",
              "  }\n",
              "\n",
              "  .colab-df-spinner {\n",
              "    border: 2px solid var(--fill-color);\n",
              "    border-color: transparent;\n",
              "    border-bottom-color: var(--fill-color);\n",
              "    animation:\n",
              "      spin 1s steps(1) infinite;\n",
              "  }\n",
              "\n",
              "  @keyframes spin {\n",
              "    0% {\n",
              "      border-color: transparent;\n",
              "      border-bottom-color: var(--fill-color);\n",
              "      border-left-color: var(--fill-color);\n",
              "    }\n",
              "    20% {\n",
              "      border-color: transparent;\n",
              "      border-left-color: var(--fill-color);\n",
              "      border-top-color: var(--fill-color);\n",
              "    }\n",
              "    30% {\n",
              "      border-color: transparent;\n",
              "      border-left-color: var(--fill-color);\n",
              "      border-top-color: var(--fill-color);\n",
              "      border-right-color: var(--fill-color);\n",
              "    }\n",
              "    40% {\n",
              "      border-color: transparent;\n",
              "      border-right-color: var(--fill-color);\n",
              "      border-top-color: var(--fill-color);\n",
              "    }\n",
              "    60% {\n",
              "      border-color: transparent;\n",
              "      border-right-color: var(--fill-color);\n",
              "    }\n",
              "    80% {\n",
              "      border-color: transparent;\n",
              "      border-right-color: var(--fill-color);\n",
              "      border-bottom-color: var(--fill-color);\n",
              "    }\n",
              "    90% {\n",
              "      border-color: transparent;\n",
              "      border-bottom-color: var(--fill-color);\n",
              "    }\n",
              "  }\n",
              "</style>\n",
              "\n",
              "      <script>\n",
              "        async function quickchart(key) {\n",
              "          const quickchartButtonEl =\n",
              "            document.querySelector('#' + key + ' button');\n",
              "          quickchartButtonEl.disabled = true;  // To prevent multiple clicks.\n",
              "          quickchartButtonEl.classList.add('colab-df-spinner');\n",
              "          try {\n",
              "            const charts = await google.colab.kernel.invokeFunction(\n",
              "                'suggestCharts', [key], {});\n",
              "          } catch (error) {\n",
              "            console.error('Error during call to suggestCharts:', error);\n",
              "          }\n",
              "          quickchartButtonEl.classList.remove('colab-df-spinner');\n",
              "          quickchartButtonEl.classList.add('colab-df-quickchart-complete');\n",
              "        }\n",
              "        (() => {\n",
              "          let quickchartButtonEl =\n",
              "            document.querySelector('#df-7b159a28-23cd-4113-972f-f4f2f24c0295 button');\n",
              "          quickchartButtonEl.style.display =\n",
              "            google.colab.kernel.accessAllowed ? 'block' : 'none';\n",
              "        })();\n",
              "      </script>\n",
              "    </div>\n",
              "\n",
              "    </div>\n",
              "  </div>\n"
            ],
            "application/vnd.google.colaboratory.intrinsic+json": {
              "type": "dataframe",
              "variable_name": "data",
              "summary": "{\n  \"name\": \"data\",\n  \"rows\": 990,\n  \"fields\": [\n    {\n      \"column\": \"script\",\n      \"properties\": {\n        \"dtype\": \"category\",\n        \"num_unique_values\": 480,\n        \"samples\": [\n          \"\\ufeff$date = Get-Date\\ngit add *\\ngit commit -m \\\"Configs for $date\\\"\\ngit push origin master 2> $null\\n\",\n          \"\\ufeffclear\\n\\n$starttime = [datetime]::Now\\n\\n. C:\\\\Github\\\\PoSh\\\\spsomlib.ps1\\n. C:\\\\Scripts\\\\SPSAuthData.ps1 # redefine $sitename, $username, $password \\n\\n$sitename = \\\"https://inblago.sharepoint.com\\\"\\n$cont = ConnectSPS -siteurl $sitename -user $username -password $password\\n\\n#clear current destinations\\nfunction ClearList($listname) {\\n\\t$items = RetrieveListItems -web $cont.Web -list $listname\\n\\tforeach ($item in $items) { \\n\\t\\t$item.DeleteObject()\\n\\t}\\n\\t$cont.ExecuteQuery()\\n}\\n\\n# Get collection of subsites\\n$cont.Web.Webs.RetrieveItems().Retrieve()\\n$cont.ExecuteQuery()\\n\\n\\n$baseweb = $cont.Web.Webs | where { $_.ServerRelativeURL -eq \\\"/funds\\\" } | Select -First 1\\n\\n$dest = @{}\\n\\nfunction ScanWebs($webs, $prefix, $list) {\\n\\t$webs | \\n\\t\\twhere {$_.Title -ne \\\"\\u0424\\u043e\\u043d\\u0434 \\u0428\\u0410\\u0411\\u041b\\u041e\\u041d\\\"} | \\n\\t\\tforeach { \\n\\t\\t\\t$web = $_\\n\\t\\t\\t$dest[$web.Title] = @{\\\"AbsoluteURL\\\"=$web.Url; \\\"Libraries\\\"=@{}}\\n\\t\\t\\tLoadObjectItems -cont $web.Context -object ([ref]$web.Lists) |\\n\\t\\t\\t\\twhere {-not  $_.Hidden } | \\n\\t\\t\\t\\tforeach {\\n\\t\\t\\t\\t\\t$destlist = LoadObject -cont $_.Context -object ([ref]$_)\\n\\t\\t\\t\\t\\t$dest[$web.Title][\\\"Libraries\\\"][$destlist.Title] = (LoadObject -cont $_.Context -object ([ref]$destlist.RootFolder)).ServerRelativeUrl\\n\\n#\\t\\t\\t\\t\\t$itemci = new-object Microsoft.SharePoint.Client.ListItemCreationInformation\\n#\\t\\t\\t\\t\\t$newitem = $list.AddItem($itemci)\\n#\\t\\t\\t\\t\\t$newitem[\\\"Title\\\"] = (\\\"{0}>{1}: {2}\\\" -f $prefix,$web.Title,$destlist.Title)\\n#\\t\\t\\t\\t\\t$newitem[\\\"FolderRelativeUrl\\\"] = $destlist.RootFolder.ServerRelativeUrl\\n#\\t\\t\\t\\t\\t$newitem[\\\"AbsoluteSiteUrl\\\"] = $web.Url\\n#\\t\\t\\t\\t\\t$newitem[\\\"IncludeMetadata\\\"] = $false\\n#\\t\\t\\t\\t\\t$newitem.Update()\\n\\t\\t\\t\\t}\\n\\t\\t}\\n\\t$cont.ExecuteQuery() \\n}\\n\\n#ClearList -listname \\\"\\u041d\\u0430\\u0441\\u0442\\u0440\\u043e\\u0439\\u043a\\u0438\\\"\\n$li = GetListInformation -web $cont.Web -list \\\"\\u041d\\u0430\\u0441\\u0442\\u0440\\u043e\\u0439\\u043a\\u0438\\\"\\n\\nScanWebs -webs (LoadObjectItems -cont $cont -object ([ref]$baseweb.Webs)) -list $li[\\\"List\\\"]\\n\",\n          \"##########\\n# Make Windows 10 Great Again\\n# Current Author: TokinRing <support@gnetsolutions.net>\\n# Current Version: 1.5 8-8-2016\\n#\\n# Forked from original script created by Disassembler <disassembler@dasm.cz>\\n# Original Version: 1.4, 2016-01-16\\n#\\n# NOTE: MAKE SURE YOU READ THIS SCRIPT CAREFULLY BEFORE RUNNING IT\\n##########\\n \\n# Ask for elevated permissions if required\\nIf (!([Security.Principal.WindowsPrincipal][Security.Principal.WindowsIdentity]::GetCurrent()).IsInRole([Security.Principal.WindowsBuiltInRole]\\\"Administrator\\\")) {\\n    Start-Process powershell.exe \\\"-NoProfile -ExecutionPolicy Bypass -File `\\\"$PSCommandPath`\\\"\\\" -Verb RunAs\\n    Exit\\n}\\n \\n##########\\n# Privacy Settings\\n##########\\n \\n# Disable Telemetry\\nWrite-Host \\\"Disabling Telemetry...\\\"\\nSet-ItemProperty -Path \\\"HKLM:\\\\Software\\\\Policies\\\\Microsoft\\\\Windows\\\\DataCollection\\\" -Name \\\"AllowTelemetry\\\" -Type DWord -Value 0\\n \\n# Enable Telemetry\\n# Remove-ItemProperty -Path \\\"HKLM:\\\\Software\\\\Policies\\\\Microsoft\\\\Windows\\\\DataCollection\\\" -Name \\\"AllowTelemetry\\\"\\n \\n# Disable Wi-Fi Sense\\nWrite-Host \\\"Disabling Wi-Fi Sense...\\\"\\nIf (!(Test-Path \\\"HKLM:\\\\Software\\\\Microsoft\\\\PolicyManager\\\\default\\\\WiFi\\\\AllowWiFiHotSpotReporting\\\")) {\\n    New-Item -Path \\\"HKLM:\\\\Software\\\\Microsoft\\\\PolicyManager\\\\default\\\\WiFi\\\\AllowWiFiHotSpotReporting\\\" -Force | Out-Null\\n}\\nSet-ItemProperty -Path \\\"HKLM:\\\\Software\\\\Microsoft\\\\PolicyManager\\\\default\\\\WiFi\\\\AllowWiFiHotSpotReporting\\\" -Name \\\"Value\\\" -Type DWord -Value 0\\nSet-ItemProperty -Path \\\"HKLM:\\\\Software\\\\Microsoft\\\\PolicyManager\\\\default\\\\WiFi\\\\AllowAutoConnectToWiFiSenseHotspots\\\" -Name \\\"Value\\\" -Type DWord -Value 0\\n \\n# Enable Wi-Fi Sense\\n# Set-ItemProperty -Path \\\"HKLM:\\\\Software\\\\Microsoft\\\\PolicyManager\\\\default\\\\WiFi\\\\AllowWiFiHotSpotReporting\\\" -Name \\\"Value\\\" -Type DWord -Value 1\\n# Set-ItemProperty -Path \\\"HKLM:\\\\Software\\\\Microsoft\\\\PolicyManager\\\\default\\\\WiFi\\\\AllowAutoConnectToWiFiSenseHotspots\\\" -Name \\\"Value\\\" -Type DWord -Value 1\\n \\n# Disable SmartScreen Filter\\n# Write-Host \\\"Disabling SmartScreen Filter...\\\"\\n# Set-ItemProperty -Path \\\"HKLM:\\\\Software\\\\Microsoft\\\\Windows\\\\CurrentVersion\\\\Explorer\\\" -Name \\\"SmartScreenEnabled\\\" -Type String -Value \\\"Off\\\"\\n# Set-ItemProperty -Path \\\"HKCU:\\\\Software\\\\Microsoft\\\\Windows\\\\CurrentVersion\\\\AppHost\\\" -Name \\\"EnableWebContentEvaluation\\\" -Type DWord -Value 0\\n \\n# Enable SmartScreen Filter\\n# Set-ItemProperty -Path \\\"HKLM:\\\\Software\\\\Microsoft\\\\Windows\\\\CurrentVersion\\\\Explorer\\\" -Name \\\"SmartScreenEnabled\\\" -Type String -Value \\\"RequireAdmin\\\"\\n# Remove-ItemProperty -Path \\\"HKCU:\\\\Software\\\\Microsoft\\\\Windows\\\\CurrentVersion\\\\AppHost\\\" -Name \\\"EnableWebContentEvaluation\\\"\\n \\n# Disable Bing Search in Start Menu\\nWrite-Host \\\"Disabling Bing Search in Start Menu...\\\"\\nSet-ItemProperty -Path \\\"HKCU:\\\\Software\\\\Microsoft\\\\Windows\\\\CurrentVersion\\\\Search\\\" -Name \\\"BingSearchEnabled\\\" -Type DWord -Value 0\\n \\n# Enable Bing Search in Start Menu\\n# Remove-ItemProperty -Path \\\"HKCU:\\\\Software\\\\Microsoft\\\\Windows\\\\CurrentVersion\\\\Search\\\" -Name \\\"BingSearchEnabled\\\"\\n \\n# Disable Location Tracking\\nWrite-Host \\\"Disabling Location Tracking...\\\"\\nSet-ItemProperty -Path \\\"HKLM:\\\\SOFTWARE\\\\Microsoft\\\\Windows NT\\\\CurrentVersion\\\\Sensor\\\\Overrides\\\\{BFA794E4-F964-4FDB-90F6-51056BFE4B44}\\\" -Name \\\"SensorPermissionState\\\" -Type DWord -Value 0\\nSet-ItemProperty -Path \\\"HKLM:\\\\System\\\\CurrentControlSet\\\\Services\\\\lfsvc\\\\Service\\\\Configuration\\\" -Name \\\"Status\\\" -Type DWord -Value 0\\n \\n# Enable Location Tracking\\n# Set-ItemProperty -Path \\\"HKLM:\\\\SOFTWARE\\\\Microsoft\\\\Windows NT\\\\CurrentVersion\\\\Sensor\\\\Overrides\\\\{BFA794E4-F964-4FDB-90F6-51056BFE4B44}\\\" -Name \\\"SensorPermissionState\\\" -Type DWord -Value 1\\n# Set-ItemProperty -Path \\\"HKLM:\\\\System\\\\CurrentControlSet\\\\Services\\\\lfsvc\\\\Service\\\\Configuration\\\" -Name \\\"Status\\\" -Type DWord -Value 1\\n \\n# Disable Feedback\\nWrite-Host \\\"Disabling Feedback...\\\"\\nIf (!(Test-Path \\\"HKCU:\\\\Software\\\\Microsoft\\\\Siuf\\\\Rules\\\")) {\\n    New-Item -Path \\\"HKCU:\\\\Software\\\\Microsoft\\\\Siuf\\\\Rules\\\" -Force | Out-Null\\n}\\nSet-ItemProperty -Path \\\"HKCU:\\\\Software\\\\Microsoft\\\\Siuf\\\\Rules\\\" -Name \\\"NumberOfSIUFInPeriod\\\" -Type DWord -Value 0\\n \\n# Enable Feedback\\n# Remove-ItemProperty -Path \\\"HKCU:\\\\Software\\\\Microsoft\\\\Siuf\\\\Rules\\\" -Name \\\"NumberOfSIUFInPeriod\\\"\\n \\n# Disable Advertising ID\\nWrite-Host \\\"Disabling Advertising ID...\\\"\\nIf (!(Test-Path \\\"HKCU:\\\\Software\\\\Microsoft\\\\Windows\\\\CurrentVersion\\\\AdvertisingInfo\\\")) {\\n    New-Item -Path \\\"HKCU:\\\\Software\\\\Microsoft\\\\Windows\\\\CurrentVersion\\\\AdvertisingInfo\\\" | Out-Null\\n}\\nSet-ItemProperty -Path \\\"HKCU:\\\\Software\\\\Microsoft\\\\Windows\\\\CurrentVersion\\\\AdvertisingInfo\\\" -Name \\\"Enabled\\\" -Type DWord -Value 0\\n \\n# Enable Advertising ID\\n# Remove-ItemProperty -Path \\\"HKCU:\\\\Software\\\\Microsoft\\\\Windows\\\\CurrentVersion\\\\AdvertisingInfo\\\" -Name \\\"Enabled\\\"\\n \\n# Disable Cortana\\nWrite-Host \\\"Disabling Cortana...\\\"\\nIf (!(Test-Path \\\"HKCU:\\\\Software\\\\Microsoft\\\\Personalization\\\\Settings\\\")) {\\n    New-Item -Path \\\"HKCU:\\\\Software\\\\Microsoft\\\\Personalization\\\\Settings\\\" -Force | Out-Null\\n}\\nSet-ItemProperty -Path \\\"HKCU:\\\\Software\\\\Microsoft\\\\Personalization\\\\Settings\\\" -Name \\\"AcceptedPrivacyPolicy\\\" -Type DWord -Value 0\\nIf (!(Test-Path \\\"HKCU:\\\\Software\\\\Microsoft\\\\InputPersonalization\\\")) {\\n    New-Item -Path \\\"HKCU:\\\\Software\\\\Microsoft\\\\InputPersonalization\\\" -Force | Out-Null\\n}\\nSet-ItemProperty -Path \\\"HKCU:\\\\Software\\\\Microsoft\\\\InputPersonalization\\\" -Name \\\"RestrictImplicitTextCollection\\\" -Type DWord -Value 1\\nSet-ItemProperty -Path \\\"HKCU:\\\\Software\\\\Microsoft\\\\InputPersonalization\\\" -Name \\\"RestrictImplicitInkCollection\\\" -Type DWord -Value 1\\nIf (!(Test-Path \\\"HKCU:\\\\Software\\\\Microsoft\\\\InputPersonalization\\\\TrainedDataStore\\\")) {\\n    New-Item -Path \\\"HKCU:\\\\Software\\\\Microsoft\\\\InputPersonalization\\\\TrainedDataStore\\\" -Force | Out-Null\\n}\\nSet-ItemProperty -Path \\\"HKCU:\\\\Software\\\\Microsoft\\\\InputPersonalization\\\\TrainedDataStore\\\" -Name \\\"HarvestContacts\\\" -Type DWord -Value 0\\n \\n# Enable Cortana\\n# Remove-ItemProperty -Path \\\"HKCU:\\\\Software\\\\Microsoft\\\\Personalization\\\\Settings\\\" -Name \\\"AcceptedPrivacyPolicy\\\"\\n# Set-ItemProperty -Path \\\"HKCU:\\\\Software\\\\Microsoft\\\\InputPersonalization\\\" -Name \\\"RestrictImplicitTextCollection\\\" -Type DWord -Value 0\\n# Set-ItemProperty -Path \\\"HKCU:\\\\Software\\\\Microsoft\\\\InputPersonalization\\\" -Name \\\"RestrictImplicitInkCollection\\\" -Type DWord -Value 0\\n# Remove-ItemProperty -Path \\\"HKCU:\\\\Software\\\\Microsoft\\\\InputPersonalization\\\\TrainedDataStore\\\" -Name \\\"HarvestContacts\\\"\\n \\n# Restrict Windows Update P2P only to local network\\nWrite-Host \\\"Restricting Windows Update P2P only to local network...\\\"\\nSet-ItemProperty -Path \\\"HKLM:\\\\Software\\\\Microsoft\\\\Windows\\\\CurrentVersion\\\\DeliveryOptimization\\\\Config\\\" -Name \\\"DODownloadMode\\\" -Type DWord -Value 1\\nIf (!(Test-Path \\\"HKCU:\\\\Software\\\\Microsoft\\\\Windows\\\\CurrentVersion\\\\DeliveryOptimization\\\")) {\\n    New-Item -Path \\\"HKCU:\\\\Software\\\\Microsoft\\\\Windows\\\\CurrentVersion\\\\DeliveryOptimization\\\" | Out-Null\\n}\\nSet-ItemProperty -Path \\\"HKCU:\\\\Software\\\\Microsoft\\\\Windows\\\\CurrentVersion\\\\DeliveryOptimization\\\" -Name \\\"SystemSettingsDownloadMode\\\" -Type DWord -Value 3\\n \\n# Unrestrict Windows Update P2P\\n# Remove-ItemProperty -Path \\\"HKLM:\\\\Software\\\\Microsoft\\\\Windows\\\\CurrentVersion\\\\DeliveryOptimization\\\\Config\\\" -Name \\\"DODownloadMode\\\"\\n# Remove-ItemProperty -Path \\\"HKCU:\\\\Software\\\\Microsoft\\\\Windows\\\\CurrentVersion\\\\DeliveryOptimization\\\" -Name \\\"SystemSettingsDownloadMode\\\"\\n \\n# Remove AutoLogger file and restrict directory\\nWrite-Host \\\"Removing AutoLogger file and restricting directory...\\\"\\n$autoLoggerDir = \\\"$env:PROGRAMDATA\\\\Microsoft\\\\Diagnosis\\\\ETLLogs\\\\AutoLogger\\\"\\nIf (Test-Path \\\"$autoLoggerDir\\\\AutoLogger-Diagtrack-Listener.etl\\\") {\\n    Remove-Item \\\"$autoLoggerDir\\\\AutoLogger-Diagtrack-Listener.etl\\\"\\n}\\nicacls $autoLoggerDir /deny SYSTEM:`(OI`)`(CI`)F | Out-Null\\n \\n# Unrestrict AutoLogger directory\\n# $autoLoggerDir = \\\"$env:PROGRAMDATA\\\\Microsoft\\\\Diagnosis\\\\ETLLogs\\\\AutoLogger\\\"\\n# icacls $autoLoggerDir /grant:r SYSTEM:`(OI`)`(CI`)F | Out-Null\\n \\n# Stop and disable Diagnostics Tracking Service\\nWrite-Host \\\"Stopping and disabling Diagnostics Tracking Service...\\\"\\nStop-Service \\\"DiagTrack\\\"\\nSet-Service \\\"DiagTrack\\\" -StartupType Disabled\\n \\n# Enable and start Diagnostics Tracking Service\\n# Set-Service \\\"DiagTrack\\\" -StartupType Automatic\\n# Start-Service \\\"DiagTrack\\\"\\n \\n# Stop and disable WAP Push Service\\nWrite-Host \\\"Stopping and disabling WAP Push Service...\\\"\\nStop-Service \\\"dmwappushservice\\\"\\nSet-Service \\\"dmwappushservice\\\" -StartupType Disabled\\n \\n# Enable and start WAP Push Service\\n# Set-Service \\\"dmwappushservice\\\" -StartupType Automatic\\n# Start-Service \\\"dmwappushservice\\\"\\n# Set-ItemProperty -Path \\\"HKLM:\\\\SYSTEM\\\\CurrentControlSet\\\\Services\\\\dmwappushservice\\\" -Name \\\"DelayedAutoStart\\\" -Type DWord -Value 1\\n \\n \\n##########\\n# Service Tweaks\\n##########\\n \\n# Lower UAC level\\n# Write-Host \\\"Lowering UAC level...\\\"\\n# Set-ItemProperty -Path \\\"HKLM:\\\\Software\\\\Microsoft\\\\Windows\\\\CurrentVersion\\\\Policies\\\\System\\\" -Name \\\"ConsentPromptBehaviorAdmin\\\" -Type DWord -Value 0\\n# Set-ItemProperty -Path \\\"HKLM:\\\\Software\\\\Microsoft\\\\Windows\\\\CurrentVersion\\\\Policies\\\\System\\\" -Name \\\"PromptOnSecureDesktop\\\" -Type DWord -Value 0\\n \\n# Raise UAC level\\n# Set-ItemProperty -Path \\\"HKLM:\\\\Software\\\\Microsoft\\\\Windows\\\\CurrentVersion\\\\Policies\\\\System\\\" -Name \\\"ConsentPromptBehaviorAdmin\\\" -Type DWord -Value 5\\n# Set-ItemProperty -Path \\\"HKLM:\\\\Software\\\\Microsoft\\\\Windows\\\\CurrentVersion\\\\Policies\\\\System\\\" -Name \\\"PromptOnSecureDesktop\\\" -Type DWord -Value 1\\n \\n# Enable sharing mapped drives between users\\n# Write-Host \\\"Enabling sharing mapped drives between users...\\\"\\n# Set-ItemProperty -Path \\\"HKLM:\\\\Software\\\\Microsoft\\\\Windows\\\\CurrentVersion\\\\Policies\\\\System\\\" -Name \\\"EnableLinkedConnections\\\" -Type DWord -Value 1\\n \\n# Disable sharing mapped drives between users\\n# Remove-ItemProperty -Path \\\"HKLM:\\\\Software\\\\Microsoft\\\\Windows\\\\CurrentVersion\\\\Policies\\\\System\\\" -Name \\\"EnableLinkedConnections\\\"\\n \\n# Disable Firewall\\n# Write-Host \\\"Disabling Firewall...\\\"\\n# Set-NetFirewallProfile -Profile * -Enabled False\\n \\n# Enable Firewall\\n# Set-NetFirewallProfile -Profile * -Enabled True\\n \\n# Disable Windows Defender\\n# Write-Host \\\"Disabling Windows Defender...\\\"\\n# Set-ItemProperty -Path \\\"HKLM:\\\\Software\\\\Policies\\\\Microsoft\\\\Windows Defender\\\" -Name \\\"DisableAntiSpyware\\\" -Type DWord -Value 1\\n \\n# Enable Windows Defender\\n# Remove-ItemProperty -Path \\\"HKLM:\\\\Software\\\\Policies\\\\Microsoft\\\\Windows Defender\\\" -Name \\\"DisableAntiSpyware\\\"\\n \\n# Disable Windows Update automatic restart\\nWrite-Host \\\"Disabling Windows Update automatic restart...\\\"\\nSet-ItemProperty -Path \\\"HKLM:\\\\Software\\\\Microsoft\\\\WindowsUpdate\\\\UX\\\\Settings\\\" -Name \\\"UxOption\\\" -Type DWord -Value 1\\n \\n# Enable Windows Update automatic restart\\n# Set-ItemProperty -Path \\\"HKLM:\\\\Software\\\\Microsoft\\\\WindowsUpdate\\\\UX\\\\Settings\\\" -Name \\\"UxOption\\\" -Type DWord -Value 0\\n \\n# Stop and disable Home Groups services\\nWrite-Host \\\"Stopping and disabling Home Groups services...\\\"\\nStop-Service \\\"HomeGroupListener\\\"\\nSet-Service \\\"HomeGroupListener\\\" -StartupType Disabled\\nStop-Service \\\"HomeGroupProvider\\\"\\nSet-Service \\\"HomeGroupProvider\\\" -StartupType Disabled\\n \\n# Enable and start Home Groups services\\n# Set-Service \\\"HomeGroupListener\\\" -StartupType Manual\\n# Set-Service \\\"HomeGroupProvider\\\" -StartupType Manual\\n# Start-Service \\\"HomeGroupProvider\\\"\\n \\n# Disable Remote Assistance\\n# Write-Host \\\"Disabling Remote Assistance...\\\"\\n# Set-ItemProperty -Path \\\"HKLM:\\\\System\\\\CurrentControlSet\\\\Control\\\\Remote Assistance\\\" -Name \\\"fAllowToGetHelp\\\" -Type DWord -Value 0\\n \\n# Enable Remote Assistance\\n# Set-ItemProperty -Path \\\"HKLM:\\\\System\\\\CurrentControlSet\\\\Control\\\\Remote Assistance\\\" -Name \\\"fAllowToGetHelp\\\" -Type DWord -Value 1\\n \\n# Enable Remote Desktop w/o Network Level Authentication\\n# Write-Host \\\"Enabling Remote Desktop w/o Network Level Authentication...\\\"\\n# Set-ItemProperty -Path \\\"HKLM:\\\\System\\\\CurrentControlSet\\\\Control\\\\Terminal Server\\\" -Name \\\"fDenyTSConnections\\\" -Type DWord -Value 0\\n# Set-ItemProperty -Path \\\"HKLM:\\\\System\\\\CurrentControlSet\\\\Control\\\\Terminal Server\\\\WinStations\\\\RDP-Tcp\\\" -Name \\\"UserAuthentication\\\" -Type DWord -Value 0\\n \\n# Disable Remote Desktop\\n# Set-ItemProperty -Path \\\"HKLM:\\\\System\\\\CurrentControlSet\\\\Control\\\\Terminal Server\\\" -Name \\\"fDenyTSConnections\\\" -Type DWord -Value 1\\n# Set-ItemProperty -Path \\\"HKLM:\\\\System\\\\CurrentControlSet\\\\Control\\\\Terminal Server\\\\WinStations\\\\RDP-Tcp\\\" -Name \\\"UserAuthentication\\\" -Type DWord -Value 1\\n \\n \\n##########\\n# UI Tweaks\\n##########\\n \\n# Disable Action Center\\n# Write-Host \\\"Disabling Action Center...\\\"\\n# If (!(Test-Path \\\"HKCU:\\\\Software\\\\Policies\\\\Microsoft\\\\Windows\\\\Explorer\\\")) {\\n#   New-Item -Path \\\"HKCU:\\\\Software\\\\Policies\\\\Microsoft\\\\Windows\\\\Explorer\\\" | Out-Null\\n# }\\n# Set-ItemProperty -Path \\\"HKCU:\\\\Software\\\\Policies\\\\Microsoft\\\\Windows\\\\Explorer\\\" -Name \\\"DisableNotificationCenter\\\" -Type DWord -Value 1\\n# Set-ItemProperty -Path \\\"HKCU:\\\\Software\\\\Microsoft\\\\Windows\\\\CurrentVersion\\\\PushNotifications\\\" -Name \\\"ToastEnabled\\\" -Type DWord -Value 0\\n \\n# Enable Action Center\\n# Remove-ItemProperty -Path \\\"HKCU:\\\\Software\\\\Policies\\\\Microsoft\\\\Windows\\\\Explorer\\\" -Name \\\"DisableNotificationCenter\\\"\\n# Remove-ItemProperty -Path \\\"HKCU:\\\\Software\\\\Microsoft\\\\Windows\\\\CurrentVersion\\\\PushNotifications\\\" -Name \\\"ToastEnabled\\\"\\n \\n# Disable Lock screen\\nWrite-Host \\\"Disabling Lock screen...\\\"\\nIf (!(Test-Path \\\"HKLM:\\\\Software\\\\Policies\\\\Microsoft\\\\Windows\\\\Personalization\\\")) {\\n  New-Item -Path \\\"HKLM:\\\\Software\\\\Policies\\\\Microsoft\\\\Windows\\\\Personalization\\\" | Out-Null\\n}\\nSet-ItemProperty -Path \\\"HKLM:\\\\Software\\\\Policies\\\\Microsoft\\\\Windows\\\\Personalization\\\" -Name \\\"NoLockScreen\\\" -Type DWord -Value 1\\n \\n# Enable Lock screen\\n# Remove-ItemProperty -Path \\\"HKLM:\\\\Software\\\\Policies\\\\Microsoft\\\\Windows\\\\Personalization\\\" -Name \\\"NoLockScreen\\\"\\n \\n# Disable Autoplay\\n# Write-Host \\\"Disabling Autoplay...\\\"\\n# Set-ItemProperty -Path \\\"HKCU:\\\\Software\\\\Microsoft\\\\Windows\\\\CurrentVersion\\\\Explorer\\\\AutoplayHandlers\\\" -Name \\\"DisableAutoplay\\\" -Type DWord -Value 1\\n \\n# Enable Autoplay\\n# Set-ItemProperty -Path \\\"HKCU:\\\\Software\\\\Microsoft\\\\Windows\\\\CurrentVersion\\\\Explorer\\\\AutoplayHandlers\\\" -Name \\\"DisableAutoplay\\\" -Type DWord -Value 0\\n \\n# Disable Autorun for all drives\\n# Write-Host \\\"Disabling Autorun for all drives...\\\"\\n# If (!(Test-Path \\\"HKCU:\\\\Software\\\\Microsoft\\\\Windows\\\\CurrentVersion\\\\Policies\\\\Explorer\\\")) {\\n#   New-Item -Path \\\"HKCU:\\\\Software\\\\Microsoft\\\\Windows\\\\CurrentVersion\\\\Policies\\\\Explorer\\\" | Out-Null\\n#}\\n# Set-ItemProperty -Path \\\"HKCU:\\\\Software\\\\Microsoft\\\\Windows\\\\CurrentVersion\\\\Policies\\\\Explorer\\\" -Name \\\"NoDriveTypeAutoRun\\\" -Type DWord -Value 255\\n \\n# Enable Autorun\\n# Remove-ItemProperty -Path \\\"HKCU:\\\\Software\\\\Microsoft\\\\Windows\\\\CurrentVersion\\\\Policies\\\\Explorer\\\" -Name \\\"NoDriveTypeAutoRun\\\"\\n \\n#Disable Sticky keys prompt\\nWrite-Host \\\"Disabling Sticky keys prompt...\\\" \\nSet-ItemProperty -Path \\\"HKCU:\\\\Control Panel\\\\Accessibility\\\\StickyKeys\\\" -Name \\\"Flags\\\" -Type String -Value \\\"506\\\"\\n \\n# Enable Sticky keys prompt\\n# Set-ItemProperty -Path \\\"HKCU:\\\\Control Panel\\\\Accessibility\\\\StickyKeys\\\" -Name \\\"Flags\\\" -Type String -Value \\\"510\\\"\\n \\n# Hide Search button / box\\nWrite-Host \\\"Hiding Search Box / Button...\\\"\\nSet-ItemProperty -Path \\\"HKCU:\\\\Software\\\\Microsoft\\\\Windows\\\\CurrentVersion\\\\Search\\\" -Name \\\"SearchboxTaskbarMode\\\" -Type DWord -Value 0\\n \\n# Show Search button / box\\n# Remove-ItemProperty -Path \\\"HKCU:\\\\Software\\\\Microsoft\\\\Windows\\\\CurrentVersion\\\\Search\\\" -Name \\\"SearchboxTaskbarMode\\\"\\n \\n# Hide Task View button\\n# Write-Host \\\"Hiding Task View button...\\\"\\n# Set-ItemProperty -Path \\\"HKCU:\\\\Software\\\\Microsoft\\\\Windows\\\\CurrentVersion\\\\Explorer\\\\Advanced\\\" -Name \\\"ShowTaskViewButton\\\" -Type DWord -Value 0\\n \\n# Show Task View button\\n# Remove-ItemProperty -Path \\\"HKCU:\\\\Software\\\\Microsoft\\\\Windows\\\\CurrentVersion\\\\Explorer\\\\Advanced\\\" -Name \\\"ShowTaskViewButton\\\"\\n \\n# Show small icons in taskbar\\n# Write-Host \\\"Showing small icons in taskbar...\\\"\\n# Set-ItemProperty -Path \\\"HKCU:\\\\Software\\\\Microsoft\\\\Windows\\\\CurrentVersion\\\\Explorer\\\\Advanced\\\" -Name \\\"TaskbarSmallIcons\\\" -Type DWord -Value 1\\n \\n# Show large icons in taskbar\\n# Remove-ItemProperty -Path \\\"HKCU:\\\\Software\\\\Microsoft\\\\Windows\\\\CurrentVersion\\\\Explorer\\\\Advanced\\\" -Name \\\"TaskbarSmallIcons\\\"\\n \\n# Show titles in taskbar\\n# Write-Host \\\"Showing titles in taskbar...\\\"\\n# Set-ItemProperty -Path \\\"HKCU:\\\\Software\\\\Microsoft\\\\Windows\\\\CurrentVersion\\\\Explorer\\\\Advanced\\\" -Name \\\"TaskbarGlomLevel\\\" -Type DWord -Value 1\\n \\n# Hide titles in taskbar\\n# Remove-ItemProperty -Path \\\"HKCU:\\\\Software\\\\Microsoft\\\\Windows\\\\CurrentVersion\\\\Explorer\\\\Advanced\\\" -Name \\\"TaskbarGlomLevel\\\"\\n \\n# Show all tray icons\\n# Write-Host \\\"Showing all tray icons...\\\"\\n# Set-ItemProperty -Path \\\"HKCU:\\\\Software\\\\Microsoft\\\\Windows\\\\CurrentVersion\\\\Explorer\\\" -Name \\\"EnableAutoTray\\\" -Type DWord -Value 0\\n \\n# Hide tray icons as needed\\n# Remove-ItemProperty -Path \\\"HKCU:\\\\Software\\\\Microsoft\\\\Windows\\\\CurrentVersion\\\\Explorer\\\" -Name \\\"EnableAutoTray\\\"\\n \\n# Show known file extensions\\nWrite-Host \\\"Showing known file extensions...\\\"\\nSet-ItemProperty -Path \\\"HKCU:\\\\Software\\\\Microsoft\\\\Windows\\\\CurrentVersion\\\\Explorer\\\\Advanced\\\" -Name \\\"HideFileExt\\\" -Type DWord -Value 0\\n \\n# Hide known file extensions\\n# Set-ItemProperty -Path \\\"HKCU:\\\\Software\\\\Microsoft\\\\Windows\\\\CurrentVersion\\\\Explorer\\\\Advanced\\\" -Name \\\"HideFileExt\\\" -Type DWord -Value 1\\n \\n# Show hidden files\\nWrite-Host \\\"Showing hidden files...\\\"\\nSet-ItemProperty -Path \\\"HKCU:\\\\Software\\\\Microsoft\\\\Windows\\\\CurrentVersion\\\\Explorer\\\\Advanced\\\" -Name \\\"Hidden\\\" -Type DWord -Value 1\\n \\n# Hide hidden files\\n# Set-ItemProperty -Path \\\"HKCU:\\\\Software\\\\Microsoft\\\\Windows\\\\CurrentVersion\\\\Explorer\\\\Advanced\\\" -Name \\\"Hidden\\\" -Type DWord -Value 2\\n \\n# Change default Explorer view to \\\"Computer\\\"\\nWrite-Host \\\"Changing default Explorer view to `\\\"Computer`\\\"...\\\"\\nSet-ItemProperty -Path \\\"HKCU:\\\\Software\\\\Microsoft\\\\Windows\\\\CurrentVersion\\\\Explorer\\\\Advanced\\\" -Name \\\"LaunchTo\\\" -Type DWord -Value 1\\n \\n# Change default Explorer view to \\\"Quick Access\\\"\\n# Remove-ItemProperty -Path \\\"HKCU:\\\\Software\\\\Microsoft\\\\Windows\\\\CurrentVersion\\\\Explorer\\\\Advanced\\\" -Name \\\"LaunchTo\\\"\\n \\n# Show Computer shortcut on desktop\\n# Write-Host \\\"Showing Computer shortcut on desktop...\\\"\\n# If (!(Test-Path \\\"HKCU:\\\\Software\\\\Microsoft\\\\Windows\\\\CurrentVersion\\\\Explorer\\\\HideDesktopIcons\\\\ClassicStartMenu\\\")) {\\n#   New-Item -Path \\\"HKCU:\\\\Software\\\\Microsoft\\\\Windows\\\\CurrentVersion\\\\Explorer\\\\HideDesktopIcons\\\\ClassicStartMenu\\\" | Out-Null\\n# }\\n# Set-ItemProperty -Path \\\"HKCU:\\\\Software\\\\Microsoft\\\\Windows\\\\CurrentVersion\\\\Explorer\\\\HideDesktopIcons\\\\ClassicStartMenu\\\" -Name \\\"{20D04FE0-3AEA-1069-A2D8-08002B30309D}\\\" -Type DWord -Value 0\\n# Set-ItemProperty -Path \\\"HKCU:\\\\Software\\\\Microsoft\\\\Windows\\\\CurrentVersion\\\\Explorer\\\\HideDesktopIcons\\\\NewStartPanel\\\" -Name \\\"{20D04FE0-3AEA-1069-A2D8-08002B30309D}\\\" -Type DWord -Value 0\\n \\n# Hide Computer shortcut from desktop\\n# Remove-ItemProperty -Path \\\"HKCU:\\\\Software\\\\Microsoft\\\\Windows\\\\CurrentVersion\\\\Explorer\\\\HideDesktopIcons\\\\ClassicStartMenu\\\" -Name \\\"{20D04FE0-3AEA-1069-A2D8-08002B30309D}\\\"\\n# Remove-ItemProperty -Path \\\"HKCU:\\\\Software\\\\Microsoft\\\\Windows\\\\CurrentVersion\\\\Explorer\\\\HideDesktopIcons\\\\NewStartPanel\\\" -Name \\\"{20D04FE0-3AEA-1069-A2D8-08002B30309D}\\\"\\n \\n# Remove Desktop icon from computer namespace\\n# Write-Host \\\"Removing Desktop icon from computer namespace...\\\"\\n# Remove-Item -Path \\\"HKLM:\\\\Software\\\\Microsoft\\\\Windows\\\\CurrentVersion\\\\Explorer\\\\MyComputer\\\\NameSpace\\\\{B4BFCC3A-DB2C-424C-B029-7FE99A87C641}\\\" -Recurse -ErrorAction SilentlyContinue\\n \\n# Add Desktop icon to computer namespace\\n# New-Item -Path \\\"HKLM:\\\\Software\\\\Microsoft\\\\Windows\\\\CurrentVersion\\\\Explorer\\\\MyComputer\\\\NameSpace\\\\{B4BFCC3A-DB2C-424C-B029-7FE99A87C641}\\\"\\n \\n# Remove Documents icon from computer namespace\\n# Write-Host \\\"Removing Documents icon from computer namespace...\\\"\\n# Remove-Item -Path \\\"HKLM:\\\\Software\\\\Microsoft\\\\Windows\\\\CurrentVersion\\\\Explorer\\\\MyComputer\\\\NameSpace\\\\{d3162b92-9365-467a-956b-92703aca08af}\\\" -Recurse -ErrorAction SilentlyContinue\\n# Remove-Item -Path \\\"HKLM:\\\\Software\\\\Microsoft\\\\Windows\\\\CurrentVersion\\\\Explorer\\\\MyComputer\\\\NameSpace\\\\{A8CDFF1C-4878-43be-B5FD-F8091C1C60D0}\\\" -Recurse -ErrorAction SilentlyContinue\\n \\n# Add Documents icon to computer namespace\\n# New-Item -Path \\\"HKLM:\\\\Software\\\\Microsoft\\\\Windows\\\\CurrentVersion\\\\Explorer\\\\MyComputer\\\\NameSpace\\\\{d3162b92-9365-467a-956b-92703aca08af}\\\"\\n# New-Item -Path \\\"HKLM:\\\\Software\\\\Microsoft\\\\Windows\\\\CurrentVersion\\\\Explorer\\\\MyComputer\\\\NameSpace\\\\{A8CDFF1C-4878-43be-B5FD-F8091C1C60D0}\\\"\\n \\n# Remove Downloads icon from computer namespace\\n# Write-Host \\\"Removing Downloads icon from computer namespace...\\\"\\n# Remove-Item -Path \\\"HKLM:\\\\Software\\\\Microsoft\\\\Windows\\\\CurrentVersion\\\\Explorer\\\\MyComputer\\\\NameSpace\\\\{088e3905-0323-4b02-9826-5d99428e115f}\\\" -Recurse -ErrorAction SilentlyContinue\\n# Remove-Item -Path \\\"HKLM:\\\\Software\\\\Microsoft\\\\Windows\\\\CurrentVersion\\\\Explorer\\\\MyComputer\\\\NameSpace\\\\{374DE290-123F-4565-9164-39C4925E467B}\\\" -Recurse -ErrorAction SilentlyContinue\\n \\n# Add Downloads icon to computer namespace\\n# New-Item -Path \\\"HKLM:\\\\Software\\\\Microsoft\\\\Windows\\\\CurrentVersion\\\\Explorer\\\\MyComputer\\\\NameSpace\\\\{088e3905-0323-4b02-9826-5d99428e115f}\\\"\\n# New-Item -Path \\\"HKLM:\\\\Software\\\\Microsoft\\\\Windows\\\\CurrentVersion\\\\Explorer\\\\MyComputer\\\\NameSpace\\\\{374DE290-123F-4565-9164-39C4925E467B}\\\"\\n \\n# Remove Music icon from computer namespace\\n# Write-Host \\\"Removing Music icon from computer namespace...\\\"\\n# Remove-Item -Path \\\"HKLM:\\\\Software\\\\Microsoft\\\\Windows\\\\CurrentVersion\\\\Explorer\\\\MyComputer\\\\NameSpace\\\\{3dfdf296-dbec-4fb4-81d1-6a3438bcf4de}\\\" -Recurse -ErrorAction SilentlyContinue\\n# Remove-Item -Path \\\"HKLM:\\\\Software\\\\Microsoft\\\\Windows\\\\CurrentVersion\\\\Explorer\\\\MyComputer\\\\NameSpace\\\\{1CF1260C-4DD0-4ebb-811F-33C572699FDE}\\\" -Recurse -ErrorAction SilentlyContinue\\n \\n# Add Music icon to computer namespace\\n# New-Item -Path \\\"HKLM:\\\\Software\\\\Microsoft\\\\Windows\\\\CurrentVersion\\\\Explorer\\\\MyComputer\\\\NameSpace\\\\{3dfdf296-dbec-4fb4-81d1-6a3438bcf4de}\\\"\\n# New-Item -Path \\\"HKLM:\\\\Software\\\\Microsoft\\\\Windows\\\\CurrentVersion\\\\Explorer\\\\MyComputer\\\\NameSpace\\\\{1CF1260C-4DD0-4ebb-811F-33C572699FDE}\\\"\\n \\n# Remove Pictures icon from computer namespace\\nWrite-Host \\\"Removing Pictures icon from computer namespace...\\\"\\nRemove-Item -Path \\\"HKLM:\\\\Software\\\\Microsoft\\\\Windows\\\\CurrentVersion\\\\Explorer\\\\MyComputer\\\\NameSpace\\\\{24ad3ad4-a569-4530-98e1-ab02f9417aa8}\\\" -Recurse -ErrorAction SilentlyContinue\\nRemove-Item -Path \\\"HKLM:\\\\Software\\\\Microsoft\\\\Windows\\\\CurrentVersion\\\\Explorer\\\\MyComputer\\\\NameSpace\\\\{3ADD1653-EB32-4cb0-BBD7-DFA0ABB5ACCA}\\\" -Recurse -ErrorAction SilentlyContinue\\n \\n# Add Pictures icon to computer namespace\\n# New-Item -Path \\\"HKLM:\\\\Software\\\\Microsoft\\\\Windows\\\\CurrentVersion\\\\Explorer\\\\MyComputer\\\\NameSpace\\\\{24ad3ad4-a569-4530-98e1-ab02f9417aa8}\\\"\\n# New-Item -Path \\\"HKLM:\\\\Software\\\\Microsoft\\\\Windows\\\\CurrentVersion\\\\Explorer\\\\MyComputer\\\\NameSpace\\\\{3ADD1653-EB32-4cb0-BBD7-DFA0ABB5ACCA}\\\"\\n \\n# Remove Videos icon from computer namespace\\nWrite-Host \\\"Removing Videos icon from computer namespace...\\\"\\nRemove-Item -Path \\\"HKLM:\\\\Software\\\\Microsoft\\\\Windows\\\\CurrentVersion\\\\Explorer\\\\MyComputer\\\\NameSpace\\\\{f86fa3ab-70d2-4fc7-9c99-fcbf05467f3a}\\\" -Recurse -ErrorAction SilentlyContinue\\nRemove-Item -Path \\\"HKLM:\\\\Software\\\\Microsoft\\\\Windows\\\\CurrentVersion\\\\Explorer\\\\MyComputer\\\\NameSpace\\\\{A0953C92-50DC-43bf-BE83-3742FED03C9C}\\\" -Recurse -ErrorAction SilentlyContinue\\n \\n# Add Videos icon to computer namespace\\n# New-Item -Path \\\"HKLM:\\\\Software\\\\Microsoft\\\\Windows\\\\CurrentVersion\\\\Explorer\\\\MyComputer\\\\NameSpace\\\\{f86fa3ab-70d2-4fc7-9c99-fcbf05467f3a}\\\"\\n# New-Item -Path \\\"HKLM:\\\\Software\\\\Microsoft\\\\Windows\\\\CurrentVersion\\\\Explorer\\\\MyComputer\\\\NameSpace\\\\{A0953C92-50DC-43bf-BE83-3742FED03C9C}\\\"\\n \\n## Add secondary en-US keyboard\\n#Write-Host \\\"Adding secondary en-US keyboard...\\\"\\n#$langs = Get-WinUserLanguageList\\n#$langs.Add(\\\"en-US\\\")\\n#Set-WinUserLanguageList $langs -Force\\n \\n# Remove secondary en-US keyboard\\n# $langs = Get-WinUserLanguageList\\n# Set-WinUserLanguageList ($langs | ? {$_.LanguageTag -ne \\\"en-US\\\"}) -Force\\n \\n \\n##########\\n# Remove unwanted applications\\n##########\\n \\n# Disable OneDrive\\n# Write-Host \\\"Disabling OneDrive...\\\"\\n# If (!(Test-Path \\\"HKLM:\\\\SOFTWARE\\\\Policies\\\\Microsoft\\\\Windows\\\\OneDrive\\\")) {\\n#     New-Item -Path \\\"HKLM:\\\\SOFTWARE\\\\Policies\\\\Microsoft\\\\Windows\\\\OneDrive\\\" | Out-Null\\n# }\\n# Set-ItemProperty -Path \\\"HKLM:\\\\SOFTWARE\\\\Policies\\\\Microsoft\\\\Windows\\\\OneDrive\\\" -Name \\\"DisableFileSyncNGSC\\\" -Type DWord -Value 1\\n \\n# Enable OneDrive\\n# Remove-ItemProperty -Path \\\"HKLM:\\\\SOFTWARE\\\\Policies\\\\Microsoft\\\\Windows\\\\OneDrive\\\" -Name \\\"DisableFileSyncNGSC\\\"\\n \\n# Uninstall OneDrive\\nWrite-Host \\\"Uninstalling OneDrive...\\\"\\nStop-Process -Name OneDrive -ErrorAction SilentlyContinue\\nStart-Sleep -s 3\\n$onedrive = \\\"$env:SYSTEMROOT\\\\SysWOW64\\\\OneDriveSetup.exe\\\"\\nIf (!(Test-Path $onedrive)) {\\n    $onedrive = \\\"$env:SYSTEMROOT\\\\System32\\\\OneDriveSetup.exe\\\"\\n}\\nStart-Process $onedrive \\\"/uninstall\\\" -NoNewWindow -Wait\\nStart-Sleep -s 3\\nStop-Process -Name explorer -ErrorAction SilentlyContinue\\nStart-Sleep -s 3\\nRemove-Item \\\"$env:USERPROFILE\\\\OneDrive\\\" -Force -Recurse -ErrorAction SilentlyContinue\\nRemove-Item \\\"$env:LOCALAPPDATA\\\\Microsoft\\\\OneDrive\\\" -Force -Recurse -ErrorAction SilentlyContinue\\nRemove-Item \\\"$env:PROGRAMDATA\\\\Microsoft OneDrive\\\" -Force -Recurse -ErrorAction SilentlyContinue\\nIf (Test-Path \\\"$env:SYSTEMDRIVE\\\\OneDriveTemp\\\") {\\n    Remove-Item \\\"$env:SYSTEMDRIVE\\\\OneDriveTemp\\\" -Force -Recurse -ErrorAction SilentlyContinue\\n}\\nIf (!(Test-Path \\\"HKCR:\\\")) {\\n    New-PSDrive -Name HKCR -PSProvider Registry -Root HKEY_CLASSES_ROOT | Out-Null\\n}\\nRemove-Item -Path \\\"HKCR:\\\\CLSID\\\\{018D5C66-4533-4307-9B53-224DE2ED1FE6}\\\" -Recurse -ErrorAction SilentlyContinue\\nRemove-Item -Path \\\"HKCR:\\\\Wow6432Node\\\\CLSID\\\\{018D5C66-4533-4307-9B53-224DE2ED1FE6}\\\" -Recurse -ErrorAction SilentlyContinue\\n \\n# Install OneDrive\\n# $onedrive = \\\"$env:SYSTEMROOT\\\\SysWOW64\\\\OneDriveSetup.exe\\\"\\n# If (!(Test-Path $onedrive)) {\\n#   $onedrive = \\\"$env:SYSTEMROOT\\\\System32\\\\OneDriveSetup.exe\\\"\\n# }\\n# Start-Process $onedrive -NoNewWindow\\n \\n# Uninstall default Microsoft applications\\nWrite-Host \\\"Uninstalling default Microsoft applications...\\\"\\nGet-AppxPackage \\\"Microsoft.3DBuilder\\\" | Remove-AppxPackage\\nGet-AppxPackage \\\"Microsoft.BingFinance\\\" | Remove-AppxPackage\\nGet-AppxPackage \\\"Microsoft.BingNews\\\" | Remove-AppxPackage\\nGet-AppxPackage \\\"Microsoft.BingSports\\\" | Remove-AppxPackage\\nGet-AppxPackage \\\"Microsoft.BingWeather\\\" | Remove-AppxPackage\\nGet-AppxPackage \\\"Microsoft.Getstarted\\\" | Remove-AppxPackage\\nGet-AppxPackage \\\"Microsoft.MicrosoftOfficeHub\\\" | Remove-AppxPackage\\nGet-AppxPackage \\\"Microsoft.MicrosoftSolitaireCollection\\\" | Remove-AppxPackage\\nGet-AppxPackage \\\"Microsoft.Office.OneNote\\\" | Remove-AppxPackage\\nGet-AppxPackage \\\"Microsoft.People\\\" | Remove-AppxPackage\\nGet-AppxPackage \\\"Microsoft.SkypeApp\\\" | Remove-AppxPackage\\nGet-AppxPackage \\\"Microsoft.Windows.Photos\\\" | Remove-AppxPackage\\nGet-AppxPackage \\\"Microsoft.WindowsAlarms\\\" | Remove-AppxPackage\\nGet-AppxPackage \\\"Microsoft.WindowsCamera\\\" | Remove-AppxPackage\\nGet-AppxPackage \\\"microsoft.windowscommunicationsapps\\\" | Remove-AppxPackage\\nGet-AppxPackage \\\"Microsoft.WindowsMaps\\\" | Remove-AppxPackage\\nGet-AppxPackage \\\"Microsoft.WindowsPhone\\\" | Remove-AppxPackage\\nGet-AppxPackage \\\"Microsoft.WindowsSoundRecorder\\\" | Remove-AppxPackage\\nGet-AppxPackage \\\"Microsoft.XboxApp\\\" | Remove-AppxPackage\\nGet-AppxPackage \\\"Microsoft.ZuneMusic\\\" | Remove-AppxPackage\\nGet-AppxPackage \\\"Microsoft.ZuneVideo\\\" | Remove-AppxPackage\\nGet-AppxPackage \\\"Microsoft.AppConnector\\\" | Remove-AppxPackage\\nGet-AppxPackage \\\"Microsoft.ConnectivityStore\\\" | Remove-AppxPackage\\nGet-AppxPackage \\\"Microsoft.Office.Sway\\\" | Remove-AppxPackage\\nGet-AppxPackage \\\"Microsoft.Messaging\\\" | Remove-AppxPackage\\nGet-AppxPackage \\\"Microsoft.CommsPhone\\\" | Remove-AppxPackage\\nGet-AppxPackage \\\"9E2F88E3.Twitter\\\" | Remove-AppxPackage\\nGet-AppxPackage \\\"king.com.CandyCrushSodaSaga\\\" | Remove-AppxPackage\\n \\n# Install default Microsoft applications\\n# Add-AppxPackage -DisableDevelopmentMode -Register \\\"$($(Get-AppXPackage -AllUsers \\\"Microsoft.3DBuilder\\\").InstallLocation)\\\\AppXManifest.xml\\\"\\n# Add-AppxPackage -DisableDevelopmentMode -Register \\\"$($(Get-AppXPackage -AllUsers \\\"Microsoft.BingFinance\\\").InstallLocation)\\\\AppXManifest.xml\\\"\\n# Add-AppxPackage -DisableDevelopmentMode -Register \\\"$($(Get-AppXPackage -AllUsers \\\"Microsoft.BingNews\\\").InstallLocation)\\\\AppXManifest.xml\\\"\\n# Add-AppxPackage -DisableDevelopmentMode -Register \\\"$($(Get-AppXPackage -AllUsers \\\"Microsoft.BingSports\\\").InstallLocation)\\\\AppXManifest.xml\\\"\\n# Add-AppxPackage -DisableDevelopmentMode -Register \\\"$($(Get-AppXPackage -AllUsers \\\"Microsoft.BingWeather\\\").InstallLocation)\\\\AppXManifest.xml\\\"\\n# Add-AppxPackage -DisableDevelopmentMode -Register \\\"$($(Get-AppXPackage -AllUsers \\\"Microsoft.Getstarted\\\").InstallLocation)\\\\AppXManifest.xml\\\"\\n# Add-AppxPackage -DisableDevelopmentMode -Register \\\"$($(Get-AppXPackage -AllUsers \\\"Microsoft.MicrosoftOfficeHub\\\").InstallLocation)\\\\AppXManifest.xml\\\"\\n# Add-AppxPackage -DisableDevelopmentMode -Register \\\"$($(Get-AppXPackage -AllUsers \\\"Microsoft.MicrosoftSolitaireCollection\\\").InstallLocation)\\\\AppXManifest.xml\\\"\\n# Add-AppxPackage -DisableDevelopmentMode -Register \\\"$($(Get-AppXPackage -AllUsers \\\"Microsoft.Office.OneNote\\\").InstallLocation)\\\\AppXManifest.xml\\\"\\n# Add-AppxPackage -DisableDevelopmentMode -Register \\\"$($(Get-AppXPackage -AllUsers \\\"Microsoft.People\\\").InstallLocation)\\\\AppXManifest.xml\\\"\\n# Add-AppxPackage -DisableDevelopmentMode -Register \\\"$($(Get-AppXPackage -AllUsers \\\"Microsoft.SkypeApp\\\").InstallLocation)\\\\AppXManifest.xml\\\"\\n# Add-AppxPackage -DisableDevelopmentMode -Register \\\"$($(Get-AppXPackage -AllUsers \\\"Microsoft.Windows.Photos\\\").InstallLocation)\\\\AppXManifest.xml\\\"\\n# Add-AppxPackage -DisableDevelopmentMode -Register \\\"$($(Get-AppXPackage -AllUsers \\\"Microsoft.WindowsAlarms\\\").InstallLocation)\\\\AppXManifest.xml\\\"\\n# Add-AppxPackage -DisableDevelopmentMode -Register \\\"$($(Get-AppXPackage -AllUsers \\\"Microsoft.WindowsCamera\\\").InstallLocation)\\\\AppXManifest.xml\\\"\\n# Add-AppxPackage -DisableDevelopmentMode -Register \\\"$($(Get-AppXPackage -AllUsers \\\"Microsoft.windowscommunicationsapps\\\").InstallLocation)\\\\AppXManifest.xml\\\"\\n# Add-AppxPackage -DisableDevelopmentMode -Register \\\"$($(Get-AppXPackage -AllUsers \\\"Microsoft.WindowsMaps\\\").InstallLocation)\\\\AppXManifest.xml\\\"\\n# Add-AppxPackage -DisableDevelopmentMode -Register \\\"$($(Get-AppXPackage -AllUsers \\\"Microsoft.WindowsPhone\\\").InstallLocation)\\\\AppXManifest.xml\\\"\\n# Add-AppxPackage -DisableDevelopmentMode -Register \\\"$($(Get-AppXPackage -AllUsers \\\"Microsoft.WindowsSoundRecorder\\\").InstallLocation)\\\\AppXManifest.xml\\\"\\n# Add-AppxPackage -DisableDevelopmentMode -Register \\\"$($(Get-AppXPackage -AllUsers \\\"Microsoft.XboxApp\\\").InstallLocation)\\\\AppXManifest.xml\\\"\\n# Add-AppxPackage -DisableDevelopmentMode -Register \\\"$($(Get-AppXPackage -AllUsers \\\"Microsoft.ZuneMusic\\\").InstallLocation)\\\\AppXManifest.xml\\\"\\n# Add-AppxPackage -DisableDevelopmentMode -Register \\\"$($(Get-AppXPackage -AllUsers \\\"Microsoft.ZuneVideo\\\").InstallLocation)\\\\AppXManifest.xml\\\"\\n# Add-AppxPackage -DisableDevelopmentMode -Register \\\"$($(Get-AppXPackage -AllUsers \\\"Microsoft.AppConnector\\\").InstallLocation)\\\\AppXManifest.xml\\\"\\n# Add-AppxPackage -DisableDevelopmentMode -Register \\\"$($(Get-AppXPackage -AllUsers \\\"Microsoft.ConnectivityStore\\\").InstallLocation)\\\\AppXManifest.xml\\\"\\n# Add-AppxPackage -DisableDevelopmentMode -Register \\\"$($(Get-AppXPackage -AllUsers \\\"Microsoft.Office.Sway\\\").InstallLocation)\\\\AppXManifest.xml\\\"\\n# Add-AppxPackage -DisableDevelopmentMode -Register \\\"$($(Get-AppXPackage -AllUsers \\\"Microsoft.Messaging\\\").InstallLocation)\\\\AppXManifest.xml\\\"\\n# Add-AppxPackage -DisableDevelopmentMode -Register \\\"$($(Get-AppXPackage -AllUsers \\\"Microsoft.CommsPhone\\\").InstallLocation)\\\\AppXManifest.xml\\\"\\n# In case you have removed them for good, you can try to restore the files using installation medium as follows\\n# New-Item C:\\\\Mnt -Type Directory | Out-Null\\n# dism /Mount-Image /ImageFile:D:\\\\sources\\\\install.wim /index:1 /ReadOnly /MountDir:C:\\\\Mnt\\n# robocopy /S /SEC /R:0 \\\"C:\\\\Mnt\\\\Program Files\\\\WindowsApps\\\" \\\"C:\\\\Program Files\\\\WindowsApps\\\"\\n# dism /Unmount-Image /Discard /MountDir:C:\\\\Mnt\\n# Remove-Item -Path C:\\\\Mnt -Recurse\\n \\n# Uninstall Windows Media Player\\nWrite-Host \\\"Uninstalling Windows Media Player...\\\"\\ndism /online /Disable-Feature /FeatureName:MediaPlayback /Quiet /NoRestart\\n \\n# Install Windows Media Player\\n# dism /online /Enable-Feature /FeatureName:MediaPlayback /Quiet /NoRestart\\n \\n# Uninstall Work Folders Client\\nWrite-Host \\\"Uninstalling Work Folders Client...\\\"\\ndism /online /Disable-Feature /FeatureName:WorkFolders-Client /Quiet /NoRestart\\n \\n# Install Work Folders Client\\n# dism /online /Enable-Feature /FeatureName:WorkFolders-Client /Quiet /NoRestart\\n\\n$scriptDir = Split-Path -Path $myInvocation.MyCommand.Definition -Parent\\n\\n# Uninstall Cortana\\necho Uninstalling Cortana...\\n& $scriptDir\\\\install_wim_tweak.exe /o /l\\n& $scriptDir\\\\install_wim_tweak.exe /o /c Microsoft-Windows-Cortana /r\\n& $scriptDir\\\\install_wim_tweak.exe /h /o /l\\n\\n# Uninstall Edge\\necho Uninstalling Microsoft Edge...\\n& $scriptDir\\\\install_wim_tweak.exe /o /l\\n& $scriptDir\\\\install_wim_tweak.exe /o /c Microsoft-Windows-Internet-Browser-Package /r\\n& $scriptDir\\\\install_wim_tweak.exe /h /o /l\\n\\n# Set Photo Viewer as default for bmp, gif, jpg and png\\nWrite-Host \\\"Setting Photo Viewer as default for bmp, gif, jpg, png and tif...\\\"\\nIf (!(Test-Path \\\"HKCR:\\\")) {\\n    New-PSDrive -Name HKCR -PSProvider Registry -Root HKEY_CLASSES_ROOT | Out-Null\\n}\\nForEach ($type in @(\\\"Paint.Picture\\\", \\\"giffile\\\", \\\"jpegfile\\\", \\\"pngfile\\\")) {\\n    New-Item -Path $(\\\"HKCR:\\\\$type\\\\shell\\\\open\\\") -Force | Out-Null\\n    New-Item -Path $(\\\"HKCR:\\\\$type\\\\shell\\\\open\\\\command\\\") | Out-Null\\n    Set-ItemProperty -Path $(\\\"HKCR:\\\\$type\\\\shell\\\\open\\\") -Name \\\"MuiVerb\\\" -Type ExpandString -Value \\\"@%ProgramFiles%\\\\Windows Photo Viewer\\\\photoviewer.dll,-3043\\\"\\n    Set-ItemProperty -Path $(\\\"HKCR:\\\\$type\\\\shell\\\\open\\\\command\\\") -Name \\\"(Default)\\\" -Type ExpandString -Value \\\"%SystemRoot%\\\\System32\\\\rundll32.exe `\\\"%ProgramFiles%\\\\Windows Photo Viewer\\\\PhotoViewer.dll`\\\", ImageView_Fullscreen %1\\\"\\n}\\n \\n# Remove or reset default open action for bmp, gif, jpg and png\\n# If (!(Test-Path \\\"HKCR:\\\")) {\\n#   New-PSDrive -Name HKCR -PSProvider Registry -Root HKEY_CLASSES_ROOT | Out-Null\\n# }\\n# Remove-Item -Path \\\"HKCR:\\\\Paint.Picture\\\\shell\\\\open\\\" -Recurse\\n# Remove-ItemProperty -Path \\\"HKCR:\\\\giffile\\\\shell\\\\open\\\" -Name \\\"MuiVerb\\\"\\n# Set-ItemProperty -Path \\\"HKCR:\\\\giffile\\\\shell\\\\open\\\" -Name \\\"CommandId\\\" -Type String -Value \\\"IE.File\\\"\\n# Set-ItemProperty -Path \\\"HKCR:\\\\giffile\\\\shell\\\\open\\\\command\\\" -Name \\\"(Default)\\\" -Type String -Value \\\"`\\\"$env:SystemDrive\\\\Program Files\\\\Internet Explorer\\\\iexplore.exe`\\\" %1\\\"\\n# Set-ItemProperty -Path \\\"HKCR:\\\\giffile\\\\shell\\\\open\\\\command\\\" -Name \\\"DelegateExecute\\\" -Type String -Value \\\"{17FE9752-0B5A-4665-84CD-569794602F5C}\\\"\\n# Remove-Item -Path \\\"HKCR:\\\\jpegfile\\\\shell\\\\open\\\" -Recurse\\n# Remove-Item -Path \\\"HKCR:\\\\pngfile\\\\shell\\\\open\\\" -Recurse\\n \\n# Show Photo Viewer in \\\"Open with...\\\"\\nWrite-Host \\\"Showing Photo Viewer in `\\\"Open with...`\\\"\\\"\\nIf (!(Test-Path \\\"HKCR:\\\")) {\\n    New-PSDrive -Name HKCR -PSProvider Registry -Root HKEY_CLASSES_ROOT | Out-Null\\n}\\nNew-Item -Path \\\"HKCR:\\\\Applications\\\\photoviewer.dll\\\\shell\\\\open\\\\command\\\" -Force | Out-Null\\nNew-Item -Path \\\"HKCR:\\\\Applications\\\\photoviewer.dll\\\\shell\\\\open\\\\DropTarget\\\" -Force | Out-Null\\nSet-ItemProperty -Path \\\"HKCR:\\\\Applications\\\\photoviewer.dll\\\\shell\\\\open\\\" -Name \\\"MuiVerb\\\" -Type String -Value \\\"@photoviewer.dll,-3043\\\"\\nSet-ItemProperty -Path \\\"HKCR:\\\\Applications\\\\photoviewer.dll\\\\shell\\\\open\\\\command\\\" -Name \\\"(Default)\\\" -Type ExpandString -Value \\\"%SystemRoot%\\\\System32\\\\rundll32.exe `\\\"%ProgramFiles%\\\\Windows Photo Viewer\\\\PhotoViewer.dll`\\\", ImageView_Fullscreen %1\\\"\\nSet-ItemProperty -Path \\\"HKCR:\\\\Applications\\\\photoviewer.dll\\\\shell\\\\open\\\\DropTarget\\\" -Name \\\"Clsid\\\" -Type String -Value \\\"{FFE2A43C-56B9-4bf5-9A79-CC6D4285608A}\\\"\\n \\n# Remove Photo Viewer from \\\"Open with...\\\"\\n# If (!(Test-Path \\\"HKCR:\\\")) {\\n#   New-PSDrive -Name HKCR -PSProvider Registry -Root HKEY_CLASSES_ROOT | Out-Null\\n# }\\n# Remove-Item -Path \\\"HKCR:\\\\Applications\\\\photoviewer.dll\\\\shell\\\\open\\\" -Recurse\\n \\n##########\\n# Restart\\n##########\\nWrite-Host\\nWrite-Host \\\"Press any key to restart your system...\\\" -ForegroundColor Black -BackgroundColor White\\n$key = $host.UI.RawUI.ReadKey(\\\"NoEcho,IncludeKeyDown\\\")\\nWrite-Host \\\"Restarting...\\\"\\nRestart-Computer\"\n        ],\n        \"semantic_type\": \"\",\n        \"description\": \"\"\n      }\n    },\n    {\n      \"column\": \"label\",\n      \"properties\": {\n        \"dtype\": \"number\",\n        \"std\": 0,\n        \"min\": 0,\n        \"max\": 1,\n        \"num_unique_values\": 2,\n        \"samples\": [\n          0,\n          1\n        ],\n        \"semantic_type\": \"\",\n        \"description\": \"\"\n      }\n    },\n    {\n      \"column\": \"length\",\n      \"properties\": {\n        \"dtype\": \"number\",\n        \"std\": 18714,\n        \"min\": 0,\n        \"max\": 434866,\n        \"num_unique_values\": 898,\n        \"samples\": [\n          2280,\n          233\n        ],\n        \"semantic_type\": \"\",\n        \"description\": \"\"\n      }\n    },\n    {\n      \"column\": \"num_special_chars\",\n      \"properties\": {\n        \"dtype\": \"number\",\n        \"std\": 11134,\n        \"min\": 0,\n        \"max\": 254777,\n        \"num_unique_values\": 820,\n        \"samples\": [\n          174,\n          941\n        ],\n        \"semantic_type\": \"\",\n        \"description\": \"\"\n      }\n    },\n    {\n      \"column\": \"num_uppercase\",\n      \"properties\": {\n        \"dtype\": \"number\",\n        \"std\": 737,\n        \"min\": 0,\n        \"max\": 10708,\n        \"num_unique_values\": 543,\n        \"samples\": [\n          710,\n          893\n        ],\n        \"semantic_type\": \"\",\n        \"description\": \"\"\n      }\n    },\n    {\n      \"column\": \"entropy\",\n      \"properties\": {\n        \"dtype\": \"number\",\n        \"std\": 0.8389517014708094,\n        \"min\": 0.0,\n        \"max\": 6.035022598018393,\n        \"num_unique_values\": 983,\n        \"samples\": [\n          5.0062193868669285,\n          5.110387186155301\n        ],\n        \"semantic_type\": \"\",\n        \"description\": \"\"\n      }\n    },\n    {\n      \"column\": \"num_base64_strings\",\n      \"properties\": {\n        \"dtype\": \"number\",\n        \"std\": 8,\n        \"min\": 0,\n        \"max\": 167,\n        \"num_unique_values\": 17,\n        \"samples\": [\n          0,\n          3\n        ],\n        \"semantic_type\": \"\",\n        \"description\": \"\"\n      }\n    },\n    {\n      \"column\": \"has_ie\",\n      \"properties\": {\n        \"dtype\": \"number\",\n        \"std\": 0,\n        \"min\": 0,\n        \"max\": 1,\n        \"num_unique_values\": 2,\n        \"samples\": [\n          1,\n          0\n        ],\n        \"semantic_type\": \"\",\n        \"description\": \"\"\n      }\n    },\n    {\n      \"column\": \"num_tokens\",\n      \"properties\": {\n        \"dtype\": \"number\",\n        \"std\": 1301,\n        \"min\": 0,\n        \"max\": 16756,\n        \"num_unique_values\": 512,\n        \"samples\": [\n          101,\n          3353\n        ],\n        \"semantic_type\": \"\",\n        \"description\": \"\"\n      }\n    },\n    {\n      \"column\": \"avg_token_length\",\n      \"properties\": {\n        \"dtype\": \"number\",\n        \"std\": 621.1987076253275,\n        \"min\": 0.0,\n        \"max\": 17393.68,\n        \"num_unique_values\": 972,\n        \"samples\": [\n          7.730769230769231,\n          18.54494382022472\n        ],\n        \"semantic_type\": \"\",\n        \"description\": \"\"\n      }\n    },\n    {\n      \"column\": \"num_concat_ops\",\n      \"properties\": {\n        \"dtype\": \"number\",\n        \"std\": 96,\n        \"min\": 0,\n        \"max\": 1305,\n        \"num_unique_values\": 198,\n        \"samples\": [\n          68,\n          8\n        ],\n        \"semantic_type\": \"\",\n        \"description\": \"\"\n      }\n    },\n    {\n      \"column\": \"num_encoded_cmds\",\n      \"properties\": {\n        \"dtype\": \"number\",\n        \"std\": 0,\n        \"min\": 0,\n        \"max\": 1,\n        \"num_unique_values\": 2,\n        \"samples\": [\n          1,\n          0\n        ],\n        \"semantic_type\": \"\",\n        \"description\": \"\"\n      }\n    },\n    {\n      \"column\": \"num_suspicious_words\",\n      \"properties\": {\n        \"dtype\": \"number\",\n        \"std\": 0,\n        \"min\": 0,\n        \"max\": 6,\n        \"num_unique_values\": 7,\n        \"samples\": [\n          0,\n          2\n        ],\n        \"semantic_type\": \"\",\n        \"description\": \"\"\n      }\n    }\n  ]\n}"
            }
          },
          "metadata": {},
          "execution_count": 13
        }
      ]
    },
    {
      "cell_type": "markdown",
      "source": [
        "Generates a full EDA report with statistics, correlations, and warnings about the data.\n"
      ],
      "metadata": {
        "id": "UuJ7SKDNcXCV"
      }
    },
    {
      "cell_type": "code",
      "source": [
        "!pip install ydata-profiling"
      ],
      "metadata": {
        "colab": {
          "base_uri": "https://localhost:8080/"
        },
        "id": "Pbx9RtbQZisM",
        "outputId": "cfb61fe3-171a-446f-fff5-1b25015b886c"
      },
      "execution_count": 14,
      "outputs": [
        {
          "output_type": "stream",
          "name": "stdout",
          "text": [
            "Requirement already satisfied: ydata-profiling in /usr/local/lib/python3.11/dist-packages (4.16.1)\n",
            "Requirement already satisfied: scipy<1.16,>=1.4.1 in /usr/local/lib/python3.11/dist-packages (from ydata-profiling) (1.15.3)\n",
            "Requirement already satisfied: pandas!=1.4.0,<3.0,>1.1 in /usr/local/lib/python3.11/dist-packages (from ydata-profiling) (2.2.2)\n",
            "Requirement already satisfied: matplotlib<=3.10,>=3.5 in /usr/local/lib/python3.11/dist-packages (from ydata-profiling) (3.10.0)\n",
            "Requirement already satisfied: pydantic>=2 in /usr/local/lib/python3.11/dist-packages (from ydata-profiling) (2.11.7)\n",
            "Requirement already satisfied: PyYAML<6.1,>=5.0.0 in /usr/local/lib/python3.11/dist-packages (from ydata-profiling) (6.0.2)\n",
            "Requirement already satisfied: jinja2<3.2,>=2.11.1 in /usr/local/lib/python3.11/dist-packages (from ydata-profiling) (3.1.6)\n",
            "Requirement already satisfied: visions<0.8.2,>=0.7.5 in /usr/local/lib/python3.11/dist-packages (from visions[type_image_path]<0.8.2,>=0.7.5->ydata-profiling) (0.8.1)\n",
            "Requirement already satisfied: numpy<2.2,>=1.16.0 in /usr/local/lib/python3.11/dist-packages (from ydata-profiling) (2.0.2)\n",
            "Requirement already satisfied: htmlmin==0.1.12 in /usr/local/lib/python3.11/dist-packages (from ydata-profiling) (0.1.12)\n",
            "Requirement already satisfied: phik<0.13,>=0.11.1 in /usr/local/lib/python3.11/dist-packages (from ydata-profiling) (0.12.4)\n",
            "Requirement already satisfied: requests<3,>=2.24.0 in /usr/local/lib/python3.11/dist-packages (from ydata-profiling) (2.32.3)\n",
            "Requirement already satisfied: tqdm<5,>=4.48.2 in /usr/local/lib/python3.11/dist-packages (from ydata-profiling) (4.67.1)\n",
            "Requirement already satisfied: seaborn<0.14,>=0.10.1 in /usr/local/lib/python3.11/dist-packages (from ydata-profiling) (0.13.2)\n",
            "Requirement already satisfied: multimethod<2,>=1.4 in /usr/local/lib/python3.11/dist-packages (from ydata-profiling) (1.12)\n",
            "Requirement already satisfied: statsmodels<1,>=0.13.2 in /usr/local/lib/python3.11/dist-packages (from ydata-profiling) (0.14.4)\n",
            "Requirement already satisfied: typeguard<5,>=3 in /usr/local/lib/python3.11/dist-packages (from ydata-profiling) (4.4.4)\n",
            "Requirement already satisfied: imagehash==4.3.1 in /usr/local/lib/python3.11/dist-packages (from ydata-profiling) (4.3.1)\n",
            "Requirement already satisfied: wordcloud>=1.9.3 in /usr/local/lib/python3.11/dist-packages (from ydata-profiling) (1.9.4)\n",
            "Requirement already satisfied: dacite>=1.8 in /usr/local/lib/python3.11/dist-packages (from ydata-profiling) (1.9.2)\n",
            "Requirement already satisfied: numba<=0.61,>=0.56.0 in /usr/local/lib/python3.11/dist-packages (from ydata-profiling) (0.60.0)\n",
            "Requirement already satisfied: PyWavelets in /usr/local/lib/python3.11/dist-packages (from imagehash==4.3.1->ydata-profiling) (1.8.0)\n",
            "Requirement already satisfied: pillow in /usr/local/lib/python3.11/dist-packages (from imagehash==4.3.1->ydata-profiling) (11.2.1)\n",
            "Requirement already satisfied: MarkupSafe>=2.0 in /usr/local/lib/python3.11/dist-packages (from jinja2<3.2,>=2.11.1->ydata-profiling) (3.0.2)\n",
            "Requirement already satisfied: contourpy>=1.0.1 in /usr/local/lib/python3.11/dist-packages (from matplotlib<=3.10,>=3.5->ydata-profiling) (1.3.2)\n",
            "Requirement already satisfied: cycler>=0.10 in /usr/local/lib/python3.11/dist-packages (from matplotlib<=3.10,>=3.5->ydata-profiling) (0.12.1)\n",
            "Requirement already satisfied: fonttools>=4.22.0 in /usr/local/lib/python3.11/dist-packages (from matplotlib<=3.10,>=3.5->ydata-profiling) (4.58.5)\n",
            "Requirement already satisfied: kiwisolver>=1.3.1 in /usr/local/lib/python3.11/dist-packages (from matplotlib<=3.10,>=3.5->ydata-profiling) (1.4.8)\n",
            "Requirement already satisfied: packaging>=20.0 in /usr/local/lib/python3.11/dist-packages (from matplotlib<=3.10,>=3.5->ydata-profiling) (24.2)\n",
            "Requirement already satisfied: pyparsing>=2.3.1 in /usr/local/lib/python3.11/dist-packages (from matplotlib<=3.10,>=3.5->ydata-profiling) (3.2.3)\n",
            "Requirement already satisfied: python-dateutil>=2.7 in /usr/local/lib/python3.11/dist-packages (from matplotlib<=3.10,>=3.5->ydata-profiling) (2.9.0.post0)\n",
            "Requirement already satisfied: llvmlite<0.44,>=0.43.0dev0 in /usr/local/lib/python3.11/dist-packages (from numba<=0.61,>=0.56.0->ydata-profiling) (0.43.0)\n",
            "Requirement already satisfied: pytz>=2020.1 in /usr/local/lib/python3.11/dist-packages (from pandas!=1.4.0,<3.0,>1.1->ydata-profiling) (2025.2)\n",
            "Requirement already satisfied: tzdata>=2022.7 in /usr/local/lib/python3.11/dist-packages (from pandas!=1.4.0,<3.0,>1.1->ydata-profiling) (2025.2)\n",
            "Requirement already satisfied: joblib>=0.14.1 in /usr/local/lib/python3.11/dist-packages (from phik<0.13,>=0.11.1->ydata-profiling) (1.5.1)\n",
            "Requirement already satisfied: annotated-types>=0.6.0 in /usr/local/lib/python3.11/dist-packages (from pydantic>=2->ydata-profiling) (0.7.0)\n",
            "Requirement already satisfied: pydantic-core==2.33.2 in /usr/local/lib/python3.11/dist-packages (from pydantic>=2->ydata-profiling) (2.33.2)\n",
            "Requirement already satisfied: typing-extensions>=4.12.2 in /usr/local/lib/python3.11/dist-packages (from pydantic>=2->ydata-profiling) (4.14.1)\n",
            "Requirement already satisfied: typing-inspection>=0.4.0 in /usr/local/lib/python3.11/dist-packages (from pydantic>=2->ydata-profiling) (0.4.1)\n",
            "Requirement already satisfied: charset-normalizer<4,>=2 in /usr/local/lib/python3.11/dist-packages (from requests<3,>=2.24.0->ydata-profiling) (3.4.2)\n",
            "Requirement already satisfied: idna<4,>=2.5 in /usr/local/lib/python3.11/dist-packages (from requests<3,>=2.24.0->ydata-profiling) (3.10)\n",
            "Requirement already satisfied: urllib3<3,>=1.21.1 in /usr/local/lib/python3.11/dist-packages (from requests<3,>=2.24.0->ydata-profiling) (2.4.0)\n",
            "Requirement already satisfied: certifi>=2017.4.17 in /usr/local/lib/python3.11/dist-packages (from requests<3,>=2.24.0->ydata-profiling) (2025.6.15)\n",
            "Requirement already satisfied: patsy>=0.5.6 in /usr/local/lib/python3.11/dist-packages (from statsmodels<1,>=0.13.2->ydata-profiling) (1.0.1)\n",
            "Requirement already satisfied: attrs>=19.3.0 in /usr/local/lib/python3.11/dist-packages (from visions<0.8.2,>=0.7.5->visions[type_image_path]<0.8.2,>=0.7.5->ydata-profiling) (25.3.0)\n",
            "Requirement already satisfied: networkx>=2.4 in /usr/local/lib/python3.11/dist-packages (from visions<0.8.2,>=0.7.5->visions[type_image_path]<0.8.2,>=0.7.5->ydata-profiling) (3.5)\n",
            "Requirement already satisfied: puremagic in /usr/local/lib/python3.11/dist-packages (from visions<0.8.2,>=0.7.5->visions[type_image_path]<0.8.2,>=0.7.5->ydata-profiling) (1.30)\n",
            "Requirement already satisfied: six>=1.5 in /usr/local/lib/python3.11/dist-packages (from python-dateutil>=2.7->matplotlib<=3.10,>=3.5->ydata-profiling) (1.17.0)\n"
          ]
        }
      ]
    },
    {
      "cell_type": "code",
      "source": [
        "from ydata_profiling import ProfileReport\n",
        "\n",
        "profile= ProfileReport(data)\n",
        "profile.to_file('file.html')\n",
        "\n",
        "profile"
      ],
      "metadata": {
        "colab": {
          "base_uri": "https://localhost:8080/",
          "height": 151,
          "referenced_widgets": [
            "500f7b4715cd41cc898e533820e0f66b",
            "2aac0fbd0b8f449f800dfe6759a48e94",
            "1de0dce0609d4518a6f7df83f2565b52",
            "7def21b83650437cb6e5491d034abf7e",
            "38d68fd96b9746b4af09560599c7a1d4",
            "ecd89d2d4fa04bcf82fdaa5d5f189f75",
            "cd631657ff1f4a0290d2f30d68b93b3e",
            "9f4512c2c8ce4ee3b93ab2d73bc2a57d",
            "b99a5fb54bf941ee810254a42fffd058",
            "0a91c2f239eb481fa53c910a5472ebb2",
            "abbe2d2ed8204e05b11c60ec1a8d37bd"
          ]
        },
        "id": "NwJvqwP9bzGT",
        "outputId": "f606feb3-d800-4810-8467-f3560add227a"
      },
      "execution_count": null,
      "outputs": [
        {
          "output_type": "display_data",
          "data": {
            "text/plain": [
              "<IPython.core.display.HTML object>"
            ],
            "text/html": [
              "\n",
              "            <div>\n",
              "                <ins><a href=\"https://ydata.ai/register\">Upgrade to ydata-sdk</a></ins>\n",
              "                <p>\n",
              "                    Improve your data and profiling with ydata-sdk, featuring data quality scoring, redundancy detection, outlier identification, text validation, and synthetic data generation.\n",
              "                </p>\n",
              "            </div>\n",
              "            "
            ]
          },
          "metadata": {}
        },
        {
          "output_type": "display_data",
          "data": {
            "text/plain": [
              "Summarize dataset:   0%|          | 0/5 [00:00<?, ?it/s]"
            ],
            "application/vnd.jupyter.widget-view+json": {
              "version_major": 2,
              "version_minor": 0,
              "model_id": "500f7b4715cd41cc898e533820e0f66b"
            }
          },
          "metadata": {}
        },
        {
          "output_type": "stream",
          "name": "stderr",
          "text": [
            "\n",
            "  0%|          | 0/13 [00:00<?, ?it/s]\u001b[A\n",
            "100%|██████████| 13/13 [00:01<00:00,  7.06it/s]\n"
          ]
        }
      ]
    },
    {
      "cell_type": "markdown",
      "source": [
        "duplicated values"
      ],
      "metadata": {
        "id": "WM1M0xHAcuCz"
      }
    },
    {
      "cell_type": "code",
      "source": [
        "data.duplicated().value_counts()"
      ],
      "metadata": {
        "id": "n2mTI2TadxiH"
      },
      "execution_count": null,
      "outputs": []
    },
    {
      "cell_type": "markdown",
      "source": [
        "Manual EDA to focus on some features"
      ],
      "metadata": {
        "id": "iIns6RHAcy4b"
      }
    },
    {
      "cell_type": "code",
      "source": [
        "data.drop_duplicates(inplace=True)\n",
        "data.shape"
      ],
      "metadata": {
        "id": "evdtJROZdzxw"
      },
      "execution_count": null,
      "outputs": []
    },
    {
      "cell_type": "markdown",
      "source": [
        "497 non obfuscated and 486 obfuscated"
      ],
      "metadata": {
        "id": "V0W2II1Wc-cl"
      }
    },
    {
      "cell_type": "code",
      "source": [
        "value_counts = data[\"label\"].value_counts().reset_index()\n",
        "value_counts.columns = [\"label\", \"count\"]\n",
        "fig = px.bar(value_counts, x=\"label\", y=\"count\", title=\"Value Counts for label\",color=\"label\",)\n",
        "fig.update_layout(\n",
        "    title_font_size=24,\n",
        "    font=dict(size=16),\n",
        "    width=800,\n",
        "    height=500,\n",
        "    showlegend=False\n",
        ")\n",
        "\n",
        "fig.show()"
      ],
      "metadata": {
        "id": "SLWSX2_KL6Ow"
      },
      "execution_count": null,
      "outputs": []
    },
    {
      "cell_type": "markdown",
      "source": [
        "This histogram shows the distribution of entropy values for both obfuscated (black) and non-obfuscated (pink) PowerShell scripts.\n",
        "\n",
        "Entropy measures the randomness of a script. Higher entropy typically suggests encoding or obfuscation.\n",
        "\n",
        "From the plot, we can see that non-obfuscated scripts have higher entropy (right side),\n",
        "\n",
        "while obfuscated ones cluster around lower entropy values (left/middle), which may indicate structured obfuscation patterns.\n",
        "This feature could help the model distinguish between the two classes\n",
        "**Observation**: Obfuscated scripts tend to have lower entropy values, while clean scripts show higher entropy.  \n",
        "This suggests that obfuscators may use structured patterns that reduce randomness rather than increase it."
      ],
      "metadata": {
        "id": "hfRaTXqvdYsO"
      }
    },
    {
      "cell_type": "code",
      "source": [
        "fig = px.histogram(data, x=\"entropy\", color=\"label\", color_discrete_map={\n",
        "                       0: 'pink',\n",
        "                       1: 'black'\n",
        "                   },\n",
        "                   nbins=50,\n",
        "                   labels={\"label\": \"Obfuscated\"},\n",
        "                   title=\"Distribution of Entropy by Script Type\")\n",
        "fig.update_layout(bargap=0.1)\n",
        "fig.show()"
      ],
      "metadata": {
        "id": "Fhqj8OSITIf8"
      },
      "execution_count": null,
      "outputs": []
    },
    {
      "cell_type": "markdown",
      "source": [
        " Obfuscated scripts generally have a much higher count of special characters, with noticeable outliers.\n",
        "This supports the idea that obfuscation techniques often rely on symbol-heavy patterns and encoding."
      ],
      "metadata": {
        "id": "xmkP9TAMfGnN"
      }
    },
    {
      "cell_type": "code",
      "source": [
        "fig = px.box(data, x=\"label\", y=\"num_special_chars\",\n",
        "             labels={\"label\": \"Obfuscated\", \"num_special_chars\": \"Special Characters\"},\n",
        "             title=\"Special Characters Count by Obfuscation\", color='label')\n",
        "fig.show()"
      ],
      "metadata": {
        "id": "rTTl2v0bUotk"
      },
      "execution_count": null,
      "outputs": []
    },
    {
      "cell_type": "markdown",
      "source": [
        "Obfuscated scripts are generally longer, but with moderate entropy.  \n",
        "This pattern may reflect structured obfuscation techniques such as base64 padding or encoded payloads,\n",
        "while clean scripts, though shorter, often exhibit higher randomness."
      ],
      "metadata": {
        "id": "kSJC-6D9fRgX"
      }
    },
    {
      "cell_type": "code",
      "source": [
        "fig = px.scatter(data, x=\"length\", y=\"entropy\", color=\"label\",\n",
        "                 labels={\"label\": \"Obfuscated\"},\n",
        "                 title=\"Script Length vs Entropy\")\n",
        "fig.show()"
      ],
      "metadata": {
        "id": "JCaHby0NUz4-"
      },
      "execution_count": null,
      "outputs": []
    },
    {
      "cell_type": "markdown",
      "source": [
        "correlation"
      ],
      "metadata": {
        "id": "7VUZ3OSUf2-4"
      }
    },
    {
      "cell_type": "code",
      "source": [
        "import plotly.figure_factory as ff\n",
        "\n",
        "corr_df = data.drop(columns=['script']).corr()\n",
        "\n",
        "annotations = np.array([[f\"{val:.3f}\" for val in row] for row in corr_df.values])\n",
        "\n",
        "fig = ff.create_annotated_heatmap(\n",
        "    z=corr_df.values,\n",
        "    x=corr_df.columns.tolist(),\n",
        "    y=corr_df.columns.tolist(),\n",
        "    annotation_text=annotations,\n",
        "    colorscale='YlGnBu'\n",
        ")\n",
        "\n",
        "fig.update_layout(\n",
        "    title=\"Feature Correlation Heatmap (3 Decimal Places)\",\n",
        "    width=1000,\n",
        "    height=1000,\n",
        "    margin=dict(t=160)  # t = top margin\n",
        "\n",
        ")\n",
        "\n",
        "fig.show()"
      ],
      "metadata": {
        "id": "up116iE_WNZS"
      },
      "execution_count": null,
      "outputs": []
    },
    {
      "cell_type": "markdown",
      "source": [
        "**Modeling**"
      ],
      "metadata": {
        "id": "KZrhLc1ngBbL"
      }
    },
    {
      "cell_type": "code",
      "source": [
        "data.drop(columns=['script'],inplace=True)\n",
        "X=data.drop('label',axis=1)\n",
        "y=data['label']"
      ],
      "metadata": {
        "id": "gzOMki_TWVmH"
      },
      "execution_count": null,
      "outputs": []
    },
    {
      "cell_type": "markdown",
      "source": [
        "Feature selection"
      ],
      "metadata": {
        "id": "EaFijnVEgK7V"
      }
    },
    {
      "cell_type": "code",
      "source": [
        "from sklearn.ensemble import ExtraTreesClassifier\n",
        "ex=ExtraTreesClassifier()\n",
        "ex.fit(X,y)"
      ],
      "metadata": {
        "id": "xBcIBkEPesfd"
      },
      "execution_count": null,
      "outputs": []
    },
    {
      "cell_type": "code",
      "source": [
        "feat = pd.Series(ex.feature_importances_, index=X.columns)\n",
        "top_feat = feat.nlargest(10).sort_values()\n",
        "df_feat = top_feat.reset_index()\n",
        "df_feat.columns = ['Feature', 'Importance']\n",
        "\n",
        "fig = px.bar(\n",
        "    df_feat,\n",
        "    x=\"Importance\",\n",
        "    y=\"Feature\",\n",
        "    orientation='h',\n",
        "    color_discrete_sequence=['red'],\n",
        "    title=\"Top 10 Feature Importances\"\n",
        ")\n",
        "\n",
        "fig.update_layout(\n",
        "    height=600,\n",
        "    width=1000,\n",
        "    yaxis=dict(tickfont=dict(size=14)),\n",
        "    xaxis=dict(title='Importance'),\n",
        "    margin=dict(l=100, r=20, t=80, b=40)\n",
        ")\n",
        "\n",
        "fig.show()"
      ],
      "metadata": {
        "id": "NvDLJJ2zeuih"
      },
      "execution_count": null,
      "outputs": []
    },
    {
      "cell_type": "markdown",
      "source": [
        "Splitting data 80% training, 20% testing"
      ],
      "metadata": {
        "id": "MlnXV_8MgVj5"
      }
    },
    {
      "cell_type": "code",
      "source": [
        "from sklearn.model_selection import train_test_split ,cross_val_score,RandomizedSearchCV\n",
        "X_train ,X_test,y_train ,y_test =train_test_split(X,y,test_size =.2 , random_state=42 , stratify=y)"
      ],
      "metadata": {
        "id": "d9Zl6wJbfePr"
      },
      "execution_count": null,
      "outputs": []
    },
    {
      "cell_type": "markdown",
      "source": [
        "Feature scaling"
      ],
      "metadata": {
        "id": "UkJPOQB-gehH"
      }
    },
    {
      "cell_type": "code",
      "source": [
        "from sklearn.preprocessing import StandardScaler\n",
        "scaler=StandardScaler()\n",
        "X_train=scaler.fit_transform(X_train)\n",
        "X_test=scaler.fit_transform(X_test)"
      ],
      "metadata": {
        "id": "PSXjXMFffpEL"
      },
      "execution_count": null,
      "outputs": []
    },
    {
      "cell_type": "markdown",
      "source": [
        "Import our ML models"
      ],
      "metadata": {
        "id": "PSYBh5S5gibe"
      }
    },
    {
      "cell_type": "code",
      "source": [
        "from sklearn.linear_model import LogisticRegression ,SGDClassifier\n",
        "from sklearn.tree import DecisionTreeClassifier\n",
        "from sklearn.ensemble import RandomForestClassifier,GradientBoostingClassifier\n",
        "from sklearn.neighbors import KNeighborsClassifier\n",
        "from sklearn.svm import SVC\n",
        "from xgboost.sklearn import XGBClassifier"
      ],
      "metadata": {
        "id": "kE0L2-Z-fsJf"
      },
      "execution_count": null,
      "outputs": []
    },
    {
      "cell_type": "code",
      "source": [
        "models = {'Logistic Regression': LogisticRegression(),\n",
        "         'KNN': KNeighborsClassifier(),\n",
        "         'Decision Tree': DecisionTreeClassifier(),\n",
        "         'Random Forest': RandomForestClassifier(),\n",
        "         'Gradient Boosting Classifier':GradientBoostingClassifier(),\n",
        "         'Support Vector Machine': SVC(),\n",
        "         'Stochastic Gradien Descent': SGDClassifier(),\n",
        "         'xgb Classifier': XGBClassifier()}"
      ],
      "metadata": {
        "id": "SLRmnqlDfvZU"
      },
      "execution_count": null,
      "outputs": []
    },
    {
      "cell_type": "code",
      "source": [
        "def fit_score(models, X_train, X_test, y_train, y_test):\n",
        "    np.random.seed(42)\n",
        "    model_scores = {}\n",
        "    for name, model in models.items():\n",
        "        model.fit(X_train, y_train)\n",
        "        model_scores[name] = cross_val_score(model,\n",
        "                                             X_test,\n",
        "                                             y_test,\n",
        "                                            scoring='accuracy',\n",
        "                                            cv=5\n",
        "                                            ).mean()\n",
        "\n",
        "    return model_scores"
      ],
      "metadata": {
        "id": "nCQloVhOfzS1"
      },
      "execution_count": null,
      "outputs": []
    },
    {
      "cell_type": "markdown",
      "source": [
        "Random forest classifier won"
      ],
      "metadata": {
        "id": "rNhh02zAgpux"
      }
    },
    {
      "cell_type": "code",
      "source": [
        "model_scores = fit_score(models,X_train,X_test,y_train,y_test)\n",
        "\n",
        "model_scores"
      ],
      "metadata": {
        "id": "L-mSRH6df3fZ"
      },
      "execution_count": null,
      "outputs": []
    },
    {
      "cell_type": "code",
      "source": [
        "models = pd.DataFrame(model_scores, index=[\"accuracy\"])\n",
        "models.T.plot.bar(color=\"blue\")"
      ],
      "metadata": {
        "id": "Y5wyG5gif6ZG"
      },
      "execution_count": null,
      "outputs": []
    },
    {
      "cell_type": "markdown",
      "source": [
        "Hyperparameters tuning"
      ],
      "metadata": {
        "id": "xE9puKWMgvnR"
      }
    },
    {
      "cell_type": "code",
      "source": [
        "np.random.seed(42)\n",
        "params = {\n",
        "    'n_estimators': [100, 200, 300,400],\n",
        "    'max_depth': [None, 10, 20, 30,40],\n",
        "    'min_samples_split': [2, 5, 10,15],\n",
        "    'min_samples_leaf': [1, 2, 4,5],\n",
        "    'max_features': ['auto', 'sqrt', 'log2']\n",
        "}"
      ],
      "metadata": {
        "id": "kWCvaz8ogEi7"
      },
      "execution_count": null,
      "outputs": []
    },
    {
      "cell_type": "code",
      "source": [
        "rf = RandomizedSearchCV(RandomForestClassifier(),\n",
        "                                param_distributions=params,\n",
        "                                cv=5,\n",
        "                                n_iter=100,\n",
        "                                verbose=1,\n",
        "                              refit=True,\n",
        "                                n_jobs=-1\n",
        "                               )\n",
        "\n",
        "rf.fit(X_train, y_train)\n",
        "\n",
        "rf.best_params_"
      ],
      "metadata": {
        "id": "QnXYBLh5gdGv"
      },
      "execution_count": null,
      "outputs": []
    },
    {
      "cell_type": "code",
      "source": [
        "rf.best_estimator_"
      ],
      "metadata": {
        "colab": {
          "base_uri": "https://localhost:8080/",
          "height": 98
        },
        "id": "ayjJKw2SgvBo",
        "outputId": "83559a0e-0820-4c33-b233-423b99359aa3"
      },
      "execution_count": 35,
      "outputs": [
        {
          "output_type": "execute_result",
          "data": {
            "text/plain": [
              "RandomForestClassifier(max_depth=40, max_features='log2', min_samples_leaf=2,\n",
              "                       min_samples_split=10, n_estimators=400)"
            ],
            "text/html": [
              "<style>#sk-container-id-2 {\n",
              "  /* Definition of color scheme common for light and dark mode */\n",
              "  --sklearn-color-text: #000;\n",
              "  --sklearn-color-text-muted: #666;\n",
              "  --sklearn-color-line: gray;\n",
              "  /* Definition of color scheme for unfitted estimators */\n",
              "  --sklearn-color-unfitted-level-0: #fff5e6;\n",
              "  --sklearn-color-unfitted-level-1: #f6e4d2;\n",
              "  --sklearn-color-unfitted-level-2: #ffe0b3;\n",
              "  --sklearn-color-unfitted-level-3: chocolate;\n",
              "  /* Definition of color scheme for fitted estimators */\n",
              "  --sklearn-color-fitted-level-0: #f0f8ff;\n",
              "  --sklearn-color-fitted-level-1: #d4ebff;\n",
              "  --sklearn-color-fitted-level-2: #b3dbfd;\n",
              "  --sklearn-color-fitted-level-3: cornflowerblue;\n",
              "\n",
              "  /* Specific color for light theme */\n",
              "  --sklearn-color-text-on-default-background: var(--sg-text-color, var(--theme-code-foreground, var(--jp-content-font-color1, black)));\n",
              "  --sklearn-color-background: var(--sg-background-color, var(--theme-background, var(--jp-layout-color0, white)));\n",
              "  --sklearn-color-border-box: var(--sg-text-color, var(--theme-code-foreground, var(--jp-content-font-color1, black)));\n",
              "  --sklearn-color-icon: #696969;\n",
              "\n",
              "  @media (prefers-color-scheme: dark) {\n",
              "    /* Redefinition of color scheme for dark theme */\n",
              "    --sklearn-color-text-on-default-background: var(--sg-text-color, var(--theme-code-foreground, var(--jp-content-font-color1, white)));\n",
              "    --sklearn-color-background: var(--sg-background-color, var(--theme-background, var(--jp-layout-color0, #111)));\n",
              "    --sklearn-color-border-box: var(--sg-text-color, var(--theme-code-foreground, var(--jp-content-font-color1, white)));\n",
              "    --sklearn-color-icon: #878787;\n",
              "  }\n",
              "}\n",
              "\n",
              "#sk-container-id-2 {\n",
              "  color: var(--sklearn-color-text);\n",
              "}\n",
              "\n",
              "#sk-container-id-2 pre {\n",
              "  padding: 0;\n",
              "}\n",
              "\n",
              "#sk-container-id-2 input.sk-hidden--visually {\n",
              "  border: 0;\n",
              "  clip: rect(1px 1px 1px 1px);\n",
              "  clip: rect(1px, 1px, 1px, 1px);\n",
              "  height: 1px;\n",
              "  margin: -1px;\n",
              "  overflow: hidden;\n",
              "  padding: 0;\n",
              "  position: absolute;\n",
              "  width: 1px;\n",
              "}\n",
              "\n",
              "#sk-container-id-2 div.sk-dashed-wrapped {\n",
              "  border: 1px dashed var(--sklearn-color-line);\n",
              "  margin: 0 0.4em 0.5em 0.4em;\n",
              "  box-sizing: border-box;\n",
              "  padding-bottom: 0.4em;\n",
              "  background-color: var(--sklearn-color-background);\n",
              "}\n",
              "\n",
              "#sk-container-id-2 div.sk-container {\n",
              "  /* jupyter's `normalize.less` sets `[hidden] { display: none; }`\n",
              "     but bootstrap.min.css set `[hidden] { display: none !important; }`\n",
              "     so we also need the `!important` here to be able to override the\n",
              "     default hidden behavior on the sphinx rendered scikit-learn.org.\n",
              "     See: https://github.com/scikit-learn/scikit-learn/issues/21755 */\n",
              "  display: inline-block !important;\n",
              "  position: relative;\n",
              "}\n",
              "\n",
              "#sk-container-id-2 div.sk-text-repr-fallback {\n",
              "  display: none;\n",
              "}\n",
              "\n",
              "div.sk-parallel-item,\n",
              "div.sk-serial,\n",
              "div.sk-item {\n",
              "  /* draw centered vertical line to link estimators */\n",
              "  background-image: linear-gradient(var(--sklearn-color-text-on-default-background), var(--sklearn-color-text-on-default-background));\n",
              "  background-size: 2px 100%;\n",
              "  background-repeat: no-repeat;\n",
              "  background-position: center center;\n",
              "}\n",
              "\n",
              "/* Parallel-specific style estimator block */\n",
              "\n",
              "#sk-container-id-2 div.sk-parallel-item::after {\n",
              "  content: \"\";\n",
              "  width: 100%;\n",
              "  border-bottom: 2px solid var(--sklearn-color-text-on-default-background);\n",
              "  flex-grow: 1;\n",
              "}\n",
              "\n",
              "#sk-container-id-2 div.sk-parallel {\n",
              "  display: flex;\n",
              "  align-items: stretch;\n",
              "  justify-content: center;\n",
              "  background-color: var(--sklearn-color-background);\n",
              "  position: relative;\n",
              "}\n",
              "\n",
              "#sk-container-id-2 div.sk-parallel-item {\n",
              "  display: flex;\n",
              "  flex-direction: column;\n",
              "}\n",
              "\n",
              "#sk-container-id-2 div.sk-parallel-item:first-child::after {\n",
              "  align-self: flex-end;\n",
              "  width: 50%;\n",
              "}\n",
              "\n",
              "#sk-container-id-2 div.sk-parallel-item:last-child::after {\n",
              "  align-self: flex-start;\n",
              "  width: 50%;\n",
              "}\n",
              "\n",
              "#sk-container-id-2 div.sk-parallel-item:only-child::after {\n",
              "  width: 0;\n",
              "}\n",
              "\n",
              "/* Serial-specific style estimator block */\n",
              "\n",
              "#sk-container-id-2 div.sk-serial {\n",
              "  display: flex;\n",
              "  flex-direction: column;\n",
              "  align-items: center;\n",
              "  background-color: var(--sklearn-color-background);\n",
              "  padding-right: 1em;\n",
              "  padding-left: 1em;\n",
              "}\n",
              "\n",
              "\n",
              "/* Toggleable style: style used for estimator/Pipeline/ColumnTransformer box that is\n",
              "clickable and can be expanded/collapsed.\n",
              "- Pipeline and ColumnTransformer use this feature and define the default style\n",
              "- Estimators will overwrite some part of the style using the `sk-estimator` class\n",
              "*/\n",
              "\n",
              "/* Pipeline and ColumnTransformer style (default) */\n",
              "\n",
              "#sk-container-id-2 div.sk-toggleable {\n",
              "  /* Default theme specific background. It is overwritten whether we have a\n",
              "  specific estimator or a Pipeline/ColumnTransformer */\n",
              "  background-color: var(--sklearn-color-background);\n",
              "}\n",
              "\n",
              "/* Toggleable label */\n",
              "#sk-container-id-2 label.sk-toggleable__label {\n",
              "  cursor: pointer;\n",
              "  display: flex;\n",
              "  width: 100%;\n",
              "  margin-bottom: 0;\n",
              "  padding: 0.5em;\n",
              "  box-sizing: border-box;\n",
              "  text-align: center;\n",
              "  align-items: start;\n",
              "  justify-content: space-between;\n",
              "  gap: 0.5em;\n",
              "}\n",
              "\n",
              "#sk-container-id-2 label.sk-toggleable__label .caption {\n",
              "  font-size: 0.6rem;\n",
              "  font-weight: lighter;\n",
              "  color: var(--sklearn-color-text-muted);\n",
              "}\n",
              "\n",
              "#sk-container-id-2 label.sk-toggleable__label-arrow:before {\n",
              "  /* Arrow on the left of the label */\n",
              "  content: \"▸\";\n",
              "  float: left;\n",
              "  margin-right: 0.25em;\n",
              "  color: var(--sklearn-color-icon);\n",
              "}\n",
              "\n",
              "#sk-container-id-2 label.sk-toggleable__label-arrow:hover:before {\n",
              "  color: var(--sklearn-color-text);\n",
              "}\n",
              "\n",
              "/* Toggleable content - dropdown */\n",
              "\n",
              "#sk-container-id-2 div.sk-toggleable__content {\n",
              "  max-height: 0;\n",
              "  max-width: 0;\n",
              "  overflow: hidden;\n",
              "  text-align: left;\n",
              "  /* unfitted */\n",
              "  background-color: var(--sklearn-color-unfitted-level-0);\n",
              "}\n",
              "\n",
              "#sk-container-id-2 div.sk-toggleable__content.fitted {\n",
              "  /* fitted */\n",
              "  background-color: var(--sklearn-color-fitted-level-0);\n",
              "}\n",
              "\n",
              "#sk-container-id-2 div.sk-toggleable__content pre {\n",
              "  margin: 0.2em;\n",
              "  border-radius: 0.25em;\n",
              "  color: var(--sklearn-color-text);\n",
              "  /* unfitted */\n",
              "  background-color: var(--sklearn-color-unfitted-level-0);\n",
              "}\n",
              "\n",
              "#sk-container-id-2 div.sk-toggleable__content.fitted pre {\n",
              "  /* unfitted */\n",
              "  background-color: var(--sklearn-color-fitted-level-0);\n",
              "}\n",
              "\n",
              "#sk-container-id-2 input.sk-toggleable__control:checked~div.sk-toggleable__content {\n",
              "  /* Expand drop-down */\n",
              "  max-height: 200px;\n",
              "  max-width: 100%;\n",
              "  overflow: auto;\n",
              "}\n",
              "\n",
              "#sk-container-id-2 input.sk-toggleable__control:checked~label.sk-toggleable__label-arrow:before {\n",
              "  content: \"▾\";\n",
              "}\n",
              "\n",
              "/* Pipeline/ColumnTransformer-specific style */\n",
              "\n",
              "#sk-container-id-2 div.sk-label input.sk-toggleable__control:checked~label.sk-toggleable__label {\n",
              "  color: var(--sklearn-color-text);\n",
              "  background-color: var(--sklearn-color-unfitted-level-2);\n",
              "}\n",
              "\n",
              "#sk-container-id-2 div.sk-label.fitted input.sk-toggleable__control:checked~label.sk-toggleable__label {\n",
              "  background-color: var(--sklearn-color-fitted-level-2);\n",
              "}\n",
              "\n",
              "/* Estimator-specific style */\n",
              "\n",
              "/* Colorize estimator box */\n",
              "#sk-container-id-2 div.sk-estimator input.sk-toggleable__control:checked~label.sk-toggleable__label {\n",
              "  /* unfitted */\n",
              "  background-color: var(--sklearn-color-unfitted-level-2);\n",
              "}\n",
              "\n",
              "#sk-container-id-2 div.sk-estimator.fitted input.sk-toggleable__control:checked~label.sk-toggleable__label {\n",
              "  /* fitted */\n",
              "  background-color: var(--sklearn-color-fitted-level-2);\n",
              "}\n",
              "\n",
              "#sk-container-id-2 div.sk-label label.sk-toggleable__label,\n",
              "#sk-container-id-2 div.sk-label label {\n",
              "  /* The background is the default theme color */\n",
              "  color: var(--sklearn-color-text-on-default-background);\n",
              "}\n",
              "\n",
              "/* On hover, darken the color of the background */\n",
              "#sk-container-id-2 div.sk-label:hover label.sk-toggleable__label {\n",
              "  color: var(--sklearn-color-text);\n",
              "  background-color: var(--sklearn-color-unfitted-level-2);\n",
              "}\n",
              "\n",
              "/* Label box, darken color on hover, fitted */\n",
              "#sk-container-id-2 div.sk-label.fitted:hover label.sk-toggleable__label.fitted {\n",
              "  color: var(--sklearn-color-text);\n",
              "  background-color: var(--sklearn-color-fitted-level-2);\n",
              "}\n",
              "\n",
              "/* Estimator label */\n",
              "\n",
              "#sk-container-id-2 div.sk-label label {\n",
              "  font-family: monospace;\n",
              "  font-weight: bold;\n",
              "  display: inline-block;\n",
              "  line-height: 1.2em;\n",
              "}\n",
              "\n",
              "#sk-container-id-2 div.sk-label-container {\n",
              "  text-align: center;\n",
              "}\n",
              "\n",
              "/* Estimator-specific */\n",
              "#sk-container-id-2 div.sk-estimator {\n",
              "  font-family: monospace;\n",
              "  border: 1px dotted var(--sklearn-color-border-box);\n",
              "  border-radius: 0.25em;\n",
              "  box-sizing: border-box;\n",
              "  margin-bottom: 0.5em;\n",
              "  /* unfitted */\n",
              "  background-color: var(--sklearn-color-unfitted-level-0);\n",
              "}\n",
              "\n",
              "#sk-container-id-2 div.sk-estimator.fitted {\n",
              "  /* fitted */\n",
              "  background-color: var(--sklearn-color-fitted-level-0);\n",
              "}\n",
              "\n",
              "/* on hover */\n",
              "#sk-container-id-2 div.sk-estimator:hover {\n",
              "  /* unfitted */\n",
              "  background-color: var(--sklearn-color-unfitted-level-2);\n",
              "}\n",
              "\n",
              "#sk-container-id-2 div.sk-estimator.fitted:hover {\n",
              "  /* fitted */\n",
              "  background-color: var(--sklearn-color-fitted-level-2);\n",
              "}\n",
              "\n",
              "/* Specification for estimator info (e.g. \"i\" and \"?\") */\n",
              "\n",
              "/* Common style for \"i\" and \"?\" */\n",
              "\n",
              ".sk-estimator-doc-link,\n",
              "a:link.sk-estimator-doc-link,\n",
              "a:visited.sk-estimator-doc-link {\n",
              "  float: right;\n",
              "  font-size: smaller;\n",
              "  line-height: 1em;\n",
              "  font-family: monospace;\n",
              "  background-color: var(--sklearn-color-background);\n",
              "  border-radius: 1em;\n",
              "  height: 1em;\n",
              "  width: 1em;\n",
              "  text-decoration: none !important;\n",
              "  margin-left: 0.5em;\n",
              "  text-align: center;\n",
              "  /* unfitted */\n",
              "  border: var(--sklearn-color-unfitted-level-1) 1pt solid;\n",
              "  color: var(--sklearn-color-unfitted-level-1);\n",
              "}\n",
              "\n",
              ".sk-estimator-doc-link.fitted,\n",
              "a:link.sk-estimator-doc-link.fitted,\n",
              "a:visited.sk-estimator-doc-link.fitted {\n",
              "  /* fitted */\n",
              "  border: var(--sklearn-color-fitted-level-1) 1pt solid;\n",
              "  color: var(--sklearn-color-fitted-level-1);\n",
              "}\n",
              "\n",
              "/* On hover */\n",
              "div.sk-estimator:hover .sk-estimator-doc-link:hover,\n",
              ".sk-estimator-doc-link:hover,\n",
              "div.sk-label-container:hover .sk-estimator-doc-link:hover,\n",
              ".sk-estimator-doc-link:hover {\n",
              "  /* unfitted */\n",
              "  background-color: var(--sklearn-color-unfitted-level-3);\n",
              "  color: var(--sklearn-color-background);\n",
              "  text-decoration: none;\n",
              "}\n",
              "\n",
              "div.sk-estimator.fitted:hover .sk-estimator-doc-link.fitted:hover,\n",
              ".sk-estimator-doc-link.fitted:hover,\n",
              "div.sk-label-container:hover .sk-estimator-doc-link.fitted:hover,\n",
              ".sk-estimator-doc-link.fitted:hover {\n",
              "  /* fitted */\n",
              "  background-color: var(--sklearn-color-fitted-level-3);\n",
              "  color: var(--sklearn-color-background);\n",
              "  text-decoration: none;\n",
              "}\n",
              "\n",
              "/* Span, style for the box shown on hovering the info icon */\n",
              ".sk-estimator-doc-link span {\n",
              "  display: none;\n",
              "  z-index: 9999;\n",
              "  position: relative;\n",
              "  font-weight: normal;\n",
              "  right: .2ex;\n",
              "  padding: .5ex;\n",
              "  margin: .5ex;\n",
              "  width: min-content;\n",
              "  min-width: 20ex;\n",
              "  max-width: 50ex;\n",
              "  color: var(--sklearn-color-text);\n",
              "  box-shadow: 2pt 2pt 4pt #999;\n",
              "  /* unfitted */\n",
              "  background: var(--sklearn-color-unfitted-level-0);\n",
              "  border: .5pt solid var(--sklearn-color-unfitted-level-3);\n",
              "}\n",
              "\n",
              ".sk-estimator-doc-link.fitted span {\n",
              "  /* fitted */\n",
              "  background: var(--sklearn-color-fitted-level-0);\n",
              "  border: var(--sklearn-color-fitted-level-3);\n",
              "}\n",
              "\n",
              ".sk-estimator-doc-link:hover span {\n",
              "  display: block;\n",
              "}\n",
              "\n",
              "/* \"?\"-specific style due to the `<a>` HTML tag */\n",
              "\n",
              "#sk-container-id-2 a.estimator_doc_link {\n",
              "  float: right;\n",
              "  font-size: 1rem;\n",
              "  line-height: 1em;\n",
              "  font-family: monospace;\n",
              "  background-color: var(--sklearn-color-background);\n",
              "  border-radius: 1rem;\n",
              "  height: 1rem;\n",
              "  width: 1rem;\n",
              "  text-decoration: none;\n",
              "  /* unfitted */\n",
              "  color: var(--sklearn-color-unfitted-level-1);\n",
              "  border: var(--sklearn-color-unfitted-level-1) 1pt solid;\n",
              "}\n",
              "\n",
              "#sk-container-id-2 a.estimator_doc_link.fitted {\n",
              "  /* fitted */\n",
              "  border: var(--sklearn-color-fitted-level-1) 1pt solid;\n",
              "  color: var(--sklearn-color-fitted-level-1);\n",
              "}\n",
              "\n",
              "/* On hover */\n",
              "#sk-container-id-2 a.estimator_doc_link:hover {\n",
              "  /* unfitted */\n",
              "  background-color: var(--sklearn-color-unfitted-level-3);\n",
              "  color: var(--sklearn-color-background);\n",
              "  text-decoration: none;\n",
              "}\n",
              "\n",
              "#sk-container-id-2 a.estimator_doc_link.fitted:hover {\n",
              "  /* fitted */\n",
              "  background-color: var(--sklearn-color-fitted-level-3);\n",
              "}\n",
              "</style><div id=\"sk-container-id-2\" class=\"sk-top-container\"><div class=\"sk-text-repr-fallback\"><pre>RandomForestClassifier(max_depth=40, max_features=&#x27;log2&#x27;, min_samples_leaf=2,\n",
              "                       min_samples_split=10, n_estimators=400)</pre><b>In a Jupyter environment, please rerun this cell to show the HTML representation or trust the notebook. <br />On GitHub, the HTML representation is unable to render, please try loading this page with nbviewer.org.</b></div><div class=\"sk-container\" hidden><div class=\"sk-item\"><div class=\"sk-estimator fitted sk-toggleable\"><input class=\"sk-toggleable__control sk-hidden--visually\" id=\"sk-estimator-id-2\" type=\"checkbox\" checked><label for=\"sk-estimator-id-2\" class=\"sk-toggleable__label fitted sk-toggleable__label-arrow\"><div><div>RandomForestClassifier</div></div><div><a class=\"sk-estimator-doc-link fitted\" rel=\"noreferrer\" target=\"_blank\" href=\"https://scikit-learn.org/1.6/modules/generated/sklearn.ensemble.RandomForestClassifier.html\">?<span>Documentation for RandomForestClassifier</span></a><span class=\"sk-estimator-doc-link fitted\">i<span>Fitted</span></span></div></label><div class=\"sk-toggleable__content fitted\"><pre>RandomForestClassifier(max_depth=40, max_features=&#x27;log2&#x27;, min_samples_leaf=2,\n",
              "                       min_samples_split=10, n_estimators=400)</pre></div> </div></div></div></div>"
            ]
          },
          "metadata": {},
          "execution_count": 35
        }
      ]
    },
    {
      "cell_type": "code",
      "source": [
        "rf.best_score_"
      ],
      "metadata": {
        "colab": {
          "base_uri": "https://localhost:8080/"
        },
        "id": "f-KOQ7WjhEeL",
        "outputId": "684fae98-4796-4557-e421-cfc5de92250f"
      },
      "execution_count": 36,
      "outputs": [
        {
          "output_type": "execute_result",
          "data": {
            "text/plain": [
              "np.float64(0.9694831895509152)"
            ]
          },
          "metadata": {},
          "execution_count": 36
        }
      ]
    },
    {
      "cell_type": "code",
      "source": [
        "model = RandomForestClassifier(max_depth=20, min_samples_leaf=4, min_samples_split=5,\n",
        "                       n_estimators=400)\n",
        "model.fit(X_train, y_train)\n",
        "y_pred = model.predict(X_test)"
      ],
      "metadata": {
        "id": "cGTeAozuhJm9"
      },
      "execution_count": 37,
      "outputs": []
    },
    {
      "cell_type": "markdown",
      "source": [
        "95 true positive, 82 true negative, 15 false positive, 5 false negative,"
      ],
      "metadata": {
        "id": "_bFOigA4hG1v"
      }
    },
    {
      "cell_type": "code",
      "source": [
        "from sklearn.metrics import confusion_matrix, classification_report\n",
        "sns.heatmap(pd.DataFrame(confusion_matrix(y_test,y_pred)) , annot=True)"
      ],
      "metadata": {
        "colab": {
          "base_uri": "https://localhost:8080/",
          "height": 448
        },
        "id": "DGRrjwuVhMYj",
        "outputId": "521b15f4-d06b-460d-aa9d-f3aee71ad50f"
      },
      "execution_count": 38,
      "outputs": [
        {
          "output_type": "execute_result",
          "data": {
            "text/plain": [
              "<Axes: >"
            ]
          },
          "metadata": {},
          "execution_count": 38
        },
        {
          "output_type": "display_data",
          "data": {
            "text/plain": [
              "<Figure size 640x480 with 2 Axes>"
            ],
            "image/png": "[encoded data removed]"
          },
          "metadata": {}
        }
      ]
    },
    {
      "cell_type": "markdown",
      "source": [
        "metrics"
      ],
      "metadata": {
        "id": "1VLacBRBhJMc"
      }
    },
    {
      "cell_type": "code",
      "source": [
        "print(classification_report(y_test, y_pred))"
      ],
      "metadata": {
        "colab": {
          "base_uri": "https://localhost:8080/"
        },
        "id": "6xJutF9hilZX",
        "outputId": "27f59d07-150d-4c2b-9cd8-6cf809ef1901"
      },
      "execution_count": 39,
      "outputs": [
        {
          "output_type": "stream",
          "name": "stdout",
          "text": [
            "              precision    recall  f1-score   support\n",
            "\n",
            "           0       0.86      0.95      0.90       100\n",
            "           1       0.94      0.85      0.89        97\n",
            "\n",
            "    accuracy                           0.90       197\n",
            "   macro avg       0.90      0.90      0.90       197\n",
            "weighted avg       0.90      0.90      0.90       197\n",
            "\n"
          ]
        }
      ]
    },
    {
      "cell_type": "markdown",
      "source": [
        "DL"
      ],
      "metadata": {
        "id": "8UPKMzYQhPXt"
      }
    },
    {
      "cell_type": "code",
      "source": [
        "from tensorflow import keras\n",
        "callback = keras.callbacks.EarlyStopping(monitor='loss', patience=10)"
      ],
      "metadata": {
        "id": "X45B0w0DipYq"
      },
      "execution_count": 40,
      "outputs": []
    },
    {
      "cell_type": "code",
      "source": [
        "Model=keras.Sequential([keras.layers.Dense(64,activation='relu'),\n",
        "                        keras.layers.Dense(32,activation='relu')\n",
        "                        ,keras.layers.Dense(16,activation='relu'),\n",
        "                           keras.layers.Dense(1,activation='sigmoid')])"
      ],
      "metadata": {
        "id": "z8wquOf4ivPA"
      },
      "execution_count": 41,
      "outputs": []
    },
    {
      "cell_type": "code",
      "source": [
        "Model.compile(loss='binary_crossentropy',optimizer='adam',metrics=['acc'])\n",
        "history=Model.fit(X_train,y_train,epochs=50,batch_size=32,validation_split=0.2,callbacks=[callback],verbose=1)"
      ],
      "metadata": {
        "colab": {
          "base_uri": "https://localhost:8080/"
        },
        "id": "NhwOm0X-izXI",
        "outputId": "6cec91f9-22ab-417c-9ae5-ee8d01c38c01"
      },
      "execution_count": 42,
      "outputs": [
        {
          "output_type": "stream",
          "name": "stdout",
          "text": [
            "Epoch 1/50\n",
            "\u001b[1m20/20\u001b[0m \u001b[32m━━━━━━━━━━━━━━━━━━━━\u001b[0m\u001b[37m\u001b[0m \u001b[1m2s\u001b[0m 18ms/step - acc: 0.7007 - loss: 0.6971 - val_acc: 0.9367 - val_loss: 0.6378\n",
            "Epoch 2/50\n",
            "\u001b[1m20/20\u001b[0m \u001b[32m━━━━━━━━━━━━━━━━━━━━\u001b[0m\u001b[37m\u001b[0m \u001b[1m0s\u001b[0m 6ms/step - acc: 0.9618 - loss: 0.6066 - val_acc: 0.9367 - val_loss: 0.5260\n",
            "Epoch 3/50\n",
            "\u001b[1m20/20\u001b[0m \u001b[32m━━━━━━━━━━━━━━━━━━━━\u001b[0m\u001b[37m\u001b[0m \u001b[1m0s\u001b[0m 6ms/step - acc: 0.9595 - loss: 0.4617 - val_acc: 0.9367 - val_loss: 0.3738\n",
            "Epoch 4/50\n",
            "\u001b[1m20/20\u001b[0m \u001b[32m━━━━━━━━━━━━━━━━━━━━\u001b[0m\u001b[37m\u001b[0m \u001b[1m0s\u001b[0m 6ms/step - acc: 0.9735 - loss: 0.2929 - val_acc: 0.9367 - val_loss: 0.2710\n",
            "Epoch 5/50\n",
            "\u001b[1m20/20\u001b[0m \u001b[32m━━━━━━━━━━━━━━━━━━━━\u001b[0m\u001b[37m\u001b[0m \u001b[1m0s\u001b[0m 7ms/step - acc: 0.9694 - loss: 0.1792 - val_acc: 0.9430 - val_loss: 0.2495\n",
            "Epoch 6/50\n",
            "\u001b[1m20/20\u001b[0m \u001b[32m━━━━━━━━━━━━━━━━━━━━\u001b[0m\u001b[37m\u001b[0m \u001b[1m0s\u001b[0m 6ms/step - acc: 0.9546 - loss: 0.1645 - val_acc: 0.9430 - val_loss: 0.2522\n",
            "Epoch 7/50\n",
            "\u001b[1m20/20\u001b[0m \u001b[32m━━━━━━━━━━━━━━━━━━━━\u001b[0m\u001b[37m\u001b[0m \u001b[1m0s\u001b[0m 7ms/step - acc: 0.9640 - loss: 0.1364 - val_acc: 0.9430 - val_loss: 0.2502\n",
            "Epoch 8/50\n",
            "\u001b[1m20/20\u001b[0m \u001b[32m━━━━━━━━━━━━━━━━━━━━\u001b[0m\u001b[37m\u001b[0m \u001b[1m0s\u001b[0m 16ms/step - acc: 0.9687 - loss: 0.1255 - val_acc: 0.9430 - val_loss: 0.2437\n",
            "Epoch 9/50\n",
            "\u001b[1m20/20\u001b[0m \u001b[32m━━━━━━━━━━━━━━━━━━━━\u001b[0m\u001b[37m\u001b[0m \u001b[1m0s\u001b[0m 11ms/step - acc: 0.9480 - loss: 0.1652 - val_acc: 0.9367 - val_loss: 0.2425\n",
            "Epoch 10/50\n",
            "\u001b[1m20/20\u001b[0m \u001b[32m━━━━━━━━━━━━━━━━━━━━\u001b[0m\u001b[37m\u001b[0m \u001b[1m0s\u001b[0m 10ms/step - acc: 0.9656 - loss: 0.1246 - val_acc: 0.9430 - val_loss: 0.2413\n",
            "Epoch 11/50\n",
            "\u001b[1m20/20\u001b[0m \u001b[32m━━━━━━━━━━━━━━━━━━━━\u001b[0m\u001b[37m\u001b[0m \u001b[1m0s\u001b[0m 10ms/step - acc: 0.9594 - loss: 0.1269 - val_acc: 0.9367 - val_loss: 0.2403\n",
            "Epoch 12/50\n",
            "\u001b[1m20/20\u001b[0m \u001b[32m━━━━━━━━━━━━━━━━━━━━\u001b[0m\u001b[37m\u001b[0m \u001b[1m0s\u001b[0m 10ms/step - acc: 0.9577 - loss: 0.1291 - val_acc: 0.9367 - val_loss: 0.2413\n",
            "Epoch 13/50\n",
            "\u001b[1m20/20\u001b[0m \u001b[32m━━━━━━━━━━━━━━━━━━━━\u001b[0m\u001b[37m\u001b[0m \u001b[1m0s\u001b[0m 17ms/step - acc: 0.9640 - loss: 0.1127 - val_acc: 0.9430 - val_loss: 0.2367\n",
            "Epoch 14/50\n",
            "\u001b[1m20/20\u001b[0m \u001b[32m━━━━━━━━━━━━━━━━━━━━\u001b[0m\u001b[37m\u001b[0m \u001b[1m0s\u001b[0m 8ms/step - acc: 0.9699 - loss: 0.0997 - val_acc: 0.9367 - val_loss: 0.2368\n",
            "Epoch 15/50\n",
            "\u001b[1m20/20\u001b[0m \u001b[32m━━━━━━━━━━━━━━━━━━━━\u001b[0m\u001b[37m\u001b[0m \u001b[1m0s\u001b[0m 8ms/step - acc: 0.9773 - loss: 0.0897 - val_acc: 0.9367 - val_loss: 0.2407\n",
            "Epoch 16/50\n",
            "\u001b[1m20/20\u001b[0m \u001b[32m━━━━━━━━━━━━━━━━━━━━\u001b[0m\u001b[37m\u001b[0m \u001b[1m0s\u001b[0m 10ms/step - acc: 0.9726 - loss: 0.0927 - val_acc: 0.9367 - val_loss: 0.2447\n",
            "Epoch 17/50\n",
            "\u001b[1m20/20\u001b[0m \u001b[32m━━━━━━━━━━━━━━━━━━━━\u001b[0m\u001b[37m\u001b[0m \u001b[1m0s\u001b[0m 18ms/step - acc: 0.9681 - loss: 0.1041 - val_acc: 0.9367 - val_loss: 0.2396\n",
            "Epoch 18/50\n",
            "\u001b[1m20/20\u001b[0m \u001b[32m━━━━━━━━━━━━━━━━━━━━\u001b[0m\u001b[37m\u001b[0m \u001b[1m0s\u001b[0m 11ms/step - acc: 0.9627 - loss: 0.1143 - val_acc: 0.9367 - val_loss: 0.2392\n",
            "Epoch 19/50\n",
            "\u001b[1m20/20\u001b[0m \u001b[32m━━━━━━━━━━━━━━━━━━━━\u001b[0m\u001b[37m\u001b[0m \u001b[1m0s\u001b[0m 8ms/step - acc: 0.9718 - loss: 0.0939 - val_acc: 0.9367 - val_loss: 0.2462\n",
            "Epoch 20/50\n",
            "\u001b[1m20/20\u001b[0m \u001b[32m━━━━━━━━━━━━━━━━━━━━\u001b[0m\u001b[37m\u001b[0m \u001b[1m0s\u001b[0m 7ms/step - acc: 0.9743 - loss: 0.0812 - val_acc: 0.9367 - val_loss: 0.2383\n",
            "Epoch 21/50\n",
            "\u001b[1m20/20\u001b[0m \u001b[32m━━━━━━━━━━━━━━━━━━━━\u001b[0m\u001b[37m\u001b[0m \u001b[1m0s\u001b[0m 6ms/step - acc: 0.9723 - loss: 0.0851 - val_acc: 0.9367 - val_loss: 0.2320\n",
            "Epoch 22/50\n",
            "\u001b[1m20/20\u001b[0m \u001b[32m━━━━━━━━━━━━━━━━━━━━\u001b[0m\u001b[37m\u001b[0m \u001b[1m0s\u001b[0m 6ms/step - acc: 0.9758 - loss: 0.0755 - val_acc: 0.9367 - val_loss: 0.2454\n",
            "Epoch 23/50\n",
            "\u001b[1m20/20\u001b[0m \u001b[32m━━━━━━━━━━━━━━━━━━━━\u001b[0m\u001b[37m\u001b[0m \u001b[1m0s\u001b[0m 10ms/step - acc: 0.9659 - loss: 0.1010 - val_acc: 0.9367 - val_loss: 0.2482\n",
            "Epoch 24/50\n",
            "\u001b[1m20/20\u001b[0m \u001b[32m━━━━━━━━━━━━━━━━━━━━\u001b[0m\u001b[37m\u001b[0m \u001b[1m0s\u001b[0m 6ms/step - acc: 0.9618 - loss: 0.0994 - val_acc: 0.9367 - val_loss: 0.2521\n",
            "Epoch 25/50\n",
            "\u001b[1m20/20\u001b[0m \u001b[32m━━━━━━━━━━━━━━━━━━━━\u001b[0m\u001b[37m\u001b[0m \u001b[1m0s\u001b[0m 7ms/step - acc: 0.9755 - loss: 0.0824 - val_acc: 0.9367 - val_loss: 0.2504\n",
            "Epoch 26/50\n",
            "\u001b[1m20/20\u001b[0m \u001b[32m━━━━━━━━━━━━━━━━━━━━\u001b[0m\u001b[37m\u001b[0m \u001b[1m0s\u001b[0m 6ms/step - acc: 0.9696 - loss: 0.0797 - val_acc: 0.9367 - val_loss: 0.2645\n",
            "Epoch 27/50\n",
            "\u001b[1m20/20\u001b[0m \u001b[32m━━━━━━━━━━━━━━━━━━━━\u001b[0m\u001b[37m\u001b[0m \u001b[1m0s\u001b[0m 6ms/step - acc: 0.9689 - loss: 0.0856 - val_acc: 0.9367 - val_loss: 0.2586\n",
            "Epoch 28/50\n",
            "\u001b[1m20/20\u001b[0m \u001b[32m━━━━━━━━━━━━━━━━━━━━\u001b[0m\u001b[37m\u001b[0m \u001b[1m0s\u001b[0m 6ms/step - acc: 0.9654 - loss: 0.0847 - val_acc: 0.9367 - val_loss: 0.2671\n",
            "Epoch 29/50\n",
            "\u001b[1m20/20\u001b[0m \u001b[32m━━━━━━━━━━━━━━━━━━━━\u001b[0m\u001b[37m\u001b[0m \u001b[1m0s\u001b[0m 13ms/step - acc: 0.9686 - loss: 0.0794 - val_acc: 0.9367 - val_loss: 0.2755\n",
            "Epoch 30/50\n",
            "\u001b[1m20/20\u001b[0m \u001b[32m━━━━━━━━━━━━━━━━━━━━\u001b[0m\u001b[37m\u001b[0m \u001b[1m0s\u001b[0m 6ms/step - acc: 0.9724 - loss: 0.0689 - val_acc: 0.9367 - val_loss: 0.2752\n",
            "Epoch 31/50\n",
            "\u001b[1m20/20\u001b[0m \u001b[32m━━━━━━━━━━━━━━━━━━━━\u001b[0m\u001b[37m\u001b[0m \u001b[1m0s\u001b[0m 6ms/step - acc: 0.9758 - loss: 0.0671 - val_acc: 0.9367 - val_loss: 0.2834\n",
            "Epoch 32/50\n",
            "\u001b[1m20/20\u001b[0m \u001b[32m━━━━━━━━━━━━━━━━━━━━\u001b[0m\u001b[37m\u001b[0m \u001b[1m0s\u001b[0m 6ms/step - acc: 0.9661 - loss: 0.0844 - val_acc: 0.9367 - val_loss: 0.2923\n",
            "Epoch 33/50\n",
            "\u001b[1m20/20\u001b[0m \u001b[32m━━━━━━━━━━━━━━━━━━━━\u001b[0m\u001b[37m\u001b[0m \u001b[1m0s\u001b[0m 11ms/step - acc: 0.9695 - loss: 0.0748 - val_acc: 0.9367 - val_loss: 0.3017\n",
            "Epoch 34/50\n",
            "\u001b[1m20/20\u001b[0m \u001b[32m━━━━━━━━━━━━━━━━━━━━\u001b[0m\u001b[37m\u001b[0m \u001b[1m0s\u001b[0m 6ms/step - acc: 0.9731 - loss: 0.0655 - val_acc: 0.9304 - val_loss: 0.2722\n",
            "Epoch 35/50\n",
            "\u001b[1m20/20\u001b[0m \u001b[32m━━━━━━━━━━━━━━━━━━━━\u001b[0m\u001b[37m\u001b[0m \u001b[1m0s\u001b[0m 6ms/step - acc: 0.9750 - loss: 0.0750 - val_acc: 0.9367 - val_loss: 0.2758\n",
            "Epoch 36/50\n",
            "\u001b[1m20/20\u001b[0m \u001b[32m━━━━━━━━━━━━━━━━━━━━\u001b[0m\u001b[37m\u001b[0m \u001b[1m0s\u001b[0m 6ms/step - acc: 0.9766 - loss: 0.0626 - val_acc: 0.9304 - val_loss: 0.2880\n",
            "Epoch 37/50\n",
            "\u001b[1m20/20\u001b[0m \u001b[32m━━━━━━━━━━━━━━━━━━━━\u001b[0m\u001b[37m\u001b[0m \u001b[1m0s\u001b[0m 6ms/step - acc: 0.9788 - loss: 0.0653 - val_acc: 0.9367 - val_loss: 0.3071\n",
            "Epoch 38/50\n",
            "\u001b[1m20/20\u001b[0m \u001b[32m━━━━━━━━━━━━━━━━━━━━\u001b[0m\u001b[37m\u001b[0m \u001b[1m0s\u001b[0m 6ms/step - acc: 0.9769 - loss: 0.0602 - val_acc: 0.9367 - val_loss: 0.2995\n",
            "Epoch 39/50\n",
            "\u001b[1m20/20\u001b[0m \u001b[32m━━━━━━━━━━━━━━━━━━━━\u001b[0m\u001b[37m\u001b[0m \u001b[1m0s\u001b[0m 6ms/step - acc: 0.9833 - loss: 0.0552 - val_acc: 0.9304 - val_loss: 0.3181\n",
            "Epoch 40/50\n",
            "\u001b[1m20/20\u001b[0m \u001b[32m━━━━━━━━━━━━━━━━━━━━\u001b[0m\u001b[37m\u001b[0m \u001b[1m1s\u001b[0m 30ms/step - acc: 0.9785 - loss: 0.0595 - val_acc: 0.9367 - val_loss: 0.3359\n",
            "Epoch 41/50\n",
            "\u001b[1m20/20\u001b[0m \u001b[32m━━━━━━━━━━━━━━━━━━━━\u001b[0m\u001b[37m\u001b[0m \u001b[1m0s\u001b[0m 6ms/step - acc: 0.9735 - loss: 0.0592 - val_acc: 0.9304 - val_loss: 0.3341\n",
            "Epoch 42/50\n",
            "\u001b[1m20/20\u001b[0m \u001b[32m━━━━━━━━━━━━━━━━━━━━\u001b[0m\u001b[37m\u001b[0m \u001b[1m0s\u001b[0m 6ms/step - acc: 0.9819 - loss: 0.0599 - val_acc: 0.9367 - val_loss: 0.3395\n",
            "Epoch 43/50\n",
            "\u001b[1m20/20\u001b[0m \u001b[32m━━━━━━━━━━━━━━━━━━━━\u001b[0m\u001b[37m\u001b[0m \u001b[1m0s\u001b[0m 11ms/step - acc: 0.9854 - loss: 0.0472 - val_acc: 0.9367 - val_loss: 0.3450\n",
            "Epoch 44/50\n",
            "\u001b[1m20/20\u001b[0m \u001b[32m━━━━━━━━━━━━━━━━━━━━\u001b[0m\u001b[37m\u001b[0m \u001b[1m0s\u001b[0m 17ms/step - acc: 0.9845 - loss: 0.0583 - val_acc: 0.9367 - val_loss: 0.3663\n",
            "Epoch 45/50\n",
            "\u001b[1m20/20\u001b[0m \u001b[32m━━━━━━━━━━━━━━━━━━━━\u001b[0m\u001b[37m\u001b[0m \u001b[1m1s\u001b[0m 29ms/step - acc: 0.9647 - loss: 0.0809 - val_acc: 0.9367 - val_loss: 0.3805\n",
            "Epoch 46/50\n",
            "\u001b[1m20/20\u001b[0m \u001b[32m━━━━━━━━━━━━━━━━━━━━\u001b[0m\u001b[37m\u001b[0m \u001b[1m0s\u001b[0m 17ms/step - acc: 0.9795 - loss: 0.0555 - val_acc: 0.9304 - val_loss: 0.3715\n",
            "Epoch 47/50\n",
            "\u001b[1m20/20\u001b[0m \u001b[32m━━━━━━━━━━━━━━━━━━━━\u001b[0m\u001b[37m\u001b[0m \u001b[1m1s\u001b[0m 12ms/step - acc: 0.9810 - loss: 0.0586 - val_acc: 0.9367 - val_loss: 0.3662\n",
            "Epoch 48/50\n",
            "\u001b[1m20/20\u001b[0m \u001b[32m━━━━━━━━━━━━━━━━━━━━\u001b[0m\u001b[37m\u001b[0m \u001b[1m1s\u001b[0m 21ms/step - acc: 0.9787 - loss: 0.0605 - val_acc: 0.9367 - val_loss: 0.3576\n",
            "Epoch 49/50\n",
            "\u001b[1m20/20\u001b[0m \u001b[32m━━━━━━━━━━━━━━━━━━━━\u001b[0m\u001b[37m\u001b[0m \u001b[1m1s\u001b[0m 21ms/step - acc: 0.9851 - loss: 0.0480 - val_acc: 0.9304 - val_loss: 0.3848\n",
            "Epoch 50/50\n",
            "\u001b[1m20/20\u001b[0m \u001b[32m━━━━━━━━━━━━━━━━━━━━\u001b[0m\u001b[37m\u001b[0m \u001b[1m1s\u001b[0m 18ms/step - acc: 0.9864 - loss: 0.0553 - val_acc: 0.9304 - val_loss: 0.3905\n"
          ]
        }
      ]
    },
    {
      "cell_type": "markdown",
      "source": [
        "Overfiiting"
      ],
      "metadata": {
        "id": "W1hDjEbBhYBU"
      }
    },
    {
      "cell_type": "code",
      "source": [
        "def plot_graphs(history,string):\n",
        "    plt.plot(history.history[string])\n",
        "    plt.plot(history.history['val_'+string])\n",
        "    plt.xlabel(\"Epochs\")\n",
        "    plt.ylabel(string)\n",
        "    plt.legend([string, 'val_'+string])\n",
        "    plt.show()\n",
        "\n",
        "plot_graphs(history, \"acc\")\n",
        "plot_graphs(history, \"loss\")"
      ],
      "metadata": {
        "colab": {
          "base_uri": "https://localhost:8080/",
          "height": 884
        },
        "id": "-qe0HwtBi26_",
        "outputId": "ce3f33a3-e86c-4c69-9263-6dccfac1b634"
      },
      "execution_count": 43,
      "outputs": [
        {
          "output_type": "display_data",
          "data": {
            "text/plain": [
              "<Figure size 640x480 with 1 Axes>"
            ],
            "image/png": "[encoded data removed]"
          },
          "metadata": {}
        },
        {
          "output_type": "display_data",
          "data": {
            "text/plain": [
              "<Figure size 640x480 with 1 Axes>"
            ],
            "image/png": "[encoded data removed]"
          },
          "metadata": {}
        }
      ]
    },
    {
      "cell_type": "code",
      "source": [
        "y_pred_deep=Model.predict(X_test)"
      ],
      "metadata": {
        "colab": {
          "base_uri": "https://localhost:8080/"
        },
        "id": "5b8y3sE9jAt0",
        "outputId": "0d1ce32d-8e3b-47cf-8bef-0596c0475123"
      },
      "execution_count": 44,
      "outputs": [
        {
          "output_type": "stream",
          "name": "stdout",
          "text": [
            "\u001b[1m7/7\u001b[0m \u001b[32m━━━━━━━━━━━━━━━━━━━━\u001b[0m\u001b[37m\u001b[0m \u001b[1m1s\u001b[0m 52ms/step\n"
          ]
        }
      ]
    },
    {
      "cell_type": "code",
      "source": [
        "sns.heatmap(pd.DataFrame(confusion_matrix(y_test,y_pred_deep.round())) , annot=True)"
      ],
      "metadata": {
        "colab": {
          "base_uri": "https://localhost:8080/",
          "height": 453
        },
        "id": "YI3fn6JqjMuw",
        "outputId": "710ee495-f11a-41cb-da7c-00e5a420345b"
      },
      "execution_count": 45,
      "outputs": [
        {
          "output_type": "execute_result",
          "data": {
            "text/plain": [
              "<Axes: >"
            ]
          },
          "metadata": {},
          "execution_count": 45
        },
        {
          "output_type": "display_data",
          "data": {
            "text/plain": [
              "<Figure size 640x480 with 2 Axes>"
            ],
            "image/png": "[encoded data removed]"
          },
          "metadata": {}
        }
      ]
    },
    {
      "cell_type": "code",
      "source": [
        "print(classification_report(y_test, y_pred_deep.round()))"
      ],
      "metadata": {
        "colab": {
          "base_uri": "https://localhost:8080/"
        },
        "id": "lb_pyQ92jO-E",
        "outputId": "ba142091-7209-4aea-d5f9-f483d6f93225"
      },
      "execution_count": 46,
      "outputs": [
        {
          "output_type": "stream",
          "name": "stdout",
          "text": [
            "              precision    recall  f1-score   support\n",
            "\n",
            "           0       0.86      1.00      0.93       100\n",
            "           1       1.00      0.84      0.91        97\n",
            "\n",
            "    accuracy                           0.92       197\n",
            "   macro avg       0.93      0.92      0.92       197\n",
            "weighted avg       0.93      0.92      0.92       197\n",
            "\n"
          ]
        }
      ]
    },
    {
      "cell_type": "code",
      "source": [
        "from tensorflow.keras import layers, models, regularizers, callbacks\n",
        "model = models.Sequential([\n",
        "    layers.Input(shape=(X_train.shape[1],)),\n",
        "\n",
        "    layers.Dense(32, activation='relu', kernel_regularizer=regularizers.l2(0.001)),\n",
        "    layers.BatchNormalization(),\n",
        "    layers.Dropout(0.4),\n",
        "\n",
        "    layers.Dense(16, activation='relu', kernel_regularizer=regularizers.l2(0.001)),\n",
        "    layers.BatchNormalization(),\n",
        "    layers.Dropout(0.3),\n",
        "\n",
        "    layers.Dense(1, activation='sigmoid')\n",
        "])"
      ],
      "metadata": {
        "id": "iYtCX1h9lE_d"
      },
      "execution_count": 47,
      "outputs": []
    },
    {
      "cell_type": "code",
      "source": [
        "model.compile(\n",
        "    optimizer='adam',\n",
        "    loss='binary_crossentropy',\n",
        "    metrics=['accuracy']\n",
        ")\n",
        "\n",
        "early_stop = callbacks.EarlyStopping(\n",
        "    monitor='val_loss',\n",
        "    patience=10,\n",
        "    restore_best_weights=True\n",
        ")"
      ],
      "metadata": {
        "id": "Mh3TU179lWlq"
      },
      "execution_count": 48,
      "outputs": []
    },
    {
      "cell_type": "code",
      "source": [
        "history = model.fit(\n",
        "    X_train, y_train,\n",
        "    validation_split=0.2,\n",
        "    epochs=50,\n",
        "    batch_size=32,\n",
        "    callbacks=[early_stop],\n",
        "    verbose=1\n",
        ")"
      ],
      "metadata": {
        "colab": {
          "base_uri": "https://localhost:8080/",
          "height": 869
        },
        "id": "qgQs3-smlw6W",
        "outputId": "00213999-a8dd-4f7e-a997-3fa1f4bca7b7"
      },
      "execution_count": 49,
      "outputs": [
        {
          "output_type": "stream",
          "name": "stdout",
          "text": [
            "Epoch 1/50\n",
            "\u001b[1m20/20\u001b[0m \u001b[32m━━━━━━━━━━━━━━━━━━━━\u001b[0m\u001b[37m\u001b[0m \u001b[1m6s\u001b[0m 48ms/step - accuracy: 0.5984 - loss: 0.8242 - val_accuracy: 0.8544 - val_loss: 0.6620\n",
            "Epoch 2/50\n",
            "\u001b[1m20/20\u001b[0m \u001b[32m━━━━━━━━━━━━━━━━━━━━\u001b[0m\u001b[37m\u001b[0m \u001b[1m1s\u001b[0m 18ms/step - accuracy: 0.7502 - loss: 0.5803 - val_accuracy: 0.9304 - val_loss: 0.6083\n",
            "Epoch 3/50\n",
            "\u001b[1m20/20\u001b[0m \u001b[32m━━━━━━━━━━━━━━━━━━━━\u001b[0m\u001b[37m\u001b[0m \u001b[1m0s\u001b[0m 23ms/step - accuracy: 0.7990 - loss: 0.5617 - val_accuracy: 0.9367 - val_loss: 0.5606\n",
            "Epoch 4/50\n",
            "\u001b[1m20/20\u001b[0m \u001b[32m━━━━━━━━━━━━━━━━━━━━\u001b[0m\u001b[37m\u001b[0m \u001b[1m0s\u001b[0m 17ms/step - accuracy: 0.8456 - loss: 0.4369 - val_accuracy: 0.9430 - val_loss: 0.5116\n",
            "Epoch 5/50\n",
            "\u001b[1m20/20\u001b[0m \u001b[32m━━━━━━━━━━━━━━━━━━━━\u001b[0m\u001b[37m\u001b[0m \u001b[1m1s\u001b[0m 24ms/step - accuracy: 0.9022 - loss: 0.3740 - val_accuracy: 0.9430 - val_loss: 0.4677\n",
            "Epoch 6/50\n",
            "\u001b[1m20/20\u001b[0m \u001b[32m━━━━━━━━━━━━━━━━━━━━\u001b[0m\u001b[37m\u001b[0m \u001b[1m0s\u001b[0m 13ms/step - accuracy: 0.9034 - loss: 0.3503 - val_accuracy: 0.9430 - val_loss: 0.4305\n",
            "Epoch 7/50\n",
            "\u001b[1m20/20\u001b[0m \u001b[32m━━━━━━━━━━━━━━━━━━━━\u001b[0m\u001b[37m\u001b[0m \u001b[1m0s\u001b[0m 12ms/step - accuracy: 0.8866 - loss: 0.3762 - val_accuracy: 0.9430 - val_loss: 0.3979\n",
            "Epoch 8/50\n",
            "\u001b[1m20/20\u001b[0m \u001b[32m━━━━━━━━━━━━━━━━━━━━\u001b[0m\u001b[37m\u001b[0m \u001b[1m0s\u001b[0m 15ms/step - accuracy: 0.9072 - loss: 0.3128 - val_accuracy: 0.9430 - val_loss: 0.3705\n",
            "Epoch 9/50\n",
            "\u001b[1m20/20\u001b[0m \u001b[32m━━━━━━━━━━━━━━━━━━━━\u001b[0m\u001b[37m\u001b[0m \u001b[1m0s\u001b[0m 16ms/step - accuracy: 0.9126 - loss: 0.3097 - val_accuracy: 0.9367 - val_loss: 0.3464\n",
            "Epoch 10/50\n",
            "\u001b[1m20/20\u001b[0m \u001b[32m━━━━━━━━━━━━━━━━━━━━\u001b[0m\u001b[37m\u001b[0m \u001b[1m1s\u001b[0m 18ms/step - accuracy: 0.9185 - loss: 0.3193 - val_accuracy: 0.9430 - val_loss: 0.3262\n",
            "Epoch 11/50\n",
            "\u001b[1m20/20\u001b[0m \u001b[32m━━━━━━━━━━━━━━━━━━━━\u001b[0m\u001b[37m\u001b[0m \u001b[1m0s\u001b[0m 8ms/step - accuracy: 0.9169 - loss: 0.2873 - val_accuracy: 0.9430 - val_loss: 0.3094\n",
            "Epoch 12/50\n",
            "\u001b[1m20/20\u001b[0m \u001b[32m━━━━━━━━━━━━━━━━━━━━\u001b[0m\u001b[37m\u001b[0m \u001b[1m0s\u001b[0m 11ms/step - accuracy: 0.9336 - loss: 0.2553 - val_accuracy: 0.9430 - val_loss: 0.2983\n",
            "Epoch 13/50\n",
            "\u001b[1m20/20\u001b[0m \u001b[32m━━━━━━━━━━━━━━━━━━━━\u001b[0m\u001b[37m\u001b[0m \u001b[1m0s\u001b[0m 11ms/step - accuracy: 0.9358 - loss: 0.2476 - val_accuracy: 0.9430 - val_loss: 0.2863\n",
            "Epoch 14/50\n"
          ]
        },
        {
          "output_type": "error",
          "ename": "KeyboardInterrupt",
          "evalue": "",
          "traceback": [
            "\u001b[0;31m---------------------------------------------------------------------------\u001b[0m",
            "\u001b[0;31mKeyboardInterrupt\u001b[0m                         Traceback (most recent call last)",
            "\u001b[0;32m/tmp/ipython-input-49-2541799464.py\u001b[0m in \u001b[0;36m<cell line: 0>\u001b[0;34m()\u001b[0m\n\u001b[0;32m----> 1\u001b[0;31m history = model.fit(\n\u001b[0m\u001b[1;32m      2\u001b[0m     \u001b[0mX_train\u001b[0m\u001b[0;34m,\u001b[0m \u001b[0my_train\u001b[0m\u001b[0;34m,\u001b[0m\u001b[0;34m\u001b[0m\u001b[0;34m\u001b[0m\u001b[0m\n\u001b[1;32m      3\u001b[0m     \u001b[0mvalidation_split\u001b[0m\u001b[0;34m=\u001b[0m\u001b[0;36m0.2\u001b[0m\u001b[0;34m,\u001b[0m\u001b[0;34m\u001b[0m\u001b[0;34m\u001b[0m\u001b[0m\n\u001b[1;32m      4\u001b[0m     \u001b[0mepochs\u001b[0m\u001b[0;34m=\u001b[0m\u001b[0;36m50\u001b[0m\u001b[0;34m,\u001b[0m\u001b[0;34m\u001b[0m\u001b[0;34m\u001b[0m\u001b[0m\n\u001b[1;32m      5\u001b[0m     \u001b[0mbatch_size\u001b[0m\u001b[0;34m=\u001b[0m\u001b[0;36m32\u001b[0m\u001b[0;34m,\u001b[0m\u001b[0;34m\u001b[0m\u001b[0;34m\u001b[0m\u001b[0m\n",
            "\u001b[0;32m/usr/local/lib/python3.11/dist-packages/keras/src/utils/traceback_utils.py\u001b[0m in \u001b[0;36merror_handler\u001b[0;34m(*args, **kwargs)\u001b[0m\n\u001b[1;32m    115\u001b[0m         \u001b[0mfiltered_tb\u001b[0m \u001b[0;34m=\u001b[0m \u001b[0;32mNone\u001b[0m\u001b[0;34m\u001b[0m\u001b[0;34m\u001b[0m\u001b[0m\n\u001b[1;32m    116\u001b[0m         \u001b[0;32mtry\u001b[0m\u001b[0;34m:\u001b[0m\u001b[0;34m\u001b[0m\u001b[0;34m\u001b[0m\u001b[0m\n\u001b[0;32m--> 117\u001b[0;31m             \u001b[0;32mreturn\u001b[0m \u001b[0mfn\u001b[0m\u001b[0;34m(\u001b[0m\u001b[0;34m*\u001b[0m\u001b[0margs\u001b[0m\u001b[0;34m,\u001b[0m \u001b[0;34m**\u001b[0m\u001b[0mkwargs\u001b[0m\u001b[0;34m)\u001b[0m\u001b[0;34m\u001b[0m\u001b[0;34m\u001b[0m\u001b[0m\n\u001b[0m\u001b[1;32m    118\u001b[0m         \u001b[0;32mexcept\u001b[0m \u001b[0mException\u001b[0m \u001b[0;32mas\u001b[0m \u001b[0me\u001b[0m\u001b[0;34m:\u001b[0m\u001b[0;34m\u001b[0m\u001b[0;34m\u001b[0m\u001b[0m\n\u001b[1;32m    119\u001b[0m             \u001b[0mfiltered_tb\u001b[0m \u001b[0;34m=\u001b[0m \u001b[0m_process_traceback_frames\u001b[0m\u001b[0;34m(\u001b[0m\u001b[0me\u001b[0m\u001b[0;34m.\u001b[0m\u001b[0m__traceback__\u001b[0m\u001b[0;34m)\u001b[0m\u001b[0;34m\u001b[0m\u001b[0;34m\u001b[0m\u001b[0m\n",
            "\u001b[0;32m/usr/local/lib/python3.11/dist-packages/keras/src/backend/tensorflow/trainer.py\u001b[0m in \u001b[0;36mfit\u001b[0;34m(self, x, y, batch_size, epochs, verbose, callbacks, validation_split, validation_data, shuffle, class_weight, sample_weight, initial_epoch, steps_per_epoch, validation_steps, validation_batch_size, validation_freq)\u001b[0m\n\u001b[1;32m    369\u001b[0m                 \u001b[0;32mfor\u001b[0m \u001b[0mstep\u001b[0m\u001b[0;34m,\u001b[0m \u001b[0miterator\u001b[0m \u001b[0;32min\u001b[0m \u001b[0mepoch_iterator\u001b[0m\u001b[0;34m:\u001b[0m\u001b[0;34m\u001b[0m\u001b[0;34m\u001b[0m\u001b[0m\n\u001b[1;32m    370\u001b[0m                     \u001b[0mcallbacks\u001b[0m\u001b[0;34m.\u001b[0m\u001b[0mon_train_batch_begin\u001b[0m\u001b[0;34m(\u001b[0m\u001b[0mstep\u001b[0m\u001b[0;34m)\u001b[0m\u001b[0;34m\u001b[0m\u001b[0;34m\u001b[0m\u001b[0m\n\u001b[0;32m--> 371\u001b[0;31m                     \u001b[0mlogs\u001b[0m \u001b[0;34m=\u001b[0m \u001b[0mself\u001b[0m\u001b[0;34m.\u001b[0m\u001b[0mtrain_function\u001b[0m\u001b[0;34m(\u001b[0m\u001b[0miterator\u001b[0m\u001b[0;34m)\u001b[0m\u001b[0;34m\u001b[0m\u001b[0;34m\u001b[0m\u001b[0m\n\u001b[0m\u001b[1;32m    372\u001b[0m                     \u001b[0mcallbacks\u001b[0m\u001b[0;34m.\u001b[0m\u001b[0mon_train_batch_end\u001b[0m\u001b[0;34m(\u001b[0m\u001b[0mstep\u001b[0m\u001b[0;34m,\u001b[0m \u001b[0mlogs\u001b[0m\u001b[0;34m)\u001b[0m\u001b[0;34m\u001b[0m\u001b[0;34m\u001b[0m\u001b[0m\n\u001b[1;32m    373\u001b[0m                     \u001b[0;32mif\u001b[0m \u001b[0mself\u001b[0m\u001b[0;34m.\u001b[0m\u001b[0mstop_training\u001b[0m\u001b[0;34m:\u001b[0m\u001b[0;34m\u001b[0m\u001b[0;34m\u001b[0m\u001b[0m\n",
            "\u001b[0;32m/usr/local/lib/python3.11/dist-packages/keras/src/backend/tensorflow/trainer.py\u001b[0m in \u001b[0;36mfunction\u001b[0;34m(iterator)\u001b[0m\n\u001b[1;32m    217\u001b[0m                 \u001b[0miterator\u001b[0m\u001b[0;34m,\u001b[0m \u001b[0;34m(\u001b[0m\u001b[0mtf\u001b[0m\u001b[0;34m.\u001b[0m\u001b[0mdata\u001b[0m\u001b[0;34m.\u001b[0m\u001b[0mIterator\u001b[0m\u001b[0;34m,\u001b[0m \u001b[0mtf\u001b[0m\u001b[0;34m.\u001b[0m\u001b[0mdistribute\u001b[0m\u001b[0;34m.\u001b[0m\u001b[0mDistributedIterator\u001b[0m\u001b[0;34m)\u001b[0m\u001b[0;34m\u001b[0m\u001b[0;34m\u001b[0m\u001b[0m\n\u001b[1;32m    218\u001b[0m             ):\n\u001b[0;32m--> 219\u001b[0;31m                 \u001b[0mopt_outputs\u001b[0m \u001b[0;34m=\u001b[0m \u001b[0mmulti_step_on_iterator\u001b[0m\u001b[0;34m(\u001b[0m\u001b[0miterator\u001b[0m\u001b[0;34m)\u001b[0m\u001b[0;34m\u001b[0m\u001b[0;34m\u001b[0m\u001b[0m\n\u001b[0m\u001b[1;32m    220\u001b[0m                 \u001b[0;32mif\u001b[0m \u001b[0;32mnot\u001b[0m \u001b[0mopt_outputs\u001b[0m\u001b[0;34m.\u001b[0m\u001b[0mhas_value\u001b[0m\u001b[0;34m(\u001b[0m\u001b[0;34m)\u001b[0m\u001b[0;34m:\u001b[0m\u001b[0;34m\u001b[0m\u001b[0;34m\u001b[0m\u001b[0m\n\u001b[1;32m    221\u001b[0m                     \u001b[0;32mraise\u001b[0m \u001b[0mStopIteration\u001b[0m\u001b[0;34m\u001b[0m\u001b[0;34m\u001b[0m\u001b[0m\n",
            "\u001b[0;32m/usr/local/lib/python3.11/dist-packages/tensorflow/python/util/traceback_utils.py\u001b[0m in \u001b[0;36merror_handler\u001b[0;34m(*args, **kwargs)\u001b[0m\n\u001b[1;32m    148\u001b[0m     \u001b[0mfiltered_tb\u001b[0m \u001b[0;34m=\u001b[0m \u001b[0;32mNone\u001b[0m\u001b[0;34m\u001b[0m\u001b[0;34m\u001b[0m\u001b[0m\n\u001b[1;32m    149\u001b[0m     \u001b[0;32mtry\u001b[0m\u001b[0;34m:\u001b[0m\u001b[0;34m\u001b[0m\u001b[0;34m\u001b[0m\u001b[0m\n\u001b[0;32m--> 150\u001b[0;31m       \u001b[0;32mreturn\u001b[0m \u001b[0mfn\u001b[0m\u001b[0;34m(\u001b[0m\u001b[0;34m*\u001b[0m\u001b[0margs\u001b[0m\u001b[0;34m,\u001b[0m \u001b[0;34m**\u001b[0m\u001b[0mkwargs\u001b[0m\u001b[0;34m)\u001b[0m\u001b[0;34m\u001b[0m\u001b[0;34m\u001b[0m\u001b[0m\n\u001b[0m\u001b[1;32m    151\u001b[0m     \u001b[0;32mexcept\u001b[0m \u001b[0mException\u001b[0m \u001b[0;32mas\u001b[0m \u001b[0me\u001b[0m\u001b[0;34m:\u001b[0m\u001b[0;34m\u001b[0m\u001b[0;34m\u001b[0m\u001b[0m\n\u001b[1;32m    152\u001b[0m       \u001b[0mfiltered_tb\u001b[0m \u001b[0;34m=\u001b[0m \u001b[0m_process_traceback_frames\u001b[0m\u001b[0;34m(\u001b[0m\u001b[0me\u001b[0m\u001b[0;34m.\u001b[0m\u001b[0m__traceback__\u001b[0m\u001b[0;34m)\u001b[0m\u001b[0;34m\u001b[0m\u001b[0;34m\u001b[0m\u001b[0m\n",
            "\u001b[0;32m/usr/local/lib/python3.11/dist-packages/tensorflow/python/eager/polymorphic_function/polymorphic_function.py\u001b[0m in \u001b[0;36m__call__\u001b[0;34m(self, *args, **kwds)\u001b[0m\n\u001b[1;32m    831\u001b[0m \u001b[0;34m\u001b[0m\u001b[0m\n\u001b[1;32m    832\u001b[0m       \u001b[0;32mwith\u001b[0m \u001b[0mOptionalXlaContext\u001b[0m\u001b[0;34m(\u001b[0m\u001b[0mself\u001b[0m\u001b[0;34m.\u001b[0m\u001b[0m_jit_compile\u001b[0m\u001b[0;34m)\u001b[0m\u001b[0;34m:\u001b[0m\u001b[0;34m\u001b[0m\u001b[0;34m\u001b[0m\u001b[0m\n\u001b[0;32m--> 833\u001b[0;31m         \u001b[0mresult\u001b[0m \u001b[0;34m=\u001b[0m \u001b[0mself\u001b[0m\u001b[0;34m.\u001b[0m\u001b[0m_call\u001b[0m\u001b[0;34m(\u001b[0m\u001b[0;34m*\u001b[0m\u001b[0margs\u001b[0m\u001b[0;34m,\u001b[0m \u001b[0;34m**\u001b[0m\u001b[0mkwds\u001b[0m\u001b[0;34m)\u001b[0m\u001b[0;34m\u001b[0m\u001b[0;34m\u001b[0m\u001b[0m\n\u001b[0m\u001b[1;32m    834\u001b[0m \u001b[0;34m\u001b[0m\u001b[0m\n\u001b[1;32m    835\u001b[0m       \u001b[0mnew_tracing_count\u001b[0m \u001b[0;34m=\u001b[0m \u001b[0mself\u001b[0m\u001b[0;34m.\u001b[0m\u001b[0mexperimental_get_tracing_count\u001b[0m\u001b[0;34m(\u001b[0m\u001b[0;34m)\u001b[0m\u001b[0;34m\u001b[0m\u001b[0;34m\u001b[0m\u001b[0m\n",
            "\u001b[0;32m/usr/local/lib/python3.11/dist-packages/tensorflow/python/eager/polymorphic_function/polymorphic_function.py\u001b[0m in \u001b[0;36m_call\u001b[0;34m(self, *args, **kwds)\u001b[0m\n\u001b[1;32m    876\u001b[0m       \u001b[0;31m# In this case we have not created variables on the first call. So we can\u001b[0m\u001b[0;34m\u001b[0m\u001b[0;34m\u001b[0m\u001b[0m\n\u001b[1;32m    877\u001b[0m       \u001b[0;31m# run the first trace but we should fail if variables are created.\u001b[0m\u001b[0;34m\u001b[0m\u001b[0;34m\u001b[0m\u001b[0m\n\u001b[0;32m--> 878\u001b[0;31m       results = tracing_compilation.call_function(\n\u001b[0m\u001b[1;32m    879\u001b[0m           \u001b[0margs\u001b[0m\u001b[0;34m,\u001b[0m \u001b[0mkwds\u001b[0m\u001b[0;34m,\u001b[0m \u001b[0mself\u001b[0m\u001b[0;34m.\u001b[0m\u001b[0m_variable_creation_config\u001b[0m\u001b[0;34m\u001b[0m\u001b[0;34m\u001b[0m\u001b[0m\n\u001b[1;32m    880\u001b[0m       )\n",
            "\u001b[0;32m/usr/local/lib/python3.11/dist-packages/tensorflow/python/eager/polymorphic_function/tracing_compilation.py\u001b[0m in \u001b[0;36mcall_function\u001b[0;34m(args, kwargs, tracing_options)\u001b[0m\n\u001b[1;32m    137\u001b[0m   \u001b[0mbound_args\u001b[0m \u001b[0;34m=\u001b[0m \u001b[0mfunction\u001b[0m\u001b[0;34m.\u001b[0m\u001b[0mfunction_type\u001b[0m\u001b[0;34m.\u001b[0m\u001b[0mbind\u001b[0m\u001b[0;34m(\u001b[0m\u001b[0;34m*\u001b[0m\u001b[0margs\u001b[0m\u001b[0;34m,\u001b[0m \u001b[0;34m**\u001b[0m\u001b[0mkwargs\u001b[0m\u001b[0;34m)\u001b[0m\u001b[0;34m\u001b[0m\u001b[0;34m\u001b[0m\u001b[0m\n\u001b[1;32m    138\u001b[0m   \u001b[0mflat_inputs\u001b[0m \u001b[0;34m=\u001b[0m \u001b[0mfunction\u001b[0m\u001b[0;34m.\u001b[0m\u001b[0mfunction_type\u001b[0m\u001b[0;34m.\u001b[0m\u001b[0munpack_inputs\u001b[0m\u001b[0;34m(\u001b[0m\u001b[0mbound_args\u001b[0m\u001b[0;34m)\u001b[0m\u001b[0;34m\u001b[0m\u001b[0;34m\u001b[0m\u001b[0m\n\u001b[0;32m--> 139\u001b[0;31m   return function._call_flat(  # pylint: disable=protected-access\n\u001b[0m\u001b[1;32m    140\u001b[0m       \u001b[0mflat_inputs\u001b[0m\u001b[0;34m,\u001b[0m \u001b[0mcaptured_inputs\u001b[0m\u001b[0;34m=\u001b[0m\u001b[0mfunction\u001b[0m\u001b[0;34m.\u001b[0m\u001b[0mcaptured_inputs\u001b[0m\u001b[0;34m\u001b[0m\u001b[0;34m\u001b[0m\u001b[0m\n\u001b[1;32m    141\u001b[0m   )\n",
            "\u001b[0;32m/usr/local/lib/python3.11/dist-packages/tensorflow/python/eager/polymorphic_function/concrete_function.py\u001b[0m in \u001b[0;36m_call_flat\u001b[0;34m(self, tensor_inputs, captured_inputs)\u001b[0m\n\u001b[1;32m   1320\u001b[0m         and executing_eagerly):\n\u001b[1;32m   1321\u001b[0m       \u001b[0;31m# No tape is watching; skip to running the function.\u001b[0m\u001b[0;34m\u001b[0m\u001b[0;34m\u001b[0m\u001b[0m\n\u001b[0;32m-> 1322\u001b[0;31m       \u001b[0;32mreturn\u001b[0m \u001b[0mself\u001b[0m\u001b[0;34m.\u001b[0m\u001b[0m_inference_function\u001b[0m\u001b[0;34m.\u001b[0m\u001b[0mcall_preflattened\u001b[0m\u001b[0;34m(\u001b[0m\u001b[0margs\u001b[0m\u001b[0;34m)\u001b[0m\u001b[0;34m\u001b[0m\u001b[0;34m\u001b[0m\u001b[0m\n\u001b[0m\u001b[1;32m   1323\u001b[0m     forward_backward = self._select_forward_and_backward_functions(\n\u001b[1;32m   1324\u001b[0m         \u001b[0margs\u001b[0m\u001b[0;34m,\u001b[0m\u001b[0;34m\u001b[0m\u001b[0;34m\u001b[0m\u001b[0m\n",
            "\u001b[0;32m/usr/local/lib/python3.11/dist-packages/tensorflow/python/eager/polymorphic_function/atomic_function.py\u001b[0m in \u001b[0;36mcall_preflattened\u001b[0;34m(self, args)\u001b[0m\n\u001b[1;32m    214\u001b[0m   \u001b[0;32mdef\u001b[0m \u001b[0mcall_preflattened\u001b[0m\u001b[0;34m(\u001b[0m\u001b[0mself\u001b[0m\u001b[0;34m,\u001b[0m \u001b[0margs\u001b[0m\u001b[0;34m:\u001b[0m \u001b[0mSequence\u001b[0m\u001b[0;34m[\u001b[0m\u001b[0mcore\u001b[0m\u001b[0;34m.\u001b[0m\u001b[0mTensor\u001b[0m\u001b[0;34m]\u001b[0m\u001b[0;34m)\u001b[0m \u001b[0;34m->\u001b[0m \u001b[0mAny\u001b[0m\u001b[0;34m:\u001b[0m\u001b[0;34m\u001b[0m\u001b[0;34m\u001b[0m\u001b[0m\n\u001b[1;32m    215\u001b[0m     \u001b[0;34m\"\"\"Calls with flattened tensor inputs and returns the structured output.\"\"\"\u001b[0m\u001b[0;34m\u001b[0m\u001b[0;34m\u001b[0m\u001b[0m\n\u001b[0;32m--> 216\u001b[0;31m     \u001b[0mflat_outputs\u001b[0m \u001b[0;34m=\u001b[0m \u001b[0mself\u001b[0m\u001b[0;34m.\u001b[0m\u001b[0mcall_flat\u001b[0m\u001b[0;34m(\u001b[0m\u001b[0;34m*\u001b[0m\u001b[0margs\u001b[0m\u001b[0;34m)\u001b[0m\u001b[0;34m\u001b[0m\u001b[0;34m\u001b[0m\u001b[0m\n\u001b[0m\u001b[1;32m    217\u001b[0m     \u001b[0;32mreturn\u001b[0m \u001b[0mself\u001b[0m\u001b[0;34m.\u001b[0m\u001b[0mfunction_type\u001b[0m\u001b[0;34m.\u001b[0m\u001b[0mpack_output\u001b[0m\u001b[0;34m(\u001b[0m\u001b[0mflat_outputs\u001b[0m\u001b[0;34m)\u001b[0m\u001b[0;34m\u001b[0m\u001b[0;34m\u001b[0m\u001b[0m\n\u001b[1;32m    218\u001b[0m \u001b[0;34m\u001b[0m\u001b[0m\n",
            "\u001b[0;32m/usr/local/lib/python3.11/dist-packages/tensorflow/python/eager/polymorphic_function/atomic_function.py\u001b[0m in \u001b[0;36mcall_flat\u001b[0;34m(self, *args)\u001b[0m\n\u001b[1;32m    249\u001b[0m         \u001b[0;32mwith\u001b[0m \u001b[0mrecord\u001b[0m\u001b[0;34m.\u001b[0m\u001b[0mstop_recording\u001b[0m\u001b[0;34m(\u001b[0m\u001b[0;34m)\u001b[0m\u001b[0;34m:\u001b[0m\u001b[0;34m\u001b[0m\u001b[0;34m\u001b[0m\u001b[0m\n\u001b[1;32m    250\u001b[0m           \u001b[0;32mif\u001b[0m \u001b[0mself\u001b[0m\u001b[0;34m.\u001b[0m\u001b[0m_bound_context\u001b[0m\u001b[0;34m.\u001b[0m\u001b[0mexecuting_eagerly\u001b[0m\u001b[0;34m(\u001b[0m\u001b[0;34m)\u001b[0m\u001b[0;34m:\u001b[0m\u001b[0;34m\u001b[0m\u001b[0;34m\u001b[0m\u001b[0m\n\u001b[0;32m--> 251\u001b[0;31m             outputs = self._bound_context.call_function(\n\u001b[0m\u001b[1;32m    252\u001b[0m                 \u001b[0mself\u001b[0m\u001b[0;34m.\u001b[0m\u001b[0mname\u001b[0m\u001b[0;34m,\u001b[0m\u001b[0;34m\u001b[0m\u001b[0;34m\u001b[0m\u001b[0m\n\u001b[1;32m    253\u001b[0m                 \u001b[0mlist\u001b[0m\u001b[0;34m(\u001b[0m\u001b[0margs\u001b[0m\u001b[0;34m)\u001b[0m\u001b[0;34m,\u001b[0m\u001b[0;34m\u001b[0m\u001b[0;34m\u001b[0m\u001b[0m\n",
            "\u001b[0;32m/usr/local/lib/python3.11/dist-packages/tensorflow/python/eager/context.py\u001b[0m in \u001b[0;36mcall_function\u001b[0;34m(self, name, tensor_inputs, num_outputs)\u001b[0m\n\u001b[1;32m   1681\u001b[0m     \u001b[0mcancellation_context\u001b[0m \u001b[0;34m=\u001b[0m \u001b[0mcancellation\u001b[0m\u001b[0;34m.\u001b[0m\u001b[0mcontext\u001b[0m\u001b[0;34m(\u001b[0m\u001b[0;34m)\u001b[0m\u001b[0;34m\u001b[0m\u001b[0;34m\u001b[0m\u001b[0m\n\u001b[1;32m   1682\u001b[0m     \u001b[0;32mif\u001b[0m \u001b[0mcancellation_context\u001b[0m \u001b[0;32mis\u001b[0m \u001b[0;32mNone\u001b[0m\u001b[0;34m:\u001b[0m\u001b[0;34m\u001b[0m\u001b[0;34m\u001b[0m\u001b[0m\n\u001b[0;32m-> 1683\u001b[0;31m       outputs = execute.execute(\n\u001b[0m\u001b[1;32m   1684\u001b[0m           \u001b[0mname\u001b[0m\u001b[0;34m.\u001b[0m\u001b[0mdecode\u001b[0m\u001b[0;34m(\u001b[0m\u001b[0;34m\"utf-8\"\u001b[0m\u001b[0;34m)\u001b[0m\u001b[0;34m,\u001b[0m\u001b[0;34m\u001b[0m\u001b[0;34m\u001b[0m\u001b[0m\n\u001b[1;32m   1685\u001b[0m           \u001b[0mnum_outputs\u001b[0m\u001b[0;34m=\u001b[0m\u001b[0mnum_outputs\u001b[0m\u001b[0;34m,\u001b[0m\u001b[0;34m\u001b[0m\u001b[0;34m\u001b[0m\u001b[0m\n",
            "\u001b[0;32m/usr/local/lib/python3.11/dist-packages/tensorflow/python/eager/execute.py\u001b[0m in \u001b[0;36mquick_execute\u001b[0;34m(op_name, num_outputs, inputs, attrs, ctx, name)\u001b[0m\n\u001b[1;32m     51\u001b[0m   \u001b[0;32mtry\u001b[0m\u001b[0;34m:\u001b[0m\u001b[0;34m\u001b[0m\u001b[0;34m\u001b[0m\u001b[0m\n\u001b[1;32m     52\u001b[0m     \u001b[0mctx\u001b[0m\u001b[0;34m.\u001b[0m\u001b[0mensure_initialized\u001b[0m\u001b[0;34m(\u001b[0m\u001b[0;34m)\u001b[0m\u001b[0;34m\u001b[0m\u001b[0;34m\u001b[0m\u001b[0m\n\u001b[0;32m---> 53\u001b[0;31m     tensors = pywrap_tfe.TFE_Py_Execute(ctx._handle, device_name, op_name,\n\u001b[0m\u001b[1;32m     54\u001b[0m                                         inputs, attrs, num_outputs)\n\u001b[1;32m     55\u001b[0m   \u001b[0;32mexcept\u001b[0m \u001b[0mcore\u001b[0m\u001b[0;34m.\u001b[0m\u001b[0m_NotOkStatusException\u001b[0m \u001b[0;32mas\u001b[0m \u001b[0me\u001b[0m\u001b[0;34m:\u001b[0m\u001b[0;34m\u001b[0m\u001b[0;34m\u001b[0m\u001b[0m\n",
            "\u001b[0;31mKeyboardInterrupt\u001b[0m: "
          ]
        }
      ]
    },
    {
      "cell_type": "markdown",
      "source": [
        "Our final, optimized and perfect model"
      ],
      "metadata": {
        "id": "1RkIbMDkiQBB"
      }
    },
    {
      "cell_type": "code",
      "source": [
        "def plot_graphs(history,string):\n",
        "    plt.plot(history.history[string])\n",
        "    plt.plot(history.history['val_'+string])\n",
        "    plt.xlabel(\"Epochs\")\n",
        "    plt.ylabel(string)\n",
        "    plt.legend([string, 'val_'+string])\n",
        "    plt.show()\n",
        "\n",
        "plot_graphs(history, \"accuracy\")\n",
        "plot_graphs(history, \"loss\")"
      ],
      "metadata": {
        "id": "O2bThF_QlzSq"
      },
      "execution_count": null,
      "outputs": []
    },
    {
      "cell_type": "code",
      "source": [
        "y_pred_deep=model.predict(X_test)"
      ],
      "metadata": {
        "id": "5-NrwROhmW-G"
      },
      "execution_count": null,
      "outputs": []
    },
    {
      "cell_type": "code",
      "source": [
        "sns.heatmap(pd.DataFrame(confusion_matrix(y_test,y_pred_deep.round())) , annot=True)"
      ],
      "metadata": {
        "id": "KRtnbeoqm3va"
      },
      "execution_count": null,
      "outputs": []
    },
    {
      "cell_type": "code",
      "source": [
        "print(classification_report(y_test, y_pred_deep.round()))"
      ],
      "metadata": {
        "id": "QTNKUHbgm_kH"
      },
      "execution_count": null,
      "outputs": []
    }
  ]
}